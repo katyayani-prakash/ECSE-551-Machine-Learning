{
  "nbformat": 4,
  "nbformat_minor": 5,
  "metadata": {
    "kernelspec": {
      "display_name": "Python 3",
      "language": "python",
      "name": "python3"
    },
    "language_info": {
      "codemirror_mode": {
        "name": "ipython",
        "version": 3
      },
      "file_extension": ".py",
      "mimetype": "text/x-python",
      "name": "python",
      "nbconvert_exporter": "python",
      "pygments_lexer": "ipython3",
      "version": "3.8.3"
    },
    "colab": {
      "name": "MP-2_ML_Group-4.ipynb",
      "provenance": [],
      "collapsed_sections": []
    }
  },
  "cells": [
    {
      "cell_type": "markdown",
      "metadata": {
        "id": "w8EPNbnikgkx"
      },
      "source": [
        "# **ReadMe:**\r\n",
        "\r\n",
        "Note: Look at each cell for more instruction\r\n",
        "\r\n",
        "1) First, upload the _train.csv_ and _test.csv_ files which will be used for the training and testing pupose of various algorithms.\r\n",
        "\r\n",
        "---\r\n",
        "2) At the start, code of the pre-processing of the data and the divison of the data according to the class it belongs to is present, which can be run for future requirements.\r\n",
        "\r\n",
        "---\r\n",
        "3) Class of _Bernoulli Naive Bayes_ which is developed from scratch and can be  used for the k-fold, and for the training set accuracy calculation.\r\n",
        "\r\n",
        "---\r\n",
        "4) Various Sci-Kit learn Algorithms are implemented, it will generate the accuracy of the test set which has been divided using the _train_test_split_ of Sci-Kit Learn.\r\n",
        "\r\n",
        "---\r\n",
        "5) Various Feature Construction methods are implemented such as Bit Vectorizer, Term Frequency Vectorizer, and TF-IDF; and can be used for experiment purpose.\r\n",
        "\r\n",
        "---\r\n",
        "6) K-fold of all the Sci-Kit Models are performed using the KFold of Sklearn.\r\n",
        "\r\n",
        "---"
      ],
      "id": "w8EPNbnikgkx"
    },
    {
      "cell_type": "markdown",
      "metadata": {
        "id": "07XndusVPBog"
      },
      "source": [
        "This is the main python file for Mini Project-2 of ECSE-551: Machine Learning for Engineers\r\n",
        "- In this code, Bernoulli Naive Bayes is implemented and also other models are tested using the SciKit Learn.\r\n",
        "\r\n",
        "Project made by:     \r\n",
        "1. Aishwarya Ramamurthy (ID: 260963956)\r\n",
        "2. Alok Patel (ID: 260954024)\r\n",
        "3. Katyayani Prakash (ID: 260964511)\r\n"
      ],
      "id": "07XndusVPBog"
    },
    {
      "cell_type": "markdown",
      "metadata": {
        "id": "X788-bJOO885"
      },
      "source": [
        "Uploading the data files for training and testing purpose \r\n",
        "- Just upload the train.csv and test.csv files\r\n"
      ],
      "id": "X788-bJOO885"
    },
    {
      "cell_type": "code",
      "metadata": {
        "id": "after-catholic",
        "colab": {
          "resources": {
            "http://localhost:8080/nbextensions/google.colab/files.js": {
              "data": "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",
              "ok": true,
              "headers": [
                [
                  "content-type",
                  "application/javascript"
                ]
              ],
              "status": 200,
              "status_text": ""
            }
          },
          "base_uri": "https://localhost:8080/",
          "height": 162
        },
        "outputId": "4bbaf91e-6e22-4e53-f545-ce44a8c72b70"
      },
      "source": [
        "# Uploading the data files for training and testing purpose #\n",
        "\n",
        "from google.colab import files \n",
        "import pandas as pd\n",
        "import io\n",
        "import sklearn\n",
        "\n",
        "print(\"Upload train.csv file from your local drive\")   \n",
        "file = files.upload()                                                \n",
        "df = pd.read_csv(io.BytesIO(file['train.csv']),encoding='unicode_escape') \n",
        "\n",
        "print(\"Upload test.csv file from your local drive\")   \n",
        "file = files.upload()                                                \n",
        "df_test = pd.read_csv(io.BytesIO(file['test.csv']),encoding='unicode_escape') "
      ],
      "id": "after-catholic",
      "execution_count": null,
      "outputs": [
        {
          "output_type": "stream",
          "text": [
            "Upload train.csv file from your local drive\n"
          ],
          "name": "stdout"
        },
        {
          "output_type": "display_data",
          "data": {
            "text/html": [
              "\n",
              "     <input type=\"file\" id=\"files-f36f4769-a7dd-4944-aea5-47724a13cba9\" name=\"files[]\" multiple disabled\n",
              "        style=\"border:none\" />\n",
              "     <output id=\"result-f36f4769-a7dd-4944-aea5-47724a13cba9\">\n",
              "      Upload widget is only available when the cell has been executed in the\n",
              "      current browser session. Please rerun this cell to enable.\n",
              "      </output>\n",
              "      <script src=\"/nbextensions/google.colab/files.js\"></script> "
            ],
            "text/plain": [
              "<IPython.core.display.HTML object>"
            ]
          },
          "metadata": {
            "tags": []
          }
        },
        {
          "output_type": "stream",
          "text": [
            "Saving train.csv to train.csv\n",
            "Upload test.csv file from your local drive\n"
          ],
          "name": "stdout"
        },
        {
          "output_type": "display_data",
          "data": {
            "text/html": [
              "\n",
              "     <input type=\"file\" id=\"files-e1932321-b009-42a6-8bce-ec45d4956c78\" name=\"files[]\" multiple disabled\n",
              "        style=\"border:none\" />\n",
              "     <output id=\"result-e1932321-b009-42a6-8bce-ec45d4956c78\">\n",
              "      Upload widget is only available when the cell has been executed in the\n",
              "      current browser session. Please rerun this cell to enable.\n",
              "      </output>\n",
              "      <script src=\"/nbextensions/google.colab/files.js\"></script> "
            ],
            "text/plain": [
              "<IPython.core.display.HTML object>"
            ]
          },
          "metadata": {
            "tags": []
          }
        },
        {
          "output_type": "stream",
          "text": [
            "Saving test.csv to test.csv\n"
          ],
          "name": "stdout"
        }
      ]
    },
    {
      "cell_type": "code",
      "metadata": {
        "id": "SC82ir9xuJAY",
        "colab": {
          "base_uri": "https://localhost:8080/",
          "height": 229
        },
        "outputId": "7907d2fd-39d0-4157-fbbf-017fdfe47828"
      },
      "source": [
        "print(\"A glimpse into train.csv file\\n\")\r\n",
        "df.head()"
      ],
      "id": "SC82ir9xuJAY",
      "execution_count": null,
      "outputs": [
        {
          "output_type": "stream",
          "text": [
            "A glimpse into train.csv file\n",
            "\n"
          ],
          "name": "stdout"
        },
        {
          "output_type": "execute_result",
          "data": {
            "text/html": [
              "<div>\n",
              "<style scoped>\n",
              "    .dataframe tbody tr th:only-of-type {\n",
              "        vertical-align: middle;\n",
              "    }\n",
              "\n",
              "    .dataframe tbody tr th {\n",
              "        vertical-align: top;\n",
              "    }\n",
              "\n",
              "    .dataframe thead th {\n",
              "        text-align: right;\n",
              "    }\n",
              "</style>\n",
              "<table border=\"1\" class=\"dataframe\">\n",
              "  <thead>\n",
              "    <tr style=\"text-align: right;\">\n",
              "      <th></th>\n",
              "      <th>body</th>\n",
              "      <th>subreddit</th>\n",
              "    </tr>\n",
              "  </thead>\n",
              "  <tbody>\n",
              "    <tr>\n",
              "      <th>0</th>\n",
              "      <td>The situation looks gruesome considering that ...</td>\n",
              "      <td>science</td>\n",
              "    </tr>\n",
              "    <tr>\n",
              "      <th>1</th>\n",
              "      <td>Biofuels are good and all but soil degradation...</td>\n",
              "      <td>science</td>\n",
              "    </tr>\n",
              "    <tr>\n",
              "      <th>2</th>\n",
              "      <td>We touched in this in my zoology lectures, and...</td>\n",
              "      <td>science</td>\n",
              "    </tr>\n",
              "    <tr>\n",
              "      <th>3</th>\n",
              "      <td>Counter points:\\n\\nhttps://www.npr.org/2019/07...</td>\n",
              "      <td>science</td>\n",
              "    </tr>\n",
              "    <tr>\n",
              "      <th>4</th>\n",
              "      <td>I get it, Russia's international reputation is...</td>\n",
              "      <td>science</td>\n",
              "    </tr>\n",
              "  </tbody>\n",
              "</table>\n",
              "</div>"
            ],
            "text/plain": [
              "                                                body subreddit\n",
              "0  The situation looks gruesome considering that ...   science\n",
              "1  Biofuels are good and all but soil degradation...   science\n",
              "2  We touched in this in my zoology lectures, and...   science\n",
              "3  Counter points:\\n\\nhttps://www.npr.org/2019/07...   science\n",
              "4  I get it, Russia's international reputation is...   science"
            ]
          },
          "metadata": {
            "tags": []
          },
          "execution_count": 2
        }
      ]
    },
    {
      "cell_type": "code",
      "metadata": {
        "id": "B_b0yuq4sQ-3",
        "colab": {
          "base_uri": "https://localhost:8080/"
        },
        "outputId": "82d1a843-a12b-4434-e352-37d7c4e3ba28"
      },
      "source": [
        "print(\"Unique class labels in this file are: \",df['subreddit'].unique())"
      ],
      "id": "B_b0yuq4sQ-3",
      "execution_count": null,
      "outputs": [
        {
          "output_type": "stream",
          "text": [
            "Unique class labels in this file are:  ['science' 'laptop' 'samsung' 'tennis' 'anime']\n"
          ],
          "name": "stdout"
        }
      ]
    },
    {
      "cell_type": "markdown",
      "metadata": {
        "id": "Ub0l6yswQpzq"
      },
      "source": [
        " Dividing data according to class type"
      ],
      "id": "Ub0l6yswQpzq"
    },
    {
      "cell_type": "code",
      "metadata": {
        "id": "7baBo38S_0ka",
        "colab": {
          "base_uri": "https://localhost:8080/"
        },
        "outputId": "634504e1-0728-4182-dfab-88a445e27127"
      },
      "source": [
        "# Dividing data according to class type\r\n",
        "\r\n",
        "science_thread = df[0:399]\r\n",
        "print(science_thread)\r\n",
        "\r\n",
        "laptop_thread = df[399:799]\r\n",
        "print(laptop_thread)\r\n",
        "\r\n",
        "samsung_thread = df[799:1199]\r\n",
        "print(samsung_thread)\r\n",
        "\r\n",
        "tennis_thread = df[1199:1599]\r\n",
        "print(tennis_thread)\r\n",
        "\r\n",
        "anime_thread = df[1599:2000]\r\n",
        "print(anime_thread)"
      ],
      "id": "7baBo38S_0ka",
      "execution_count": null,
      "outputs": [
        {
          "output_type": "stream",
          "text": [
            "                                                  body subreddit\n",
            "0    The situation looks gruesome considering that ...   science\n",
            "1    Biofuels are good and all but soil degradation...   science\n",
            "2    We touched in this in my zoology lectures, and...   science\n",
            "3    Counter points:\\n\\nhttps://www.npr.org/2019/07...   science\n",
            "4    I get it, Russia's international reputation is...   science\n",
            "..                                                 ...       ...\n",
            "394  By late summer 2020, the resurgence of COVID-1...   science\n",
            "395  i admit to not following very closely, but i d...   science\n",
            "396  When billions of climate refugees start appear...   science\n",
            "397  That doesn't mean it was necessary to execute ...   science\n",
            "398  The real shame in all this is that research in...   science\n",
            "\n",
            "[399 rows x 2 columns]\n",
            "                                                  body subreddit\n",
            "399  Hello,\\n\\nAre you both looking for this? \\n\\n[...    laptop\n",
            "400  Hello everybody, greetings. \\n\\nI am looking f...    laptop\n",
            "401  the Dell has a Quadro, and it's most likely ha...    laptop\n",
            "402  well it would be a start to try and research h...    laptop\n",
            "403  Torn between getting either the Dell XPS 15 or...    laptop\n",
            "..                                                 ...       ...\n",
            "794  Did it make the same sound when the laptop was...    laptop\n",
            "795  So I was planning on purchasing evoo ultra sli...    laptop\n",
            "796  Sorry if this is the wrong place to put this ...    laptop\n",
            "797  I've a Lenovo S540 which is like a quarter or ...    laptop\n",
            "798  \\nSo a friend of mine is selling his hp spectr...    laptop\n",
            "\n",
            "[400 rows x 2 columns]\n",
            "                                                   body subreddit\n",
            "799   Hello everyone, I have a bit of an annoying th...   samsung\n",
            "800   My address but a name of a business located ou...   samsung\n",
            "801    \\n\\nI have the latest beta version of the Goo...   samsung\n",
            "802   Because you probably used mobile data and don'...   samsung\n",
            "803   Yea, that's a nice Gecko and a nice pic. I've ...   samsung\n",
            "...                                                 ...       ...\n",
            "1194  I'm in the market for a new phone. I just want...   samsung\n",
            "1195  Hi I got my A5 off my dad a couple weeks ago a...   samsung\n",
            "1196  Well, I had the S9 upgraded to the S20 FE 5G, ...   samsung\n",
            "1197  Out of curiosity, how are you accidentally pre...   samsung\n",
            "1198  I've had nothing but problems with my phones c...   samsung\n",
            "\n",
            "[400 rows x 2 columns]\n",
            "                                                   body subreddit\n",
            "1199  lol...Milos is still Canada's best male player...    tennis\n",
            "1200  Hey everyone, looking for a little help please...    tennis\n",
            "1201  Q. Please describe the feeling.\\n\\nHsieh Su-we...    tennis\n",
            "1202  At the end of the day, getting to practice on ...    tennis\n",
            "1203  Couple of interesting facts:\\n\\nSinner is now ...    tennis\n",
            "...                                                 ...       ...\n",
            "1594  Tsitsipas - hate his attitude, he's so full of...    tennis\n",
            "1595  Look at the stringing/stringing machines categ...    tennis\n",
            "1596  If anyone can explain how my logic is flawed h...    tennis\n",
            "1597  It's very easy to bet against him this yr tbh....    tennis\n",
            "1598  Her matches are emotional rollercoasters for t...    tennis\n",
            "\n",
            "[400 rows x 2 columns]\n",
            "                                                   body subreddit\n",
            "1599  * Hellsing Ultimate *Alucard, one of the prota...     anime\n",
            "1600  I always think films are a great way to start ...     anime\n",
            "1601  I've recently been getting into anime a bit by...     anime\n",
            "1602  Seems Satoko just doesn't like that kind of li...     anime\n",
            "1603  If you only care about the manga content then ...     anime\n",
            "...                                                 ...       ...\n",
            "1994  Emma has a future in mind of her and Noir runn...     anime\n",
            "1995  Hi Anifreak_X, it seems like you might be look...     anime\n",
            "1996  This guy will need a liver transfer if this ke...     anime\n",
            "1997  I just started watching the anime Tonikawa and...     anime\n",
            "1998  > And while asking, may as well ask what some ...     anime\n",
            "\n",
            "[400 rows x 2 columns]\n"
          ],
          "name": "stdout"
        }
      ]
    },
    {
      "cell_type": "code",
      "metadata": {
        "id": "aUGCNY_MxFui"
      },
      "source": [
        "# Dividing the data into body and its classification type\r\n",
        "\r\n",
        "#print(df)\r\n",
        "Comment = df['body']\r\n",
        "Subreddit = df['subreddit']\r\n",
        "#print(Comment)\r\n",
        "#print(Subreddit)\r\n",
        "\r\n",
        "test_id = df_test['id']\r\n",
        "test_Comment = df_test['body']\r\n",
        "#print(test_id)\r\n",
        "#print(test_Comment)"
      ],
      "id": "aUGCNY_MxFui",
      "execution_count": null,
      "outputs": []
    },
    {
      "cell_type": "markdown",
      "metadata": {
        "id": "tg7E-I0aQuPH"
      },
      "source": [
        "Preprocessing and Characteristics of the Data"
      ],
      "id": "tg7E-I0aQuPH"
    },
    {
      "cell_type": "code",
      "metadata": {
        "id": "RYdfEFhKxIAO",
        "colab": {
          "base_uri": "https://localhost:8080/",
          "height": 190
        },
        "outputId": "1c91c7f4-5610-44a1-b2f0-de486f75adc0"
      },
      "source": [
        "# Preprocessing and Characteristics of the Data\r\n",
        "\r\n",
        "from sklearn.feature_extraction.text import CountVectorizer\r\n",
        "from sklearn.feature_extraction import text\r\n",
        "\r\n",
        "import numpy as np\r\n",
        "import matplotlib.pyplot as plt\r\n",
        "\r\n",
        "#Don't use the STOP Words, as there are several problems in it. {Look at the 6.2 Feature extraction of the scikit learn}\r\n",
        "stopage_words = text.ENGLISH_STOP_WORDS\r\n",
        "\r\n",
        "#binary=True is used for discrete probablistic models tht mode binary events rather than integer counts\r\n",
        "#max_features=3000 will be considered, it will keep the top 3000 highest frequency words\r\n",
        "#In stop_words = stopage_words for removal.\r\n",
        "vectorizer = CountVectorizer(stop_words = None, max_features = None)           \r\n",
        "#print(vectorizer)\r\n",
        "vectors_train = vectorizer.fit_transform(Comment)\r\n",
        "features = vectorizer.get_feature_names()\r\n",
        "print(\"Features: \\n\",features)                          # Feature items list is printed\r\n",
        "print(\"\\nLength of features = \",len(features))          #Length of the feature list\r\n",
        "#print(vectors_train)\r\n",
        "#print(vectors_train.todense())                         #One shot representation\r\n",
        "\r\n",
        "print(\"\\n\\n\")\r\n",
        "'''\r\n",
        "plt.figure(figsize=(5,4))\r\n",
        "fig = df.groupby('subreddit').body.count().plot.bar() #Bar graph stored in the object\r\n",
        "for b in fig.patches:\r\n",
        "  plt.text(b.get_x()+b.get_width()/5,b.get_height(),int(b.get_height()),va='bottom')\r\n",
        "plt.show()\r\n",
        "'''"
      ],
      "id": "RYdfEFhKxIAO",
      "execution_count": null,
      "outputs": [
        {
          "output_type": "stream",
          "text": [
            "Features: \n",
            " ['00', '000', '000inr', '000n', '001', '007', '00am', '00pm', '01', '01004', '01110', '012', '019', '01k009en', '02', '020', '02088', '021', '0261', '03', '03305e43', '0499', '04f6adee', '05', '062', '066', '07', '081', '09', '097in', '099in', '0c04786', '0c4a743960cc', '10', '100', '1000', '100000', '1002', '1003', '10051', '100567028', '100579313', '100579449', '1005g1', '100gb', '100k', '100v', '100x', '101', '1012', '10151', '1016', '1017', '101858977111', '10205989', '1021', '1027', '1029864920981110', '10300h', '1035g1', '1047', '1050', '1050ee', '1050ti', '10510u', '1056', '1060', '1065g7', '107', '1070', '10750h', '1080', '1080p', '10870', '10875h', '108mp', '1093', '10980hk', '10am', '10k', '10plus', '10pm', '10s', '10sfk', '10th', '10tk', '10ux', '10x', '10x3', '11', '110', '1100', '110k', '111', '1115g4', '112153', '1126', '113476', '1135g7', '114307', '114446', '115w', '1165g7', '116700', '116a', '117085', '1172', '1177', '118', '1183', '1186', '11am', '11ax', '11gen', '11hz', '11th', '11thdimension', '12', '120', '1200', '120fps', '120gb', '120hz', '120p1a', '1211', '123', '124555', '128', '128563', '128gb', '12924', '12966503871607446297', '12am', '12gb', '12mb', '12pm', '12wxufyc4ajqs9_3t85rza0bbjxui8dgwyc2xacres0c', '13', '130', '1300', '130ish', '132', '1328793347956334592', '1328830470231126016', '1333', '1356795648641691648', '1357930437293662209', '1357959698234945537', '1366', '1366x768', '139', '13cm', '13inch', '13khtf', '14', '140', '140794', '142gb', '144', '1440p', '144hz', '14742493', '14788024', '148', '1487', '14996750', '14iby', '14th', '15', '150', '1500', '1503', '15067', '150v', '151kb', '152', '15297', '15341', '15350', '154', '1543440', '15467', '15482', '1549027', '1556698', '1556699', '156', '1566184', '1566218', '1567152', '1568488', '1569298', '157', '1571732', '1571977', '1573', '15746', '1584024', '1597794', '1597795', '1597871', '1597877', '15981', '1598977', '1599', '15arr', '15g', '15in', '15inch', '15irh', '15k', '15m', '15s', '15t', '15th', '15w', '16', '160', '1600099', '1601565', '1606844543', '1607892979', '1607893149', '1607969098', '1608659399', '161', '1610102680', '1610105555', '1610335705', '1610544457', '1611368787', '1612026886', '16129355377450', '16446', '1650', '1650ti', '165hz', '1660', '1660ti', '166b3bf9111c', '167', '168', '16gb', '16inch', '16mb', '16oz', '16th', '16xx', '17', '1700', '1716', '176', '17an0xx', '17m', '17th', '18', '180', '180k', '180w', '182', '182781031', '1831', '1878', '18hrs', '19', '190', '1900', '1918', '1919', '1920', '1920x1080', '1931', '1957', '1960', '1960s', '1961', '1964', '1970s', '1972', '1973', '1975', '1977', '1979', '198', '1980', '1980s', '1981', '1982', '1983', '1984', '1985', '1986', '1987', '1988', '1989', '1990', '1990s', '1991', '1993', '1994', '1995', '1996', '1997', '1998', '1999', '19th', '19vf3r9', '1gb', '1has', '1ii', '1ik1vc29lkvp9', '1in', '1k', '1ktr', '1m', '1mm', '1pm', '1rbvhng', '1rx16', '1s4fz13', '1st', '1star', '1svj5ri', '1t', '1tb', '1x2gb', '1x4gb', '20', '200', '2000', '2000cad', '2000s', '2001', '2003', '2005', '2006', '2007', '2008', '2009', '200gb', '200gbs', '200k', '200km', '201', '2010', '2011', '2012', '2013', '2014', '2015', '2016', '2017', '2018', '2019', '2020', '202006am130000003', '202006am240000001', '202007am150000006', '202007am150000007', '202007am150000010', '202007am230000002', '202007am230000013', '202009am100000002', '202009am190000001', '202015', '2021', '2021_australian_open_', '202795', '2048', '20585', '2060', '2070', '2093mhz', '20a', '20and', '20approved', '20as', '20control', '20emoji', '20gaming', '20in', '20more', '20much', '20of', '20over', '20part', '20preferences', '20review', '20senses', '20slow', '20th', '20turtle', '20u', '20various', '20was', '20xx', '20your', '21', '210', '2100', '2101269', '2120', '215', '2163246', '21672841', '21f', '21st', '21ultra', '21x92ut', '22', '2200u', '227', '2276m', '23', '230', '230k', '230w', '239', '239in', '23andme', '23jnzff', '23rd', '24', '240', '2400hz', '2400mhz', '240hz', '240v', '2421885011', '24438399', '24438399_severe_vitamin_d_deficiency_among_heart_and_liver_transplant_recipients', '2450m', '2470954011', '24s', '25', '250', '2500', '250gb', '250nits', '250s', '250v', '251', '253', '254', '25575', '256', '256g', '256gb', '25939', '25th', '25w', '26', '260', '2619', '26377', '2660mhz', '2666', '2666hz', '2666mhz', '2670qm', '26721', '269', '26jo1ivxm3g61', '26th', '27', '272', '27646', '2774102', '2778', '279', '27inch', '27s_doubles', '27s_singles', '27secs', '27th', '28', '280', '2800', '28097', '281q878av', '282020', '2820qm', '28478', '28886', '28ftkn8', '29', '2933mhz', '29367340fcb4b4bc74b68d79a47bcd436fb5d169', '296', '299', '29940a51', '2b', '2b16gb', '2b4800hs', '2b512gb', '2b7', '2blaptop', '2c', '2c183', '2c200', '2c228', '2caps', '2ccomputers', '2cp_72', '2cp_89', '2cp_n_feature_browse', '2cp_n_feature_eleven_browse', '2cp_n_feature_fourteen_browse', '2d', '2dmoving', '2f', '2f02', '2f09', '2f2021', '2f9to5google', '2fa5', '2fsamsung', '2fwww', '2g', '2gb', '2h', '2hour', '2hours', '2hrs', '2in1', '2k', '2mins', '2mm', '2nd', '2seconds', '2tb', '2v', '2vv9tgb', '2wc', '2x', '2x2', '2xl', '30', '300', '3000', '300hz', '300mbps', '305', '3070', '3074457345619623818', '3080', '30f62ea9', '30k', '30mbps', '30mins', '30th', '30w', '30xx', '31', '31593', '317', '32', '320', '3200g', '3200mhz', '32116', '324443100702', '3250u', '32678', '327', '32gb', '32s', '33', '330', '33255', '333', '33540476', '33884', '34', '34524', '35', '350', '35000', '3520m', '3550h', '35677', '3575813', '3585', '359', '35v', '36', '360', '367', '36tb', '37', '3700u', '371', '37338', '3740vs3657', '37kxvmo3cuu', '38', '3840x2160', '385086', '39', '390', '39389', '3a', '3a10', '3a1481781031', '3a20000', '3a21740491031', '3a2470955011', '3a419153031', '3a7472680031', '3a8322506031', '3aanime', '3aanimemod', '3aasus', '3ac9d523f3cf6d014c36413dcd26103c7f314837', '3aracquets', '3asenior', '3atennis', '3d', '3ft', '3fxxrc', '3g', '3gb', '3hx4qh8', '3k', '3mg', '3ohzdoiqinuwcfpdhi', '3pm', '3rd', '3x', '3xl', '3xxx', '40', '400', '4000', '40000', '40026', '400nits', '4032', '40351', '4045', '4057387', '40833', '40964', '40xx', '41', '41006', '4100mah', '41520', '41573', '419152031', '42', '4200m', '4200u', '4210m', '4210u', '4218465', '4234', '42371', '424817605158', '42616', '42899', '42981', '43', '4300mah', '4300u', '43097', '43177', '435', '43515', '43590', '43716', '43791', '4390', '43gb', '44', '4400mah', '44103', '44415', '447098b5507ee5f3ff3539ec223fe6d23967d6d8', '45', '450', '4500u', '45054', '45175', '452', '45344', '45447', '45647', '45729', '45782', '45950', '45th', '46', '4600', '4600h', '4601', '46068', '461', '461k', '46275', '46332', '46347', '465', '4650u', '46603', '46659', '46660', '46913', '46953', '46957', '46d5', '46whr', '47', '4700u', '47250', '47321', '47322', '475', '4750u', '47526', '47573', '47580', '4770k', '47826', '47880', '47884', '47th', '48', '4800h', '4800hs', '480gb', '48252', '48342', '48343', '48618', '48680', '48910', '48953', '48c1', '48hz', '48kbs', '48wh', '49', '490', '4900hs', '49162', '49437', '49444', '49489', '49492', '49755', '49761', '49795', '49797', '49805', '4b79', '4baa', '4cac', '4d78', '4f6d', '4g', '4gb', '4ghz', '4j595jlf4stj11vajlnkk9qzi', '4k', '4lhdvwn', '4months', '4oz', '4th', '4x2', '4xl', '4xxx', '50', '500', '5000', '5002', '50082', '50091', '500gb', '500m2', '500th', '500usd', '50112', '50133', '50136', '50146', '50356', '50389', '50396', '504', '50455', '50457', '50465', '50673', '50697', '50707', '50743', '50745', '50752', '50754', '50g', '50lbs', '50mhz', '50minutes', '50wh', '51', '51004', '51012', '51031', '51045', '51048', '51052', '51054', '51056', '512', '512gb', '512gd', '512j', '51g', '52', '520', '53', '530', '5300u', '533', '536', '5387', '539', '53ag', '53s2', '54', '540', '5400', '5400rpm', '5405', '541', '547', '54n', '55', '550', '5500m', '5500u', '5502', '5505', '550l', '551g', '55ta', '56', '5600m', '5600u', '5656_stitch', '56ch', '57', '573', '574g', '5750', '576g', '5799', '58', '588', '59', '5900', '5900hx', '59157', '595', '5980', '5980hs', '599', '5d', '5df9', '5g', '5gb', '5ghz', '5h', '5i', '5in', '5ish', '5k', '5mg', '5mm', '5p', '5r34y72fz5kp', '5tb', '5th', '5v', '5w', '5x', '5xxx', '60', '600', '602', '605', '606', '607', '60fps', '60ghz', '60hz', '60k', '60t', '60wh', '61', '6103179', '612', '62', '620', '6231', '627', '63', '630', '6300u', '633', '6367802', '64', '640', '6406695', '6418603', '6420', '642716', '6427161', '6428660', '6428666', '6429424', '6432551', '6432553', '6441104', '6444336', '64gb', '64kbs', '64mp', '65', '650', '650m', '6529', '65k', '65w', '65watt', '66', '664', '66gb', '66mhz', '67', '6700hq', '6700q', '6799', '68', '680', '6888', '69', '69gb', '6cores', '6dcae821', '6gb', '6ghz', '6h', '6ih3lvr', '6inch', '6mokr1h', '6oz', '6s', '6series', '6t', '6th', '6xjhfw', '70', '700', '7000', '70000', '700watts', '70ghz', '70k', '70mbps', '70np', '70s', '70z5', '71', '710', '71rd', '72', '720', '7200', '7200rpm', '720p', '72g', '73', '7326', '74', '7400', '745731839', '74ob', '74v2', '75', '750', '7500', '750gbp', '758', '7590290011', '75g', '75k', '76', '760p', '761', '768', '77', '7700', '7700h', '7700hq', '77225', '775', '77p9', '78', '780', '783', '79', '797', '799', '79c', '79fs', '7am', '7cacid', '7cadp', '7cagid', '7ccid', '7ccrid', '7cdvc', '7cloc', '7cmt', '7cnw', '7crnd', '7ctid', '7fbf2b6c8010', '7gb', '7ghz', '7i', '7mm', '7news', '7nm', '7pm', '7t', '7th', '7wwc0r9', '80', '800', '8000mb', '802', '804', '80eus', '80fps', '80k', '80s', '80w', '80wh', '81', '8130u', '816593', '81749', '81tc000qus', '82', '820', '8250u', '82670', '82b1000aus', '83', '8322504031', '838', '83ghz', '84', '840m', '84305559', '8433812ec2564ef6cfff40f09e1415f767e7cdf5', '846d7ddb9d40feee478ecbb599aec819', '85', '850', '855', '857309034', '859', '85c', '85k', '86', '865', '86c', '87', '875', '8750h', '876', '8764348', '88', '888', '88gmy701410', '89', '8940', '896', '8a', '8f1edd4a62018bcad9afd151981328ab322f76a3', '8g', '8gb', '8ghz', '8h', '8hrs', '8hxayjqu64o', '8k', '8mb', '8oz', '8qkb1e1ck4g61', '8th', '8xbw9g3z71f1', '90', '900', '900k', '9046324', '9082', '90s', '90w', '91', '916c', '92', '92wh', '93', '9300h', '9300hf', '9300u', '9310', '9360', '9370', '9380', '93_men', '93_mixed_doubles', '93_women', '93scxr', '94', '9489b6182e0a', '949', '9494', '95', '950', '9500', '9535', '9544', '96', '9606825325', '960m', '9626', '96fm', '97', '970', '9700', '9716584', '9750h', '97c8', '98', '980', '98gb', '98opmzt', '99', '991950981735', '999', '99gb', '9am', '9d', '9ee9', '9ff3921f8558', '9ghz', '9i', '9now', '9owg4ro', '9oz', '9th', '9to5google', '9wfnszy', '9x', '9yf35av', '_1', '_2', '_25', '_4', '_5017pe', '_______', '_________________________', '__ffn_sectitle', '_air', '_among', '_and', '_based', '_batteries', '_brcxarisanmx4s7gmctdsek7d9hr19rz7pdg7vfhif', '_browse', '_channel', '_compatibility', '_cr', '_d', '_deficiency', '_encoding', '_feature', '_heart', '_lithium', '_liver', '_macbook', '_n', '_prolong', '_recipients', '_rfb', '_sb', '_severe', '_sharknado_', '_sims', '_tit', '_to', '_transplant', '_vitamin', '_wcb', '_wdg', 'a10ras', 'a10sc', 'a11x', 'a12', 'a120a010l', 'a14', 'a15', 'a17602', 'a18489', 'a2', 'a3', 'a317', 'a4', 'a41', 'a43sv', 'a47070', 'a4rhzgo', 'a5', 'a50219', 'a51', 'a515', 'a52', 'a6', 'a71', 'a715', 'a74d8886', 'a7iii', 'aa', 'aaa', 'aac', 'aarhus', 'ab', 'ab51', 'ab71', 'ab_channel', 'aba', 'abandoned', 'abc', 'abdomen', 'abducted', 'abe8372', 'abe9510', 'abf3363', 'abide', 'abilities', 'ability', 'abit', 'abl', 'abl8tbthe', 'ablative', 'able', 'abortion', 'abortions', 'about', 'abouyt', 'above', 'abroad', 'abruptly', 'abs', 'absence', 'absent', 'absolute', 'absolutely', 'absorbances', 'absorbed', 'absorption', 'abstain', 'abstract', 'abstracts', 'absurd', 'abt', 'abu', 'abundance', 'abundant', 'abuse', 'abused', 'abusing', 'abusive', 'abusiveness', 'abyss', 'ac', 'aca', 'acad', 'academia', 'academic', 'academics', 'academy', 'acampid', 'acaricides', 'accelerate', 'accelerated', 'acceleration', 'accelerator', 'accelerators', 'accelerometer', 'accent', 'accents', 'accept', 'acceptable', 'accepted', 'accepting', 'accepts', 'access', 'accessed', 'accessibility', 'accessible', 'accessing', 'accessories', 'accidental', 'accidentally', 'accidently', 'accidents', 'acclaim', 'acclimate', 'accommodate', 'accommodating', 'accomodates', 'accompanied', 'accomplish', 'accomplished', 'accomplishments', 'accordance', 'according', 'accordingly', 'account', 'accountable', 'accountant', 'accounted', 'accounts', 'accubattery', 'accumulate', 'accumulating', 'accumulation', 'accuracy', 'accurate', 'accurately', 'accuse', 'accused', 'accusing', 'accustomed', 'ace', 'acer', 'acer_nx_c5xaa_001_conceptd_3_cn315_72g_70np_10g_i7_10750h_16gb_1tb_ssd_15_6', 'acer_nx_hs5aa_004_aspire_3_core_i5_1035g1', 'acers', 'aces', 'achievable', 'achieve', 'achieved', 'achievement', 'achievements', 'achieving', 'acid', 'acidently', 'acidification', 'acidity', 'acids', 'acknowledge', 'acknowledged', 'acknowledgement', 'acknowledges', 'acknowledging', 'acpjournals', 'acquaintance', 'acquire', 'acquires', 'acrnm', 'acrobatic', 'acrobatics', 'across', 'acs', 'act', 'actally', 'acting', 'action', 'actions', 'activate', 'activated', 'activation', 'active', 'active2', 'actively', 'activetab', 'activities', 'activity', 'actor', 'acts', 'actual', 'actually', 'acute', 'ad', 'ad4', 'ad9x6hg', 'adachi', 'adam', 'adams', 'adapt', 'adaptable', 'adaptation', 'adapted', 'adapter', 'adapters', 'adapting', 'adaption', 'adaptions', 'adaptive', 'adaptor', 'adb', 'adblockers', 'add', 'added', 'addict', 'addictive', 'adding', 'addition', 'additional', 'additionally', 'additives', 'address', 'addressed', 'adds', 'adelaide', 'adenovirus', 'adhd', 'adhere', 'adhesive', 'adina', 'adjunct', 'adjust', 'adjusted', 'adjusting', 'adjuvant', 'admin', 'administered', 'administration', 'administrative', 'administrators', 'admirable', 'admire', 'admired', 'admission', 'admissions', 'admit', 'admits', 'admitted', 'admittedly', 'adobe', 'adopted', 'adoptees', 'adoption', 'adorable', 'adria', 'ads', 'adu', 'adult', 'adulteration', 'adulthood', 'adults', 'advance', 'advanced', 'advances', 'advancing', 'advantage', 'advantages', 'advent', 'adventure', 'adverse', 'adversity', 'advert', 'advertising', 'adverts', 'advice', 'advise', 'ae', 'aerial', 'aero', 'aesthetic', 'aesthetics', 'af', 'afaik', 'affect', 'affected', 'affecting', 'affects', 'affiliate', 'affiliation', 'affiliations', 'affirmative', 'afford', 'affordable', 'afl', 'aforementioned', 'afraid', 'africa', 'african', 'after', 'aftermath', 'afternoon', 'afterthought', 'afterwards', 'aftter', 'again', 'against', 'agassi', 'age', 'aged', 'agencies', 'agency', 'agent', 'ages', 'aggravating', 'aggregated', 'aggression', 'aggressive', 'aggressively', 'aging', 'ago', 'agree', 'agreed', 'agreeing', 'agreement', 'agreements', 'agrees', 'agricultural', 'agriculture', 'agrp', 'agu', 'agut', 'ah', 'ah77', 'ahare', 'ahead', 'ahem', 'ahhh', 'ahiri', 'ai', 'aid', 'aight', 'aim', 'aimed', 'aiming', 'aimless', 'aimlessly', 'aimp', 'ain', 'aint', 'air', 'airbnb', 'aired', 'aires', 'airheads', 'airing', 'airplane', 'airpods', 'airs', 'airtime', 'aisle', 'aix', 'aka', 'akagami', 'akame', 'akatsuki', 'aki', 'akin', 'al', 'al150t', 'al318t', 'alabasta', 'alarmingly', 'alarms', 'alas', 'albatrosses', 'albeit', 'albot', 'album', 'albumin', 'albums', 'alcaraz', 'alchemist', 'alcohol', 'alcoholic', 'alcoholics', 'alcoholism', 'alcott', 'alejandro', 'alert', 'alexa', 'alexander', 'alexandrova', 'alexei', 'alge', 'algorithm', 'aliasing', 'aliassime', 'alice', 'alien', 'alienating', 'alienation', 'alienware', 'align', 'alive', 'alja', 'all', 'allegations', 'alleged', 'allergy', 'allertova', 'alleviated', 'alleviates', 'alliance', 'allied', 'allies', 'allocation', 'allow', 'allowed', 'allowing', 'allows', 'ally', 'almeida', 'almost', 'alon', 'alone', 'along', 'alongside', 'alot', 'alpha', 'alphanumeric', 'already', 'alright', 'also', 'alt', 'altavista', 'altee', 'alter', 'alterations', 'altercation', 'altered', 'altering', 'alternate', 'alternative', 'alternatively', 'alternatives', 'althoufh', 'although', 'altogether', 'alu', 'alucard', 'always', 'alyssa', 'alzheimer', 'am', 'am7', 'amateur', 'amateurs', 'amaz', 'amazed', 'amazing', 'amazingly', 'amazon', 'ambassador', 'ambient', 'ambiguity', 'ambition', 'ambitions', 'ambitious', 'ambitshop', 'ambos', 'ambush', 'amd', 'amdlaptops', 'ameliorate', 'amendments', 'america', 'american', 'americans', 'americas', 'amfilm', 'amid', 'amino', 'ammo', 'amnesia', 'amol', 'among', 'amongst', 'amos', 'amount', 'amounts', 'amp', 'amp_gsa', 'amp_js_v', 'amp_tf', 'amphetamines', 'ample', 'amplified', 'amplifying', 'amplitude', 'ampproject', 'ampshare', 'amused', 'amusing', 'amv', 'amygdala', 'an', 'an515', 'an517', 'ana', 'analog', 'analogies', 'analysed', 'analyses', 'analysis', 'analytica', 'analytically', 'analyze', 'analyzed', 'analyzes', 'analyzing', 'anandtech', 'anarchists', 'anc', 'ancestor', 'ancient', 'and', 'andersen', 'anderson', 'andre', 'andrea', 'andreescu', 'android', 'andujar', 'andy', 'anecdotal', 'anecdotally', 'anecdote', 'anecdotes', 'aneurysm', 'ang', 'ange', 'angel', 'angela', 'angelique', 'angels', 'anger', 'angle', 'angled', 'angles', 'anglophone', 'angrily', 'angry', 'angrypup', 'ani', 'anidb', 'anifreak_x', 'aniki', 'anilist', 'animal', 'animals', 'animate', 'animated', 'animatedthink', 'animation', 'animations', 'animator', 'animators', 'anime', 'animedb', 'animefillerlist', 'animelab', 'animes', 'animus', 'aniplex', 'ankle', 'ann', 'anna', 'annals', 'announce', 'announced', 'announcement', 'announcing', 'annoyance', 'annoyed', 'annoying', 'annual', 'annualized', 'ano', 'anohana', 'anomalous', 'anonymity', 'another', 'answer', 'answered', 'answers', 'antagonist', 'antagonized', 'ante', 'antecedents', 'anteiku', 'antenna', 'anti', 'antibiotic', 'antibodies', 'antibody', 'anticipated', 'anticipation', 'anticoagulant', 'antics', 'antigenic', 'antigens', 'antineoplastic', 'antiquity', 'antisocial', 'antistatic', 'antiviral', 'antivirus', 'ants', 'antutu', 'antwerp', 'anxieties', 'anxiety', 'anxious', 'anxiously', 'any', 'anybody', 'anymore', 'anyone', 'anything', 'anytime', 'anyway', 'anyways', 'anywhere', 'ao', 'aoh', 'aoi', 'aoradio', 'aoradio_a', 'aoradio_b', 'aoradio_c', 'aorus', 'aos', 'aot', 'apart', 'apartment', 'ape', 'apear', 'apell', 'aperture', 'apex', 'api', 'apocalypse', 'apocalyptic', 'apologies', 'apologised', 'apologize', 'app', 'apparent', 'apparently', 'appdetail', 'appeal', 'appealing', 'appeals', 'appear', 'appearance', 'appearances', 'appeared', 'appearing', 'appears', 'apperciate', 'appetite', 'appid', 'apple', 'appliance', 'application', 'applications', 'applied', 'appliedrefinements', 'applies', 'apply', 'applying', 'appointment', 'appquery', 'appreciate', 'appreciated', 'apprehensive', 'approach', 'approaches', 'appropriate', 'appropriately', 'approval', 'approved', 'approves', 'approx', 'approximate', 'approximately', 'apps', 'april', 'apron', 'apu', 'apus', 'aqours', 'arabic', 'araragi', 'arbitrary', 'arc', 'archaic', 'archeological', 'archer', 'archetype', 'architecture', 'archive', 'archived', 'archives', 'archiving', 'arcs', 'arcuate', 'are', 'are_there_any_good_romance_animes_on_netflix', 'area', 'areas', 'aren', 'arena', 'arent', 'arevalo', 'argentina', 'argos', 'arguably', 'argue', 'argued', 'arguing', 'argument', 'arguments', 'arise', 'arkansas', 'arlong', 'arm', 'armed', 'armor', 'armory', 'armour', 'arms', 'army', 'around', 'arousal', 'arranged', 'array', 'arrest', 'arrested', 'arrests', 'arrive', 'arrived', 'arrives', 'arrogant', 'arrow', 'arsenal', 'art', 'artefact', 'arthritis', 'artic', 'article', 'articles', 'artificial', 'artist', 'artists', 'artstyle', 'artwork', 'arxiv', 'aryna', 'as', 'as_li_ss_tl', 'asap', 'asbellt', 'asbjørn', 'asc', 'ascendance', 'ascending', 'ascends', 'ascertain', 'ash', 'ashamed', 'ashita', 'ashleigh', 'asia', 'asian', 'aside', 'ask', 'asked', 'asking', 'asks', 'aslan', 'asleep', 'aspect', 'aspects', 'aspettavo', 'aspire', 'aspire7', 'aspired', 'ass', 'assailant', 'assassin', 'assassination', 'assaulted', 'assay', 'assays', 'assembled', 'assertion', 'asses', 'assesment', 'assess', 'assessed', 'assesses', 'assets', 'asshole', 'assholes', 'assign', 'assigned', 'assimilation', 'assist', 'assistant', 'assistants', 'assisted', 'associate', 'associated', 'association', 'associations', 'assume', 'assumed', 'assumes', 'assuming', 'assumingly', 'assumption', 'assumptions', 'assurion', 'ast', 'astarotte', 'astounding', 'astra', 'astro', 'astrophysicists', 'asuka', 'asus', 'asus_f512da_eb51_ryzen_5_3500u_4gb_256gb_ssd_vega_8_windows', 'asus_f512da_rs51_vivobook_amd_r5_3500u_8gb', 'asus_ux363ea_xh71t_13_3_fhd_i7_1165g7_16gb_lpddr4x_512gb_pcie', 'asus_ux371ea_xh77t_13_3_uhd_i7_1165g7_16gb_lpddr4x_1tb_pcie', 'asvnibb', 'aswell', 'asymmetric', 'asymmetry', 'asymptomatic', 'at', 'atg', 'athlete', 'athletes', 'athletic', 'athleticism', 'athlon', 'atlantic', 'atlantis', 'atleast', 'atlee', 'atm', 'atmos', 'atmosphere', 'atoms', 'atp', 'atptour', 'atrocity', 'att', 'attach', 'attached', 'attaches', 'attack', 'attacked', 'attacking', 'attacks', 'attempt', 'attempting', 'attempts', 'attend', 'attendance', 'attended', 'attending', 'attention', 'attest', 'attitude', 'attitudes', 'attorneys', 'attract', 'attractive', 'attributable', 'attribute', 'attributed', 'attributes', 'attrition', 'au', 'auc', 'auction', 'aud', 'audacity', 'audible', 'audience', 'audio', 'audiosystem', 'aug', 'auger', 'augment', 'august', 'augusta', 'aunt', 'aura', 'aurora', 'aus', 'ausopen', 'aussie', 'aussies', 'australia', 'australian', 'australianopen', 'australians', 'austrian', 'authentic', 'authenticate', 'author', 'authored', 'authorised', 'authoritarian', 'authorities', 'authority', 'authorized', 'authors', 'autism', 'auto', 'autocad', 'autofocus', 'automate', 'automated', 'automatic', 'automatically', 'automaticaly', 'automation', 'automobile', 'autopilot', 'autumns', 'autònoma', 'aux', 'availability', 'available', 'avast', 'avatar', 'average', 'averse', 'aversion', 'avert', 'averted', 'avg', 'avichai', 'avid', 'avocado', 'avoid', 'avoidable', 'avoidance', 'avoided', 'avoids', 'aw', 'awake', 'award', 'awarded', 'aware', 'awareness', 'awas', 'away', 'awe', 'awesome', 'awful', 'awhile', 'awkward', 'awosome', 'awry', 'aww', 'ax', 'ax200', 'ax201', 'axe', 'ay011nr', 'azarenka', 'azrielsekhmet', 'b01m08lcxw', 'b01m0aadix', 'b01m5fp9l1', 'b06xwrrmyx', 'b075l9629h', 'b07rj1gxhq', 'b082p7xwmn', 'b083ccrr5w', 'b085b3gfrl', 'b086kjcjdm', 'b0877lgcs6', 'b087z9vxcq', 'b0892wh42d', 'b08bb9rwxd', 'b08bljg4v8', 'b08bwm2qqz', 'b08ftgg3np', 'b08jyyz9zt', 'b08kh53nkr', 'b08m4t2c7j', 'b08mx87jcw', 'b08nv2bhn7', 'b08rctfs6v', 'b100', 'b15', 'b1e3', 'b20', 'b5224', 'b5330', 'b6ttker', 'b776', 'b_2_38', 'b_2_40', 'b_2_48', 'b_3_66', 'b_3_69', 'b_3_71', 'b_4_76', 'babied', 'babies', 'babolat', 'baby', 'babying', 'baccano', 'bachelor', 'back', 'backarrow', 'backdrop', 'backed', 'backfired', 'background', 'backgrounds', 'backhand', 'backhands', 'backlash', 'backlight', 'backlit', 'backordered', 'backpack', 'backside', 'backstory', 'backup', 'backups', 'backwards', 'bacon', 'bacteria', 'bad', 'badass', 'badly', 'baena', 'baffles', 'bag', 'bagel', 'bagels', 'baghdatis', 'bail', 'bailing', 'baird', 'bakarina', 'bake', 'baked', 'bakemonogatari', 'baki', 'bakugan', 'bakuman', 'balance', 'balanced', 'balazs', 'balk', 'balkans', 'ball', 'ballers', 'balls', 'balms', 'bamboo', 'ban', 'banana', 'bananya', 'band', 'bandanas', 'bands', 'bang', 'bank', 'banked', 'bankruptcy', 'banks', 'banned', 'banner', 'bans', 'bar', 'bara', 'barbara', 'barbershop', 'barcelona', 'barcoding', 'bare', 'barely', 'bares', 'barrier', 'barty', 'baruch', 'basal', 'base', 'baseball', 'based', 'basel', 'baseline', 'baseliner', 'baseliners', 'basement', 'bases', 'bashing', 'basic', 'basically', 'basics', 'basis', 'basket', 'basketball', 'bass', 'basses', 'bastard', 'bat', 'batch', 'batches', 'bathroom', 'batman', 'baton', 'bats', 'batson', 'batted', 'batter', 'batteries', 'batters', 'battery', 'batterylife', 'batteryuniversity', 'battle', 'battled', 'battlefront', 'battler', 'bautista', 'bay', 'bayern', 'bays', 'bb', 'bb7e5e43c776348d4327b16c85d7cd1e79c38b99', 'bbc', 'bc', 'bcoz', 'bd', 'be', 'beach', 'beaches', 'bead', 'beans', 'bear', 'bearable', 'beard', 'bearing', 'beast', 'beastars', 'beat', 'beaten', 'beater', 'beating', 'beats', 'beautiful', 'beauty', 'bebop', 'became', 'becaome', 'because', 'becessity', 'bechdel', 'becker', 'become', 'becomes', 'becoming', 'becuase', 'bed', 'bedene', 'beds', 'bedtime', 'bee', 'been', 'beep', 'beers', 'bees', 'beethoven', 'before', 'beforehand', 'befriended', 'befriending', 'began', 'beggars', 'begin', 'beginner', 'beginners', 'beginning', 'begins', 'behave', 'behaves', 'behaving', 'behavior', 'behavioral', 'behaviors', 'behaviour', 'behind', 'beholder', 'beijing', 'being', 'beings', 'belgian', 'belgrade', 'belief', 'beliefs', 'believable', 'believe', 'believed', 'believes', 'believing', 'bellicose', 'bellow', 'bells', 'belong', 'belonged', 'beloved', 'below', 'belt', 'ben', 'bench', 'benchmark', 'benchmarks', 'bencic', 'beneficial', 'benefit', 'benefited', 'benefits', 'benign', 'benoit', 'bent', 'berdych', 'berkeley', 'bern', 'bernard', 'bernie', 'berretini', 'berrettini', 'berserk', 'beside', 'besides', 'best', 'bestbuy', 'besting', 'bestlaptopsdeal', 'bet', 'beta', 'betrayal', 'better', 'betterremarkablebarasinga', 'betting', 'between', 'beware', 'beyond', 'bezel', 'bezels', 'bgfxfcl', 'bhphotovideo', 'bi', 'bianca', 'biancotto', 'bias', 'biased', 'biases', 'bib', 'bibi', 'biblical', 'bickering', 'biden', 'big', 'bigger', 'biggest', 'bigotry', 'bike', 'bikini', 'bilibili', 'bilieve', 'bilingual', 'bill', 'billbine', 'billing', 'billion', 'billions', 'bin', 'binaghi', 'binaries', 'binding', 'binge', 'binged', 'bingeworthy', 'bins', 'bio', 'biobank', 'biochemical', 'biodiesel', 'biodiesels', 'biodiversity', 'biofuels', 'biography', 'biol', 'biological', 'biology', 'biomass', 'biomedcentral', 'biomedical', 'biomes', 'biometric', 'biometrics', 'biopsy', 'bios', 'biosignaling', 'biosystems', 'biota', 'bipartisan', 'bird', 'birds', 'birth', 'birthday', 'birthed', 'birthmark', 'bisexual', 'bit', 'bitch', 'bites', 'biting', 'bits', 'bitter', 'bittersweet', 'bixby', 'biz', 'bizarre', 'bjsm', 'black', 'blacksmith', 'blade', 'blades', 'blame', 'blaming', 'bland', 'blank', 'blanket', 'blast', 'blasts', 'blatant', 'blazing', 'bleach', 'bleaching', 'blend', 'blender', 'blending', 'blessed', 'blew', 'blind', 'blinded', 'blindly', 'blistering', 'bloat', 'bloatware', 'block', 'blockbuster', 'blocker', 'blockers', 'blocking', 'blocks', 'blog', 'blogs', 'blogspot', 'blood', 'bloodbath', 'blooded', 'bloody', 'bloom', 'blow', 'blowing', 'blown', 'blu', 'blud', 'blue', 'bluejetyt', 'blues', 'bluestone', 'bluetooth', 'blunt', 'blunted', 'blur', 'bluriness', 'blurry', 'blurryturtle', 'bm701ts', 'bmj', 'bo5', 'board', 'boarderline', 'boast', 'boasts', 'boat', 'bob', 'bobbie', 'bobblehead', 'bocs', 'bodies', 'body', 'bodybuilding', 'bodysnatcher', 'bofuri', 'bogan', 'bogdan', 'bogglingly', 'boi', 'boil', 'boils', 'bois', 'bold', 'bolkhovitinov', 'bolstered', 'bolt', 'bomb', 'bombing', 'bombs', 'bommelding', 'bone', 'boneheaded', 'boner', 'bonobo', 'bonobos', 'bonus', 'boobs', 'booed', 'book', 'bookended', 'books', 'bookworm', 'boom', 'boomers', 'boost', 'boosted', 'booster', 'boot', 'bootcamp', 'booted', 'booting', 'bootloops', 'boots', 'bootup', 'booze', 'boozy', 'border', 'borderline', 'borders', 'bore', 'bored', 'boring', 'boris', 'born', 'boruto', 'boson', 'boss', 'bosses', 'bot', 'botanist', 'both', 'bother', 'bothered', 'bothering', 'bots', 'bottle', 'bottlenecked', 'bottles', 'bottling', 'bottom', 'bought', 'bounce', 'bounces', 'bound', 'boundary', 'bounding', 'bouskova', 'bouts', 'bouzkova', 'bow', 'bows', 'box', 'boxes', 'boy', 'boyfriend', 'boyfriends', 'boys', 'bp', 'braaeiwauwvggosa3vlw', 'braasch', 'bracket', 'brackets', 'brad', 'bradbury', 'brady', 'bragging', 'brain', 'brainlessly', 'brains', 'brand', 'branded', 'branding', 'brands', 'brav', 'brave', 'brawlers', 'bread', 'break', 'breaker', 'breakfast', 'breaking', 'breaks', 'breakthroughs', 'breast', 'breath', 'breathe', 'breathing', 'breed', 'breeze', 'breezed', 'brenner', 'brevity', 'brick', 'bride', 'bridgette', 'brief', 'briefly', 'bright', 'brighter', 'brightness', 'briheight', 'brill', 'brilliance', 'brilliant', 'brilliantly', 'bring', 'bringing', 'brings', 'brink', 'british', 'bro', 'broad', 'broadcast', 'broadcasts', 'broaden', 'broader', 'broke', 'broken', 'broomsticks', 'bros', 'brother', 'brotherhood', 'brothers', 'brought', 'brow', 'brown', 'browse', 'browser', 'browsing', 'bruce', 'bruh', 'brush', 'brushed', 'brushing', 'brutal', 'brutally', 'brute', 'bs', 'bs76', 'bslay', 'bsod', 'bss', 'bt', 'btidnn8', 'btw', 'bub', 'bubble', 'bubbles', 'bubbly', 'bublik', 'buck', 'bucket', 'bucks', 'bud', 'buddies', 'budget', 'buds', 'buenos', 'buff', 'bug', 'bugging', 'buggy', 'bugs', 'build', 'builders', 'building', 'buildings', 'builds', 'built', 'bulgaria', 'bulged', 'bulky', 'bullet', 'bullied', 'bullsheet', 'bullshit', 'bullying', 'bummed', 'bummer', 'bumming', 'bump', 'bumps', 'bunch', 'bundle', 'bundled', 'bungou', 'bunny', 'bunnygirl', 'burden', 'burdening', 'bureau', 'bureaucratic', 'burn', 'burned', 'burning', 'burns', 'burnt', 'bursting', 'bursts', 'bus', 'bush', 'bushido', 'busier', 'business', 'busta', 'busted', 'busts', 'busy', 'but', 'butter', 'buttered', 'buttery', 'button', 'buttonless', 'buttons', 'buy', 'buybacks', 'buying', 'buys', 'bweh', 'bwi3jhk', 'bxspkpa', 'by', 'byakuya', 'byleth', 'byong', 'bytes', 'c06956194', 'c0debl0cker', 'c3', 'c32hg70', 'c640', 'c65dc5a066c1', 'c660', 'c740', 'c89821f3', 'c930', 'ca', 'cabal', 'cabernet', 'cabinet', 'cable', 'cables', 'cablesthe', 'cache', 'cad', 'caddy', 'cadmium', 'caffeinated', 'caffeine', 'cahill', 'caillou', 'cain', 'caine', 'cake', 'cakewalk', 'calculate', 'calculated', 'calculations', 'calculator', 'calendar', 'caliber', 'calibration', 'calibre', 'california', 'call', 'called', 'caller', 'calling', 'calls', 'calm', 'calming', 'calories', 'calves', 'cam', 'cambridge', 'came', 'camellia', 'camera', 'cameras', 'camp', 'campaign', 'campaigns', 'campers', 'campgrounds', 'camping', 'camps', 'campus', 'cams', 'can', 'can_anyone_help', 'canada', 'canadian', 'canadians', 'canberra', 'cancel', 'canceled', 'cancellation', 'cancelled', 'cancels', 'cancer', 'cancers', 'candia', 'candidate', 'candidates', 'candle', 'candy', 'cannabis', 'cannibals', 'cannon', 'cannot', 'canon', 'cant', 'canton', 'cantonal', 'cap', 'capabilities', 'capability', 'capable', 'capacity', 'cape', 'capella', 'capital', 'capitalized', 'capitol', 'capped', 'capriati', 'capsule', 'capsules', 'capsulotomy', 'captain', 'capture', 'captured', 'capturing', 'car', 'carayol', 'carballes', 'carbon', 'carcinomas', 'card', 'cardboard', 'cardboards', 'cardcaptor', 'cardi', 'cardiometabolic', 'cards', 'care', 'cared', 'career', 'careers', 'careful', 'carefully', 'cares', 'carillion', 'caring', 'carl', 'carlitos', 'carole', 'carolina', 'carpenters', 'carreno', 'carreño', 'carried', 'carrier', 'carriers', 'carry', 'carrying', 'cars', 'cart', 'cartoon', 'caruso', 'carved', 'carving', 'case', 'cased', 'caseless', 'cases', 'cash', 'cashback', 'cast', 'castle', 'casts', 'casual', 'casual_discussion_fridays_week_of_february_05_2021', 'casual_discussion_fridays_week_of_january_29_2021', 'cat', 'catalogid', 'catalogue', 'catastrophe', 'catbox', 'catch', 'catcher', 'catches', 'catchphrase', 'categories', 'categorised', 'categorization', 'categorizations', 'categorized', 'category', 'catentryid', 'cats', 'caught', 'causal', 'causation', 'cause', 'caused', 'causes', 'causing', 'cauthor_id', 'caution', 'cautious', 'cautiously', 'cave', 'cayenne', 'cbt', 'cc', 'ccswe', 'cd4', 'cd8', 'cdc', 'cdf', 'cdn', 'cee04cd4b56bc3e76d5306ee8239f546cc61981c', 'celebrate', 'celebrates', 'celebrities', 'celebrity', 'celestial', 'cell', 'cellphone', 'cells', 'cellular', 'cellulose', 'celsius', 'censorship', 'cent', 'center', 'centimeters', 'central', 'centrally', 'centre', 'centres', 'centric', 'cents', 'centuries', 'century', 'ceo', 'ceocompensation', 'ceos', 'cepat', 'certain', 'certainly', 'certainty', 'certificate', 'certificates', 'certifications', 'certified', 'cervical', 'ces', 'cezanne', 'cfa', 'cg', 'cgi', 'chad', 'chaika', 'chain', 'chains', 'chair', 'chalk', 'challenge', 'challenged', 'challengers', 'challenges', 'challenging', 'champ', 'champagne', 'champion', 'championing', 'championship', 'chan', 'chance', 'chances', 'chang', 'change', 'changed', 'changeover', 'changer', 'changes', 'changing', 'channel', 'channels', 'chaos', 'chaotically', 'chapter', 'chapters', 'character', 'characteristic', 'characteristics', 'characterization', 'characters', 'chardy', 'charge', 'charged', 'charger', 'chargers', 'charges', 'charging', 'charicter', 'charismatic', 'charities', 'charity', 'charlestone', 'charlotte', 'charm', 'charmingly', 'chart', 'chases', 'chasis', 'chassis', 'chat', 'chats', 'che', 'cheap', 'cheapass', 'cheaper', 'cheapest', 'cheapish', 'cheapo', 'cheat', 'cheating', 'check', 'checked', 'checking', 'checkout', 'cheer', 'cheering', 'cheers', 'cheery', 'cheese', 'cheetos', 'chef', 'chemical', 'chemically', 'chemistry', 'cheques', 'cherry', 'chess', 'chest', 'cheung', 'chew', 'chewed', 'chewing', 'chiaki', 'chick', 'chicken', 'chief', 'chika', 'chikuwa', 'child', 'childhood', 'children', 'chill', 'chilling', 'chills', 'chime', 'chimp', 'chimpanzees', 'chimps', 'china', 'chinese', 'chip', 'chipmunk', 'chips', 'chipsets', 'chisaki', 'chldren', 'chobits', 'chocolate', 'chocolates', 'choi', 'choice', 'choices', 'choir', 'choke', 'choking', 'choose', 'choosers', 'choosing', 'chord', 'choreography', 'chose', 'chosen', 'choyoyu', 'chris', 'christ', 'christmas', 'chroma', 'chrome', 'chromebook', 'chromeos', 'chronic', 'chronological', 'chucking', 'chung', 'chunk', 'chunks', 'chunky', 'chuukan_kanriroku_tonegawa', 'chuuni', 'ci', 'cia', 'cigarette', 'cilic', 'cinematic', 'cingulotomy', 'cinnamon', 'circa', 'circle', 'circuits', 'circumference', 'circumstances', 'cirstea', 'citation', 'citations', 'cited', 'cities', 'citizens', 'citizenship', 'city', 'civil', 'cj0kcqiaoab', 'cj0kcqiaoab_brcxarisanmx4s7gmctdsek7d9hr19rz7pdg7vfhif', 'cjwkcaiaiml', 'cked', 'cl14', 'cl17', 'claim', 'claimed', 'claiming', 'claims', 'claire', 'clalit', 'clamshell', 'clan', 'clannad', 'clarification', 'clarifies', 'clarify', 'clarity', 'clash', 'class', 'classes', 'classic', 'classical', 'classified', 'classify', 'classmates', 'classroom', 'classrooms', 'classy', 'claw', 'clay', 'claycourt', 'claymore', 'clean', 'cleaned', 'cleaner', 'cleaning', 'cleansed', 'cleansing', 'clear', 'clearance', 'clearcuts', 'cleared', 'clearer', 'clearing', 'clearly', 'clears', 'cleric', 'clever', 'clevo', 'cliche', 'click', 'clickbait', 'clicked', 'clicking', 'client', 'cliffhanger', 'climate', 'climates', 'climax', 'climaxes', 'climbed', 'climbing', 'clinging', 'clinic', 'clinical', 'clinically', 'clinicians', 'clinics', 'clip', 'clipping', 'clips', 'cliques', 'clock', 'clocked', 'clog', 'clone', 'cloned', 'clones', 'close', 'closed', 'closely', 'closer', 'closest', 'closing', 'closure', 'cloth', 'clothes', 'clothing', 'clots', 'cloud', 'clouds', 'clout', 'clover', 'clp_filters', 'club', 'clue', 'clueless', 'clumsy', 'clung', 'clusmy', 'cluster', 'clusters', 'clutch', 'cm', 'cm_sw_r_cp_apa_fabc_oaj0fb0c6apyc', 'cm_sw_r_cp_apa_fabc_waj0fbkrkpcmg', 'cm_sw_r_cp_awdb_imm_t1_wmq', 'cm_sw_r_cp_awdb_imm_t1_xjq', 'cmaj', 'cmd', 'cmpid', 'cn315', 'cn515', 'cn917', 'cna', 'cntrl', 'co', 'co2', 'coach', 'coached', 'coaches', 'coaching', 'coastal', 'coaster', 'coat', 'coauthors', 'cocaine', 'cocksucker', 'coco', 'coconuts', 'cocoon', 'cod', 'code', 'codes', 'coding', 'codm', 'coefficients', 'coercion', 'coexistence', 'coexisting', 'coffee', 'cogeneration', 'cognitive', 'coherent', 'coherently', 'cohort', 'coil', 'coin', 'coincidence', 'coincidental', 'coincidentally', 'coincides', 'coined', 'colas', 'cold', 'colder', 'collaborative', 'collapse', 'collar', 'colleagues', 'collect', 'collected', 'collection', 'collections', 'collective', 'collectively', 'college', 'collide', 'colliding', 'collins', 'colocalize', 'colonies', 'colonoscopy', 'color', 'colors', 'colossal', 'colours', 'columbine', 'column', 'com', 'coma', 'combat', 'combatants', 'combative', 'combination', 'combine', 'combined', 'combining', 'combo', 'combustion', 'come', 'comeback', 'comedic', 'comedy', 'comers', 'comes', 'comfmjdvkemkn4he', 'comfnacxrh7za9fa', 'comfort', 'comfortable', 'comfortably', 'comfsycp3287mghh', 'comfsycpfzsydhmq', 'comftwzdhkhbtzzz', 'comfuubmmphhh4ch', 'comfwxwwfd9erafu', 'comfy', 'comic', 'comical', 'comically', 'comics', 'coming', 'comings', 'command', 'commands', 'commend', 'commended', 'comment', 'commentating', 'commentator', 'commentators', 'commented', 'commenting', 'comments', 'commercial', 'commission', 'commissioned', 'commit', 'commitment', 'commitments', 'committed', 'committing', 'common', 'commonly', 'communal', 'communicable', 'communicate', 'communicated', 'communicating', 'communication', 'communications', 'communist', 'communities', 'community', 'comorbidity', 'comp', 'compact', 'compactness', 'compacts', 'compaire', 'companies', 'company', 'compaq', 'comparable', 'comparative', 'compare', 'compared', 'compares', 'comparing', 'comparison', 'comparisons', 'compartments', 'compatability', 'compatibility', 'compatible', 'compelled', 'compelling', 'compensate', 'compensated', 'compensation', 'compensatory', 'compete', 'competent', 'competes', 'competing', 'competition', 'competitive', 'competitive_carob116', 'competitively', 'competitiveness', 'competitons', 'competitor', 'competitors', 'compilation', 'compiling', 'complain', 'complaining', 'complaint', 'complaints', 'complements', 'complete', 'completed', 'completely', 'completing', 'completion', 'complex', 'compliance', 'complicated', 'complications', 'complicit', 'comply', 'component', 'components', 'compose', 'composer', 'composite', 'composition', 'composure', 'compound', 'compounds', 'comprehend', 'comprehensive', 'compression', 'compromises', 'compromising', 'compulsive', 'compulsory', 'computational', 'compute', 'computed', 'computer', 'computers', 'computing', 'comrades', 'con', 'concealed', 'concealedexcitement', 'conceited', 'concentrate', 'concentrated', 'concentrating', 'concentric', 'concept', 'conceptd', 'concepts', 'concern', 'concerned', 'concerning', 'concerns', 'concert', 'conch', 'concise', 'conclude', 'concluded', 'conclusion', 'conclusions', 'concocted', 'concordant', 'concussion', 'concussions', 'condition', 'conditional', 'conditioned', 'conditioners', 'conditioning', 'conditions', 'condoned', 'conducive', 'conduct', 'conducted', 'conductive', 'conductor', 'confer', 'conference', 'conferences', 'conferencing', 'confess', 'confesses', 'confessing', 'confession', 'confide', 'confidence', 'confident', 'config', 'configuration', 'configurationid', 'configurations', 'configure', 'configured', 'configureview', 'confirm', 'confirmation', 'confirmed', 'confirming', 'conflict', 'conflicted', 'conflicting', 'conformity', 'confrontation', 'confronting', 'confused', 'confusing', 'confusion', 'congrats', 'congratulations', 'conjecture', 'connect', 'connected', 'connecting', 'connection', 'connections', 'connectivity', 'connects', 'connors', 'conors', 'cons', 'conscience', 'consciously', 'consciousness', 'consecutive', 'consensus', 'consent', 'consequence', 'consequences', 'conservative', 'conservatives', 'conserving', 'consider', 'considerably', 'considerate', 'considerations', 'considered', 'considering', 'considers', 'consign', 'consistency', 'consistenly', 'consistent', 'consistently', 'consists', 'console', 'consolidates', 'conspiracies', 'conspiracy', 'conspire', 'constant', 'constantly', 'constraints', 'construction', 'constructions', 'constructs', 'construed', 'consultant', 'consume', 'consumed', 'consumer', 'consumerism', 'consumers', 'consumes', 'consuming', 'contact', 'contacted', 'contacting', 'contactless', 'contacts', 'contagion', 'contagious', 'contain', 'contained', 'contains', 'contemplated', 'contemporary', 'contender', 'contenders', 'content', 'contentious', 'contest', 'context', 'contexts', 'contingency', 'continually', 'continuation', 'continue', 'continued', 'continues', 'continuing', 'contraception', 'contract', 'contractor', 'contraptions', 'contrary', 'contrast', 'contrasted', 'contribute', 'contributed', 'contributes', 'contributing', 'contribution', 'control', 'controlled', 'controller', 'controlling', 'controls', 'controversial', 'controversially', 'controversy', 'convection', 'convened', 'convenience', 'conveniences', 'convenient', 'conveniently', 'conventional', 'conversation', 'conversational', 'conversations', 'conversely', 'convert', 'convertible', 'converts', 'convey', 'convince', 'convinced', 'convinces', 'cook', 'cooked', 'cookies', 'cooking', 'cool', 'cooler', 'coolers', 'cooling', 'cooperation', 'cop', 'cope', 'copenhagen', 'copied', 'copious', 'coporate', 'copper', 'coprimary', 'cops', 'copy', 'copying', 'cor', 'cord', 'cords', 'core', 'corentin', 'cores', 'corgi', 'coric', 'corky', 'corn', 'corner', 'cornering', 'corners', 'corny', 'corona', 'coronavirus', 'coronaviruses', 'corporate', 'corporation', 'corporations', 'correct', 'correction', 'corrections', 'correctly', 'correlate', 'correlated', 'correlates', 'correlating', 'correlation', 'correlations', 'corresponding', 'corrupt', 'corrupted', 'corruption', 'corsair', 'cortisol', 'corvette', 'cosigning', 'cosmetic', 'cosmetics', 'cost', 'costco', 'costilica', 'costly', 'costs', 'costumes', 'cotton', 'couch', 'cough', 'could', 'couldn', 'couldnt', 'counselor', 'count', 'countdown', 'counted', 'counter', 'countercontrol', 'counterpart', 'counterparts', 'counting', 'countless', 'countries', 'country', 'counts', 'county', 'couple', 'coupled', 'cour', 'course', 'courses', 'court', 'courts', 'cousin', 'cov', 'cover', 'coverage', 'covered', 'covering', 'coverings', 'covers', 'covid', 'covid19', 'cowboy', 'coworker', 'coz', 'cp', 'cpc', 'cpu', 'cpubenchmark', 'cpus', 'cq61', 'crack', 'cracked', 'cracker', 'cracking', 'cracks', 'craft', 'crafting', 'craftsmanship', 'crafty', 'cram', 'cramp', 'crap', 'crapped', 'crappy', 'crash', 'crashed', 'crashes', 'crashing', 'crate', 'crawl', 'crayon', 'crazy', 'cre', 'cream', 'creamy', 'create', 'created', 'creates', 'creating', 'creation', 'creative', 'creator', 'creators', 'creatures', 'credibility', 'credit', 'credited', 'credits', 'creep', 'creepy', 'cressy', 'crew', 'crid', 'cried', 'crime', 'crimes', 'criminal', 'criminals', 'cringe', 'cringey', 'cringy', 'cringyyy', 'crippling', 'crisis', 'crisp', 'criteria', 'critical', 'criticism', 'criticize', 'critique', 'critiques', 'crohns', 'crooked', 'crop', 'cropper', 'crops', 'cross', 'crossed', 'crosses', 'crotch', 'crow', 'crowd', 'crowds', 'crown', 'crs020321', 'crucial', 'crude', 'cruel', 'cruises', 'cruising', 'crumble', 'crumbled', 'crumbles', 'crumple', 'crunchy', 'crunchyroll', 'crush', 'crushed', 'crushes', 'crushing', 'cry', 'crybaby', 'crying', 'cs', 'csc', 'csi', 'cspaint', 'css', 'ct', 'ctrl', 'cuddles', 'cuevas', 'culmination', 'culo', 'culprit', 'cult', 'cultivate', 'cultivation', 'cultural', 'culture', 'cultured', 'cultures', 'cumbersome', 'cumulative', 'cunt', 'cup', 'cups', 'curbstomped', 'cure', 'cures', 'cureus', 'curios', 'curiosity', 'curious', 'curiously', 'currency', 'current', 'currently', 'currents', 'curriculum', 'curry', 'currys', 'cursed', 'cursor', 'curve', 'curved', 'curves', 'cus', 'custom', 'customer', 'customerreview', 'customers', 'customise', 'customization', 'customize', 'customized', 'customizing', 'cut', 'cute', 'cuteness', 'cuts', 'cutting', 'cuz', 'cyan', 'cyber', 'cyberpower', 'cyberpowerpc', 'cyberpowerpc_gts99812_tracer_iv_r_slim_ryzen', 'cybersecurity', 'cybertruck', 'cycle', 'cycles', 'cycling', 'cylinder', 'cyril', 'd0f6iq6', 'd1', 'd2', 'd3', 'd4', 'd43f', 'd4dj', 'd4djenglishchannel', 'd4w71kq8uo0000001609591796671', 'd9udq7t', 'da', 'da3viqs', 'dad', 'daddy', 'dads', 'dagvantoen', 'daily', 'dakota', 'dam', 'damage', 'damaged', 'damages', 'damaging', 'damir', 'damn', 'damned', 'damp', 'dampen', 'dampener', 'damping', 'damsel', 'dan', 'dance', 'dandelion', 'danganronpa', 'danger', 'dangerous', 'dangerously', 'dangers', 'daniel', 'danish', 'danka', 'darcis', 'dare', 'dark', 'darker', 'darkest', 'darkness', 'darling', 'darlings', 'darou', 'darth', 'darwin', 'darwinian', 'dash', 'dashboard', 'data', 'database', 'dataset', 'date', 'dated', 'dates', 'dating', 'datta', 'daughter', 'daughters', 'daunting', 'davar', 'dave2d', 'david', 'dawn', 'day', 'daydream', 'daydream_warrior', 'daydreaming', 'daylight', 'days', 'daytime', 'db71', 'db71t', 'dbs', 'dbz', 'dchild', 'ddd', 'ddr3', 'ddr3l', 'ddr4', 'ddr4x', 'de', 'deactivated', 'dead', 'deadlier', 'deadly', 'deadofthedeath555', 'deai', 'deal', 'dealbreaker', 'dealer', 'dealers', 'dealing', 'deals', 'dealt', 'dear', 'death', 'deaths', 'debate', 'debating', 'debloat', 'debt', 'debunks', 'debutante', 'dec', 'decade', 'decades', 'decaf', 'decay', 'decays', 'deceiving', 'december', 'decent', 'decently', 'decentralized', 'decide', 'decided', 'decides', 'deciding', 'decision', 'decisions', 'deck', 'declared', 'declaring', 'decline', 'declines', 'declining', 'decoy', 'decrease', 'decreased', 'decreases', 'decrements', 'dedicated', 'dedicating', 'dedication', 'deducing', 'deducted', 'deed', 'deemed', 'deen', 'deep', 'deeply', 'deepsleep', 'deer', 'def', 'defaced', 'default', 'defeat', 'defeatable', 'defeated', 'defeating', 'defeats', 'defecting', 'defective', 'defects', 'defence', 'defend', 'defendable', 'defended', 'defending', 'defense', 'deference', 'defiance', 'deficiency', 'deficient', 'deficit', 'deficits', 'define', 'defined', 'defines', 'definite', 'definitely', 'definition', 'definitions', 'definitive', 'definitively', 'definitly', 'deflecting', 'defo', 'deforestation', 'deformities', 'defrost', 'defrosted', 'defrosting', 'deg', 'degenerate', 'degeneration', 'degenerative', 'degensclub', 'degradation', 'degraded', 'degrades', 'degree', 'degrees', 'deinstalled', 'dejected', 'delay', 'delayed', 'delays', 'delete', 'deleted', 'deletion', 'deletions', 'deliberately', 'deliberations', 'delicate', 'delinquent', 'deliver', 'deliverable', 'delivered', 'delivering', 'delivers', 'delivery', 'dell', 'dellien', 'delpo', 'deluded', 'delusional', 'delusions', 'demand', 'demanding', 'demands', 'dementia', 'demential', 'deminaur', 'demise', 'demo', 'democracies', 'democracy', 'democrat', 'democratic', 'democratizing', 'democrats', 'demoed', 'demographic', 'demographics', 'demolished', 'demon', 'demonize', 'demonized', 'demons', 'demonstrate', 'demonstrated', 'demonstrations', 'demoralizing', 'dendrogram', 'deniability', 'denial', 'denied', 'denis', 'denisovan', 'denisovans', 'denoting', 'dense', 'density', 'dent', 'denton', 'dents', 'deny', 'department', 'departure', 'depend', 'dependence', 'dependent', 'depending', 'depends', 'depiction', 'depicts', 'depleted', 'depletes', 'deplorably', 'deploying', 'deployment', 'deployments', 'depot', 'depressed', 'depresses', 'depressing', 'depression', 'depressive', 'depth', 'dera', 'derbies', 'derive', 'derived', 'descendants', 'describe', 'described', 'describes', 'description', 'deserve', 'deserved', 'deserves', 'deserving', 'design', 'designated', 'designed', 'designer', 'designers', 'designing', 'designs', 'desire', 'desired', 'desires', 'desk', 'desktop', 'desktops', 'despair', 'desperately', 'desperation', 'despite', 'despoiled', 'destined', 'destiny', 'destroy', 'destroyed', 'destroying', 'destroys', 'destruction', 'destructive', 'desu', 'detach', 'detail', 'detailed', 'details', 'detect', 'detected', 'detecting', 'detection', 'detective', 'detectors', 'detects', 'detention', 'deter', 'detergent', 'deteriorated', 'deteriorating', 'determination', 'determine', 'determined', 'determines', 'determining', 'deters', 'detials', 'detriment', 'detrimental', 'deuce', 'deuteragonist', 'dev', 'devastating', 'devastation', 'develop', 'developed', 'developer', 'developers', 'developing', 'development', 'developmental', 'developments', 'develops', 'deviance', 'deviant', 'device', 'devices', 'devil', 'devilman', 'devious', 'devout', 'devs', 'dezombified', 'dh', 'dha', 'dhabi', 'dhs', 'dia', 'diabetes', 'diabetic', 'diablo', 'diagnosed', 'diagnostic', 'diagnostics', 'dial', 'dialect', 'dialectical', 'dialogue', 'dialysis', 'diameter', 'diameters', 'diamond', 'diamonds', 'diarrhea', 'diary', 'dice', 'dick', 'dicked', 'dickheads', 'dictate', 'dictates', 'dictator', 'dictionary', 'did', 'didn', 'didnt', 'die', 'died', 'diego', 'dieing', 'dies', 'diesel', 'diet', 'dietary', 'dieticians', 'diets', 'dif', 'differ', 'differed', 'difference', 'differences', 'different', 'differentiating', 'differentiation', 'differentiator', 'differently', 'differing', 'differnt', 'differs', 'diffficult', 'difficult', 'difficulty', 'diffrence', 'dig', 'digimon', 'digioner', 'digit', 'digital', 'digits', 'dignity', 'digs', 'dilemma', 'dillema', 'dim', 'dimension', 'dimensional', 'dimensions', 'diminishing', 'dimitrov', 'dimming', 'dimples', 'dinner', 'dint', 'diopters', 'dios', 'dip', 'diplomatic', 'dipped', 'dir', 'direct', 'directed', 'directing', 'direction', 'directly', 'director', 'dirt', 'dirtbags', 'dirty', 'disable', 'disabled', 'disabler', 'disablers', 'disables', 'disabling', 'disadvantages', 'disagree', 'disagreeing', 'disagreement', 'disagrees', 'disappear', 'disappeared', 'disappearing', 'disappears', 'disappoint', 'disappointed', 'disappointing', 'disappointment', 'disaproval', 'disarray', 'disassembled', 'disastrous', 'disavantaging', 'disavowal', 'disc', 'discarded', 'discharge', 'discharged', 'discharges', 'disciple', 'discipline', 'discomfort', 'disconnect', 'disconnected', 'disconnecting', 'disconnects', 'discontinuation', 'discontinued', 'discord', 'discount', 'discount_id121790', 'discounted', 'discounts', 'discouraged', 'discourse', 'discover', 'discovered', 'discoverer', 'discoveries', 'discovering', 'discovers', 'discovery', 'discrete', 'discretion', 'discrimination', 'discuss', 'discussed', 'discusses', 'discussion', 'discussion_2021_australian_open_day_1_monday', 'discussions', 'disdain', 'disease', 'diseases', 'disgrace', 'disgraceful', 'disgusted', 'disgusting', 'dishonesty', 'disincentivize', 'disintegrating', 'disk', 'dislike', 'disliked', 'dislikes', 'disliking', 'dislocation', 'dismantled', 'dismiss', 'dismissed', 'dismissive', 'disney', 'disny', 'disorder', 'disorders', 'disorient', 'disorientation', 'disparities', 'dispatched', 'dispense', 'dispenser', 'displacement', 'display', 'displayed', 'displaying', 'displayport', 'displays', 'disposable', 'disposal', 'disposed', 'disproportionate', 'dispute', 'disputing', 'disqualify', 'disregard', 'disregarding', 'disrespectful', 'disrupt', 'disruption', 'dissatisfied', 'disseminating', 'dissolve', 'dissolved', 'distance', 'distances', 'distancing', 'distant', 'distillation', 'distinct', 'distinctly', 'distinguish', 'distinguishes', 'distinguishing', 'distorted', 'distortion', 'distract', 'distracted', 'distraction', 'distractions', 'distress', 'distressing', 'distributed', 'distribution', 'distributions', 'district', 'distrust', 'disturbance', 'disturbances', 'ditch', 'ditching', 'diva', 'diverse', 'diversify', 'diversity', 'divide', 'divided', 'diving', 'diy', 'diyas', 'djere', 'djok', 'djoker', 'djoko', 'djokovic', 'dl', 'dlss', 'dm', 'dms', 'dna', 'do', 'do_not_show_again_show_again_tomorrow', 'doa', 'doc', 'docchi', 'docile', 'dock', 'docking', 'docks', 'docs', 'doctor', 'doctoral', 'doctors', 'document', 'documentary', 'documents', 'dod', 'dodges', 'dodo', 'does', 'doesn', 'doesnt', 'dog', 'dogs', 'doi', 'doing', 'doki', 'dokic', 'dolby', 'doll', 'dollar', 'dollars', 'dolor', 'dom', 'domain', 'domains', 'domestic', 'dominance', 'dominant', 'dominate', 'dominated', 'dominating', 'dominic', 'don', 'donald', 'donate', 'donating', 'donations', 'done', 'dongle', 'donor', 'dont', 'door', 'doors', 'dopamine', 'dopaminergic', 'dope', 'dopimine', 'doraemon', 'dororo', 'dos', 'dosage', 'dosages', 'dose', 'dosent', 'doses', 'dosing', 'dot', 'dots', 'double', 'doubles', 'doubt', 'doubting', 'doubts', 'douchebag', 'doug', 'down', 'downfall', 'downgrade', 'downgrading', 'downhill', 'downing', 'download', 'downloaded', 'downloading', 'downloads', 'downloded', 'downplay', 'downplaying', 'downs', 'downside', 'downstairs', 'downtown', 'downturn', 'downvote', 'downvoted', 'downvotes', 'downvoting', 'downward', 'dozen', 'dozens', 'dp', 'dp_cr_wdg_tit_rfb', 'dpi', 'dr', 'dragged', 'dragging', 'dragon', 'dragonfly', 'dragonshield', 'drain', 'drained', 'draining', 'drains', 'drake', 'drama', 'dramatic', 'dramatically', 'drastic', 'drastically', 'draw', 'drawing', 'drawn', 'draws', 'dreaded', 'dream', 'dreaming', 'dreams', 'dreamy', 'dress', 'dried', 'drier', 'drink', 'drinkers', 'drinking', 'drive', 'driven', 'driver', 'drivers', 'drives', 'drivesdk', 'driveway', 'driving', 'droid', 'drop', 'dropdown', 'dropped', 'dropping', 'drops', 'drove', 'drown', 'drug', 'druglords', 'drugoverdose', 'drugs', 'drunk', 'dry', 'dryer', 'ds', 'ds71t', 'dsiable', 'dual', 'dub', 'dubai', 'dubbed', 'dubbeed', 'dubs', 'dude', 'due', 'duh', 'dui', 'duke', 'dumb', 'dumbass', 'dumbbells', 'dumpster', 'dungeon', 'dunk', 'dunking', 'dunno', 'duo', 'duplicate', 'duplicated', 'durability', 'durable', 'duralast', 'duranthon', 'duration', 'duress', 'during', 'durr', 'dusan', 'dust', 'dusting', 'duties', 'duty', 'dv4', 'dvd', 'dwindling', 'dy2028ca', 'dying', 'dylan', 'dynamic', 'dynamics', 'dyrendal', 'dysfunction', 'dystopical', 'e15', 'e186', 'e2', 'e2003926118', 'e2011362118', 'e2012208118', 'e2100', 'e29', 'e4', 'e5', 'e6420', 'e6430', 'e6430s', 'e646ed6e', 'e6530', 'e6540', 'e6540s', 'e80r2c', 'e89b54098e8f16218224d06e9dfa1445', 'e990', 'ea0000', 'eabc6160', 'eabe0997', 'each', 'eaiaiqobchmi197sr8br7giv5r6tbh3sbgkceaqyasabegk9gfd_bwe', 'eaiaiqobchmi9ttl44tm7qivqrdtch2eugf0eaqyasabegk1xvd_bwe', 'ear', 'earbud', 'earlier', 'earliest', 'early', 'earn', 'earned', 'earnest', 'earning', 'earnings', 'earphone', 'earphones', 'ears', 'earth', 'earthquake', 'earthquakes', 'eartips', 'earwax', 'ease', 'eased', 'easier', 'easiest', 'easily', 'east1860', 'easter', 'eastern', 'easy', 'eat', 'eaten', 'eating', 'eats', 'eb2p8e', 'eb7uvgbucaieb7y', 'ebay', 'ebden', 'ebdocannabinoid', 'ebola', 'ecc', 'ecchi', 'eccr', 'eccs', 'echidna', 'echinda', 'echo', 'eclipse', 'eco', 'ecologicial', 'econ', 'economic', 'economically', 'economics', 'economist', 'economy', 'ecosystem', 'ecosystems', 'ecstatic', 'ect', 'ed', 'ed0056nr', 'ed8556a823d2', 'edberg', 'edge', 'edgelightning', 'edgelord', 'edges', 'edgy', 'edgyness', 'edit', 'editing', 'edition', 'editor', 'editorializing', 'editors', 'edmund', 'edo', 'edu', 'educate', 'educated', 'education', 'educational', 'edward', 'ee83v9', 'eebf8a07', 'eec', 'eee', 'effect', 'effective', 'effectively', 'effectiveness', 'effects', 'effers', 'efficacy', 'efficiency', 'efficient', 'efficiently', 'effort', 'effortlessly', 'efforts', 'eg', 'eg000', 'eg0021', 'eg0021nr', 'egg', 'eggball', 'egpu', 'egregious', 'eh', 'ehb5fr', 'ehd', 'ehh', 'ehhhh', 'eight', 'einsteinian', 'either', 'ek080t', 'el', 'elaborate', 'elaborated', 'elba', 'elbow', 'elderly', 'elected', 'election', 'elections', 'electric', 'electrical', 'electricity', 'electrifying', 'electromagnetic', 'electronic', 'electronics', 'electrons', 'elegant', 'element', 'elementary', 'elements', 'elephant', 'elf', 'eli', 'eli5', 'elicit', 'eligible', 'elijah0319', 'elimination', 'elise', 'elisodebthe', 'elite', 'elitebook', 'elitedamyth', 'ellen', 'elo', 'elon', 'else', 'elsewhere', 'elsha', 'eluktronics', 'em', 'email', 'emailing', 'emails', 'embarrassed', 'embarrassing', 'embarrassment', 'embezzling', 'emblem', 'embodied', 'emboldened', 'emerged', 'emergency', 'emergent', 'emilia', 'eminent', 'emission', 'emissions', 'emitting', 'emma', 'emmanuel', 'emojipedia', 'emotion', 'emotional', 'emotionally', 'emotions', 'empathetic', 'empathy', 'emphasis', 'empire', 'empires', 'empirical', 'employ', 'employed', 'employee', 'employees', 'employer', 'employers', 'employing', 'employment', 'empt', 'empty', 'emulate', 'emulating', 'emulators', 'en', 'en0008na', 'en_in', 'ena', 'enable', 'enabled', 'enables', 'enabling', 'encapsulated', 'enchant', 'enclosed', 'enclosing', 'enclosure', 'encoded', 'encoding', 'encounter', 'encourage', 'encouraged', 'encouragement', 'encourages', 'encouraging', 'encrypted', 'end', 'endangers', 'endeavored', 'endeavour', 'ended', 'ending', 'endless', 'endlessly', 'endoplasmic', 'endorsed', 'endorsements', 'endothelial', 'endothelium', 'ends', 'endurance', 'enduring', 'enemies', 'enemy', 'energies', 'energy', 'enforce', 'enforceable', 'enforced', 'enforcement', 'enforcing', 'engaged', 'engagement', 'engagements', 'engaging', 'engine', 'engineer', 'engineered', 'engineering', 'engineers', 'engines', 'english', 'enhance', 'enhanced', 'enhancer', 'enies', 'enjoy', 'enjoyable', 'enjoyed', 'enjoying', 'enjoyment', 'enlarge', 'enlighten', 'enlist', 'enormous', 'enough', 'enought', 'enrichment', 'enricomariariva', 'enrolled', 'enrollment', 'enrp8f', 'ensue', 'ensure', 'ensuring', 'entails', 'enter', 'entered', 'enters', 'entertain', 'entertainer', 'entertaining', 'entertainment', 'enthusiasm', 'enthusiast', 'enthusiastic', 'entire', 'entirely', 'entirety', 'entitled', 'entomologist', 'entrance', 'entrenched', 'entries', 'entry', 'envey', 'envious', 'enviously', 'environment', 'environmental', 'environmentally', 'environments', 'envisage', 'envisages', 'envy', 'ep', 'ep0098nr', 'ep18', 'ep24', 'epa', 'epic', 'epidemic', 'epidemics', 'epidemiologic', 'epidemiological', 'epidemiology', 'episode', 'episodes', 'epistemology', 'epitopes', 'epub', 'equal', 'equalizer', 'equally', 'equals', 'equate', 'equations', 'equipment', 'equipped', 'equipt', 'equivalent', 'eqzws4', 'er', 'era', 'eras', 'erase', 'erasing', 'ereh', 'erodes', 'errani', 'erratic', 'error', 'errors', 'errs', 'erupts', 'es76', 'esca', 'escaflowne', 'escalated', 'escalation', 'escape', 'escaping', 'escapism', 'eschewed', 'eset', 'esienart', 'esp', 'especially', 'espn', 'espresso', 'espressos', 'essential', 'essentially', 'est', 'establish', 'established', 'establishes', 'esteem', 'estimand', 'estimate', 'estimated', 'estimates', 'estimating', 'estonia', 'et', 'etc', 'etd', 'etelero', 'ethanol', 'ether', 'ethernet', 'ethnic', 'ethnicity', 'etiquette', 'eu', 'eucf0r', 'euphonium', 'eur', 'eureka', 'eurekalert', 'euro', 'europa', 'europe', 'european', 'europeans', 'euros', 'eurosport', 'eurowithout', 'eva', 'evade', 'evaluate', 'evaluated', 'evaluation', 'evangelion', 'evans', 'evaporate', 'evaporated', 'eve', 'even', 'evening', 'evenly', 'event', 'eventhough', 'events', 'eventually', 'ever', 'evergarden', 'evert', 'every', 'everybody', 'everyday', 'everyone', 'everything', 'everytime', 'everywhere', 'evidence', 'evil', 'evo', 'evo860', 'evoke', 'evolution', 'evolutionary', 'evolve', 'evolved', 'evolving', 'evoo', 'evos', 'ex', 'exacerbate', 'exacerbated', 'exact', 'exacted', 'exactly', 'exaggerating', 'exalted', 'exam', 'examination', 'examined', 'examines', 'examining', 'example', 'examples', 'exams', 'excel', 'excell', 'excellent', 'except', 'exception', 'exceptional', 'exceptions', 'excerpt', 'excess', 'exchange', 'exchanged', 'exchanging', 'excited', 'excitedyui', 'excitement', 'exciting', 'exclude', 'excluded', 'excluding', 'exclusive', 'exclusively', 'excuse', 'exe', 'execs', 'execute', 'executed', 'executing', 'execution', 'executive', 'exercise', 'exercising', 'exert', 'exhaust', 'exhausted', 'exhausting', 'exhaustion', 'exhibit', 'exhibited', 'exhibiting', 'exhibition', 'exhibits', 'exist', 'existence', 'existent', 'existing', 'exists', 'exit', 'exogenous', 'exotic', 'exotifying', 'expand', 'expandable', 'expands', 'expansion', 'expansions', 'expect', 'expectancy', 'expectation', 'expectations', 'expected', 'expecting', 'expelled', 'expenditure', 'expensive', 'experience', 'experienced', 'experiences', 'experiencing', 'experiment', 'experimental', 'experimentation', 'experimented', 'experiments', 'expert', 'expertly', 'experts', 'expiration', 'expire', 'expired', 'expiring', 'explain', 'explained', 'explaining', 'explains', 'explanation', 'explanations', 'explode', 'exploited', 'exploiting', 'exploration', 'explore', 'explored', 'explorer', 'explores', 'exploring', 'explosion', 'explosive', 'exponential', 'exponentially', 'export', 'exposed', 'exposition', 'exposure', 'express', 'expressed', 'expressing', 'extend', 'extended', 'extends', 'extensibility', 'extensions', 'extensive', 'extent', 'exterior', 'external', 'externalities', 'externally', 'extinct', 'extra', 'extract', 'extraction', 'extraordinarily', 'extrapolating', 'extras', 'extreme', 'extremely', 'extremism', 'exuj9c', 'exy', 'exynos', 'eye', 'eyebrows', 'eyed', 'eyes', 'eyeshield', 'eyyy', 'ezone', 'f5', 'f571gt', 'f571lh', 'f8', 'f9d2f0799634', 'faa', 'faaq', 'fab', 'fabbiano', 'fabio', 'fabric', 'fabricated', 'face', 'facebook', 'faced', 'faces', 'facet', 'facial', 'facilitate', 'facilities', 'facing', 'fact', 'factor', 'factored', 'factoring', 'factors', 'factory', 'facts', 'factually', 'faculty', 'fad', 'fade', 'fahad', 'fail', 'failed', 'failing', 'fails', 'failure', 'failures', 'fair', 'fairly', 'fairness', 'fairy', 'faith', 'fake', 'faked', 'fall', 'fallen', 'falling', 'fallout', 'falls', 'false', 'falsely', 'familiar', 'families', 'family', 'famous', 'fan', 'fanart', 'fanarts', 'fanaticism', 'fanbase', 'fanboy', 'fancuts', 'fancy', 'fandom', 'fans', 'fanservice', 'fanservices', 'fantastic', 'fantastical', 'fantasy', 'fantoni', 'faq', 'far', 'farely', 'farewell', 'farm', 'farmers', 'farming', 'farms', 'farther', 'fascinating', 'fascist', 'fascistic', 'fascists', 'fashion', 'fast', 'faster', 'fastest', 'fat', 'fat32', 'fatal', 'fate', 'father', 'fathers', 'fatigue', 'fats', 'fatty', 'fauci', 'fault', 'faulted', 'faults', 'faulty', 'fauna', 'fav', 'fave', 'faves', 'favor', 'favored', 'favorite', 'favorites', 'favors', 'favour', 'favourable', 'favourite', 'fb', 'fbclid', 'fbcm7wg5t', 'fbeveccax', 'fcc', 'fcp', 'fe', 'fear', 'fearing', 'fears', 'feasible', 'feast', 'feather', 'featherine', 'feature', 'featured', 'features', 'featuring', 'feb', 'february', 'fecal', 'fed', 'fedal', 'federal', 'federal_owl205', 'federation', 'federer', 'fedex', 'fedx', 'fee', 'feed', 'feedback', 'feeder', 'feeding', 'feel', 'feelgood', 'feeling', 'feelings', 'feels', 'fees', 'feet', 'feli', 'feliciano', 'felix', 'fell', 'fella', 'fellas', 'fellow', 'felt', 'female', 'fence', 'feral', 'ferdie', 'fernandez', 'ferreira', 'ferrer', 'ferris', 'ferro', 'fertile', 'fertility', 'festival', 'fetishization', 'feud', 'feudal', 'fever', 'few', 'fewer', 'fewest', 'fhd', 'fhhwi0v', 'fi', 'fiber', 'fibre', 'fibroblast', 'fibrosis', 'fiction', 'fictional', 'fiddle', 'fidgeting', 'field', 'fielder', 'fielders', 'fields', 'fiend', 'fiercest', 'fiery', 'fifa', 'fifth', 'fight', 'fighter', 'fighters', 'fighting', 'fights', 'figuratively', 'figure', 'figured', 'figures', 'figuring', 'file', 'files', 'filings', 'fill', 'filled', 'filler', 'fillerish', 'fillers', 'filling', 'film', 'filmed', 'films', 'filter', 'filtered', 'filtering', 'fin', 'final', 'finale', 'finalist', 'finally', 'finals', 'finance', 'finances', 'financial', 'financially', 'financing', 'find', 'finding', 'findings', 'finds', 'fine', 'fines', 'finessed', 'finest', 'finger', 'fingernail', 'fingerprint', 'finicky', 'fining', 'finish', 'finished', 'finishers', 'finishing', 'finnicky', 'fins', 'fire', 'firearm', 'firearms', 'fired', 'firepower', 'fires', 'firies', 'firm', 'firms', 'firmware', 'first', 'firsthand', 'firstly', 'fish', 'fit', 'fit2', 'fitbit', 'fitness', 'fits', 'fitter', 'fittest', 'fitting', 'five', 'fix', 'fixable', 'fixed', 'fixes', 'fixing', 'fj6mvr', 'fl', 'flac', 'flag', 'flagged', 'flagship', 'flagships', 'flair', 'flaired', 'flamboyant', 'flamingo', 'flamingos', 'flaring', 'flash', 'flashed', 'flashes', 'flashing', 'flashlight', 'flashscore', 'flat', 'flattering', 'flavor', 'flavored', 'flaw', 'flawed', 'flawless', 'flawlessly', 'flaws', 'flees', 'fleetwood', 'fleshed', 'fleury', 'flex', 'flexible', 'flexing', 'flickering', 'flimsy', 'flip', 'flipkart', 'flipped', 'flipping', 'flips', 'flipside', 'float', 'floating', 'floats', 'flooded', 'flooding', 'floods', 'floor', 'floored', 'floors', 'flopped', 'flora', 'florian', 'floundered', 'flouting', 'flow', 'flowchart', 'flower', 'flowers', 'flown', 'flu', 'fluctuate', 'fluctuations', 'fluff', 'fluid', 'flushing', 'fly', 'flyer', 'flying', 'fm', 'fma', 'fmab', 'fmri', 'fmt', 'fn', 'fn73sx', 'fo', 'fo2g18', 'foam', 'focal', 'focus', 'focused', 'focusing', 'foe', 'fogging', 'fogini', 'fogna', 'fognini', 'foil', 'fold', 'fold2', 'foldable', 'folded', 'folder', 'folders', 'folk', 'folks', 'follow', 'followed', 'followers', 'following', 'follows', 'fomo', 'fond', 'food', 'foods', 'fool', 'fools', 'foot', 'footage', 'football', 'footed', 'footnote', 'footwork', 'footy', 'for', 'forage', 'forbids', 'force', 'forced', 'forces', 'forcing', 'forecast', 'foreground', 'forehand', 'forehands', 'forehead', 'foreign', 'foresaw', 'foreseeable', 'foreshadowing', 'foresighted', 'forest', 'forests', 'forever', 'forfeit', 'forged', 'forget', 'forgetful', 'forgets', 'forgetting', 'forgiving', 'forgo', 'forgot', 'forgotkeys', 'forgotten', 'fork', 'forlorn', 'form', 'formal', 'format', 'formatting', 'formed', 'former', 'formidable', 'forming', 'forms', 'formulated', 'forrest', 'forth', 'fortified', 'fortitude', 'fortnight', 'fortnite', 'fortunate', 'fortunately', 'fortune', 'forum', 'forums', 'forviging', 'forward', 'forwards', 'foto', 'fought', 'foul', 'fouled', 'found', 'foundation', 'four', 'fourth', 'fps', 'fqpg81z', 'fraction', 'fragile', 'fragment', 'fragmentation', 'frail', 'fralick', 'frame', 'frames', 'framework', 'france', 'franchise', 'francis', 'francisco', 'franxx', 'fraud', 'fraudulent', 'frbkrb', 'freak', 'freaking', 'freddy', 'free', 'freedom', 'freelance', 'freely', 'freenode', 'freesync', 'freeze', 'freezer', 'freezes', 'freezing', 'french', 'frenchyyy', 'frequencies', 'frequency', 'frequent', 'frequently', 'fresco', 'fresh', 'freshman', 'fretful', 'frew', 'fricking', 'friday', 'fridge', 'fried', 'friend', 'friendly', 'friends', 'friendship', 'friendships', 'fringe', 'fritz', 'frodo', 'from', 'from2', 'front', 'frontier', 'frontiers', 'frowned', 'froze', 'frozen', 'frtiz', 'fruatrating', 'fruit', 'fruits', 'frustrate', 'frustrated', 'frustrating', 'frustration', 'frying', 'fs', 'fsn', 'ft', 'fuck', 'fucked', 'fucker', 'fuckin', 'fucking', 'fucks', 'fucsovics', 'fuel', 'fueled', 'fuji', 'fujipoly', 'fulfill', 'fulfilling', 'fulfills', 'full', 'fullarticle', 'fullfill', 'fullmetal', 'fulltext', 'fully', 'fumbles', 'fun', 'function', 'functional', 'functionality', 'functioning', 'functions', 'fund', 'fundamental', 'funded', 'funding', 'funeral', 'fungible', 'funi', 'funimation', 'funnier', 'funniest', 'funnily', 'funny', 'furikabutte', 'furiously', 'further', 'furthermore', 'furthest', 'furthur', 'fushigoro', 'fushiguro', 'fusion', 'fuss', 'futaro', 'future', 'futures', 'fuutaro', 'fuutarou', 'fv2xcdr', 'fvlj3m', 'fy095', 'fy701t', 'fyi', 'fz', 'g035gh', 'g0mxgjx', 'g14', 'g15', 'g17', 'g2', 'g3', 'g4', 'g4e0ml', 'g5', 'g512lw', 'g532lws', 'g6cpcbb', 'g7', 'g7x', 'g8raw3c', 'g8t7ahn', 'ga', 'ga401ih', 'ga401iu', 'ga401ivc', 'ga502iv', 'gadget', 'gael', 'gaillard', 'gain', 'gained', 'gaining', 'gains', 'galactic', 'galaxies', 'galaxy', 'gale', 'galidesivir', 'gallery', 'galling', 'galvanising', 'gambles', 'game', 'gameplan', 'gameplay', 'gamer', 'games', 'gamesmanship', 'gaming', 'gamma', 'gamut', 'gang', 'ganzabal', 'gap', 'gaporigo', 'gaps', 'garbage', 'garbiñe', 'garbo', 'garcia', 'garden', 'gardening', 'garfia', 'garfiel', 'garfield', 'garfieldturnaround', 'garo', 'garros', 'gas', 'gasai', 'gaslighting', 'gasoline', 'gasparyan', 'gasping', 'gasquet', 'gassed', 'gastrointestinal', 'gate', 'gatekeeping', 'gateway', 'gateways', 'gather', 'gatherings', 'gauff', 'gauge', 'gauntlets', 'gave', 'gavrilova', 'gay', 'gaze', 'gazing', 'gb', 'gboard', 'gcam', 'gclid', 'gclsrc', 'gco2', 'ge66', 'gear', 'geass', 'gecko', 'gee', 'gees', 'geforce', 'gege', 'gehrlein', 'gelling', 'gems', 'gen', 'gen3', 'gender', 'gene', 'general', 'generalization', 'generalize', 'generally', 'generate', 'generated', 'generates', 'generating', 'generation', 'generational', 'generations', 'generic', 'generous', 'genes', 'genetic', 'genetically', 'genie', 'genius', 'geniuses', 'genki', 'genocide', 'genome', 'genre', 'genres', 'genroku', 'gentle', 'gentleman', 'gently', 'genuine', 'genuinely', 'geographic', 'geography', 'geological', 'george', 'georgia', 'georgie', 'gerasimov', 'german', 'germany', 'gestaakt', 'gesticulates', 'gesture', 'gestures', 'get', 'gets', 'getting', 'gewvx22', 'gf63', 'gfx', 'gfycat', 'gg', 'ghana', 'ghassemi', 'ghg', 'ghost', 'ghosting', 'ghoul', 'ghz', 'giant', 'giddy', 'gif', 'gift', 'gifted', 'gig', 'gigabyte', 'gigawatts', 'gigs', 'gilbert', 'gilgamesh', 'gilles', 'gilmore', 'gimmick', 'gimped', 'ging', 'gintama', 'giorgi', 'giovanna', 'giphy', 'girl', 'girlfriend', 'girls', 'girly', 'giron', 'github', 'give', 'giveaways', 'given', 'gives', 'giveuponlife', 'giving', 'giyu', 'gjlbpeq', 'gl65', 'glad', 'gladly', 'glance', 'glare', 'glass', 'glasses', 'glastic', 'glie', 'glimpse', 'glitch', 'glitches', 'global', 'globally', 'glorifies', 'gloryordeath', 'glosses', 'glove', 'glued', 'gluten', 'gly7bjf', 'glycoprotein', 'gm', 'gm5wbkr', 'gmail', 'gmc', 'gmph2v6', 'gmptmu9', 'gmt49dd', 'gn090ex', 'go', 'goal', 'goals', 'goat', 'goats', 'goblin', 'goblins', 'god', 'godawful', 'goddam', 'goddamn', 'godlike', 'gods', 'godzilla', 'goes', 'goffin', 'going', 'gojo', 'gojowczyk', 'gokigen', 'gold', 'golden', 'golf', 'gon', 'gone', 'gonna', 'good', 'goodall', 'goodies', 'goodlock', 'goodness', 'goodnight', 'goods', 'goodwill', 'google', 'googleblog', 'googled', 'googling', 'gooooooo', 'gop', 'gopro', 'gorgeous', 'gorilla', 'gorillas', 'gosick', 'gospel', 'gossip', 'gossiping', 'got', 'gotta', 'gotten', 'gou', 'gouge', 'gov', 'government', 'governments', 'gp', 'gpa', 'gpay', 'gpod', 'gps', 'gpu', 'gpus', 'grab', 'grace', 'grad', 'grade', 'graded', 'grades', 'gradient', 'gradual', 'gradually', 'graduate', 'graduated', 'graf', 'graft', 'grail', 'grain', 'grainy', 'gram', 'grammar', 'grampians', 'gramps', 'grand', 'grandchild', 'grandpa', 'grandparents', 'grandslam', 'grandstanding', 'granedgar', 'granollers', 'grant', 'granted', 'granules', 'graphene', 'graphic', 'graphical', 'graphically', 'graphics', 'grappler', 'grasp', 'grass', 'grasscourt', 'grateful', 'gratitude', 'grave', 'gravitational', 'graviton', 'gravity', 'gray', 'grayscale', 'grease', 'great', 'greater', 'greatest', 'greatly', 'greats', 'gredner', 'greece', 'greed', 'greedyness', 'greeks', 'green', 'greenpeace', 'greens', 'greetings', 'grelaud', 'grew', 'grey', 'greyed', 'grid', 'griesman', 'grigor', 'grim', 'grimgar', 'grinch', 'grind', 'grinded', 'grinding', 'grip', 'grips', 'grit', 'grocery', 'groin', 'grosjean', 'ground', 'groundbreaking', 'grounded', 'grounds', 'groundstroke', 'groundstrokes', 'group', 'groups', 'grow', 'growing', 'grown', 'grows', 'growth', 'gru1ieb', 'grueling', 'gruelling', 'gruesome', 'grumblings', 'grunt', 'grunters', 'grunting', 'grunts', 'gröenfeld', 'gs', 'gs001', 'gs65', 'gs66', 'gsmarena', 'gsse9se', 'gstaad', 'gsync', 'gt', 'gta', 'gtdamn', 'gtx', 'guarantee', 'guaranteed', 'guard', 'guardian', 'gud', 'guess', 'guessed', 'guessing', 'guid', 'guidance', 'guide', 'guidelines', 'guides', 'guillaume', 'guillermo', 'guilt', 'guilty', 'guitar', 'gulbis', 'gump', 'gun', 'gundam', 'gundum', 'gunfight', 'gunfights', 'gungrave', 'guns', 'gurren', 'gurwith', 'gut', 'guts', 'gutschi', 'gutteral', 'guy', 'guys', 'gyhssz', 'gym', 'gymnastics', 'görges', 'h2h', 'h3lclflzvxpqnzbbcgpe', 'h5', 'h5n1', 'h6dre3p', 'h700gv', 'h9452b', 'ha', 'haase', 'haatghy', 'habbits', 'habit', 'habitat', 'hachikuji', 'hachimitsu', 'hack', 'hacked', 'had', 'hade', 'hades', 'hadn', 'hae', 'hagure', 'hagurre', 'hah', 'haha', 'hahaha', 'hahahahahahahahahahahaha', 'hahehehe', 'hai', 'haikyu', 'haikyuu', 'hail', 'hair', 'haircut', 'haired', 'hajime', 'hajimemashita', 'halep', 'half', 'halfway', 'halle', 'hallmarks', 'halo', 'hammer', 'hammock', 'hamper', 'hana', 'hanami', 'hand', 'handed', 'handful', 'handguns', 'handicap', 'handicaps', 'handle', 'handled', 'handles', 'handling', 'handmade', 'hands', 'handset', 'handsome', 'handy', 'hang', 'hanger', 'hangover', 'hangups', 'hanks', 'hanyuu', 'happen', 'happened', 'happening', 'happenings', 'happens', 'happier', 'happily', 'happiness', 'happy', 'haptic', 'hard', 'harddisk', 'harder', 'hardest', 'hardisk', 'hardly', 'hardship', 'hardware', 'hardworking', 'harel', 'harem', 'harems', 'harlock', 'harm', 'harmful', 'harmony', 'harper', 'harris', 'harrowing', 'harry', 'harsh', 'haruka', 'harukana', 'harvest', 'harvesting', 'has', 'hasn', 'hassle', 'hasta', 'hasten', 'hastened', 'hat', 'hataraku', 'hate', 'hated', 'hateful', 'hater', 'haters', 'hates', 'hating', 'hatred', 'hats', 'haul', 'haunting', 'have', 'haven', 'havent', 'having', 'havoc', 'hawk', 'hawkeye', 'hayao', 'hazard', 'hazardous', 'hazards', 'haze', 'hc', 'hcrtr1', 'hcrtr2', 'hd', 'hdd', 'hdmi', 'he', 'he042t', 'head', 'headband', 'headcase', 'headed', 'heading', 'headline', 'headon', 'headphone', 'headphones', 'heads', 'headset', 'heal', 'healer', 'health', 'healthcare', 'healthier', 'healthline', 'healthstat', 'healthy', 'heaping', 'hear', 'heard', 'hearing', 'heart', 'heartbot', 'heartbreak', 'heartbreaking', 'heartfelt', 'hearts', 'heartwarming', 'heat', 'heated', 'heating', 'heatpipes', 'heats', 'heatsink', 'heatsinks', 'heaven', 'heavier', 'heavily', 'heavy', 'hebrew', 'heck', 'hedge', 'heels', 'hefty', 'heh', 'hehe', 'height', 'heightened', 'heights', 'held', 'helicoprion', 'helios', 'heliumizninja', 'helix', 'hell', 'hello', 'hellsing', 'help', 'helped', 'helpful', 'helping', 'helplines', 'helps', 'hemagglutinin', 'heme', 'hemicellulose', 'hen', 'hence', 'henin', 'hentai', 'hepatocyte', 'her', 'heralded', 'herb', 'herbert', 'herd', 'here', 'hereafter', 'heres', 'heresy', 'heritable', 'hermann', 'hero', 'heroes', 'heroic', 'heros', 'herridge', 'herself', 'hes', 'hesitant', 'hesitantly', 'hesitated', 'heterochromia', 'heterogeneous', 'hew', 'hewitt', 'hex', 'hey', 'heyyyyyy', 'hfcs', 'hhd', 'hhse3vt3kisealawkxt4zksxrzbl', 'hi', 'hiatus', 'hibernating', 'hibernation', 'hibike', 'hibiki', 'hiccups', 'hid', 'hidaka', 'hidden', 'hide', 'hideout', 'hiding', 'hierarchy', 'higgs', 'high', 'higher', 'highest', 'highlight', 'highlighting', 'highlights', 'highly', 'highs', 'highschool', 'higly', 'higurashi', 'higurashianime', 'higurashinonakakoroni', 'hijack', 'hikari', 'hiking', 'hilarious', 'him', 'himeko', 'himself', 'hinami', 'hinamizawa', 'hinamizuwa', 'hinge', 'hinges', 'hingis', 'hint', 'hinted', 'hints', 'hip', 'hippocampus', 'hired', 'hiro', 'hirowareta', 'his', 'hisana', 'historic', 'historical', 'historically', 'history', 'hit', 'hitachi', 'hitch', 'hits', 'hitsugi', 'hitter', 'hitters', 'hitting', 'hiv', 'hives', 'hmm', 'hmmm', 'hmmmmmm', 'hmo', 'hoax', 'hobbies', 'hobby', 'hog', 'hold', 'holder', 'holding', 'holdme', 'holds', 'hole', 'holes', 'holiday', 'holidays', 'hollow', 'hollywood', 'holo', 'holocaust', 'holy', 'hom3lwg', 'homage', 'home', 'homeboy', 'homegrownnationalpark', 'homeopathic', 'homeostasis', 'homeplate', 'homes', 'hometown', 'homicidal', 'homophobic', 'hone', 'honest', 'honestly', 'honesty', 'honey', 'hong', 'honjou', 'honkai', 'honoka', 'honoo', 'honor', 'honorary', 'honors', 'hook', 'hooked', 'hoop', 'hoops', 'hope', 'hopeful', 'hopefully', 'hopeless', 'hopes', 'hoping', 'hora', 'horimiya', 'horizon', 'horizons', 'hormone', 'hormones', 'horn', 'horrendous', 'horrible', 'horribly', 'horrid', 'horrifying', 'horror', 'horse', 'hose', 'hospital', 'hospitals', 'host', 'hostess', 'hostile', 'hostility', 'hosting', 'hosts', 'hot', 'hotel', 'hotsprings', 'hottest', 'hottie', 'hour', 'hours', 'house', 'housed', 'household', 'households', 'houses', 'housing', 'houston', 'how', 'how_to_prolong_lithium_based_batteries', 'howan', 'howdy', 'however', 'hoyed', 'hp', 'hp_17g38ut_aba_x360_435_g7_ryz7', 'hp_2l008ua_aba_omen_i7_10750h_16gb_512gb', 'hps', 'hr', 'hradecka', 'hrs', 'hs', 'hse', 'hsg', 'hsieh', 'ht', 'htm', 'html', 'hts428080f9at00', 'http', 'https', 'hu4iyiq2oa5g', 'huang', 'huawei', 'hub', 'hubris', 'hug', 'huge', 'hugely', 'hugo', 'huh', 'hul7leq', 'hulu', 'human', 'humanity', 'humans', 'humbert', 'humble', 'humbly', 'humid', 'humidity', 'humiliate', 'hummingbirds', 'humor', 'humour', 'hump', 'hundred', 'hundreds', 'hung', 'hungary', 'hunger', 'hungry', 'hunter', 'hunters', 'hunterxhunter', 'hunting', 'hurdle', 'hurdles', 'hurkacz', 'hurr', 'hurry', 'hurt', 'hurting', 'hurts', 'husband', 'husky', 'hvo', 'hvo100', 'hwmonitor', 'hxh', 'hxl1dn', 'hy2og3', 'hybrid', 'hyd4bb', 'hydration', 'hydroxide', 'hyoga', 'hype', 'hyped', 'hyper', 'hyperbole', 'hyperg', 'hyperlocal', 'hyperopic', 'hypersomnolence', 'hyperventilation', 'hypes', 'hypocrite', 'hypotension', 'hypothalamus', 'hypothesis', 'hypothesized', 'hz', 'i2i6md', 'i3', 'i5', 'i5r4yt', 'i6pa0m', 'i7', 'i710th', 'i9', 'iaz870', 'ibb', 'ic', 'icb', 'ice', 'icecat', 'icecube', 'ichigo', 'ichika', 'icm062', 'icon', 'icons', 'icta', 'icu', 'icus', 'id', 'idc', 'idea', 'ideal', 'ideally', 'ideapad', 'ideapads', 'ideas', 'identical', 'identified', 'identifies', 'identify', 'identity', 'idiocy', 'idiot', 'idiots', 'idk', 'idle', 'idol', 'idolls', 'idols', 'idris', 'ie', 'ieen', 'if', 'if86h1', 'iffy', 'iffyness', 'ig', 'iga', 'igg', 'igknkm5', 'ignited', 'ignorant', 'ignore', 'ignored', 'ignores', 'ignoring', 'ihuimw0', 'ii', 'iid', 'iii', 'iil', 'iirc', 'ijjbs1', 'ijwseqae82xt1kyg0jseqftwmj9wheh6ve_g_zwuqk27rocbskqavd_bwe', 'ikc0vv6', 'ikka', 'ill', 'illegal', 'illegear', 'illness', 'illnesses', 'ills', 'illusions', 'illustrator', 'illustrators', 'iltawxlra', 'im', 'imac', 'image', 'images', 'imagine', 'imagined', 'imagines', 'imaging', 'imagining', 'imbalanced', 'imbalances', 'imei', 'img', 'imgur', 'imho', 'imig', 'immaculately', 'immature', 'immediate', 'immediately', 'immense', 'immensely', 'immerse', 'immigrants', 'immigration', 'immobile', 'immune', 'immunity', 'immunization', 'immunizations', 'immunized', 'immunological', 'immunosuppression', 'immunotherapies', 'immunotherapy', 'imo', 'imop', 'impact', 'impacted', 'impactful', 'impacts', 'impaired', 'impatient', 'impeded', 'impedes', 'impending', 'imperfect', 'imperialism', 'imperil', 'implementation', 'implemented', 'implicated', 'implications', 'implied', 'implies', 'implode', 'imply', 'implying', 'import', 'importance', 'important', 'importantly', 'imported', 'importing', 'imposed', 'imposing', 'impossible', 'impress', 'impressed', 'impression', 'impressive', 'impressively', 'imprison', 'improve', 'improved', 'improvement', 'improvements', 'improves', 'improving', 'improvisational', 'impulsivity', 'in', 'inability', 'inaccessibility', 'inaccurate', 'inaccurately', 'inactivated', 'inactivity', 'inami', 'inaugural', 'inbuilt', 'incapable', 'incase', 'incel', 'incentive', 'incentives', 'inch', 'inches', 'incidence', 'incident', 'incidents', 'inclined', 'inclines', 'include', 'include_over_18', 'included', 'includes', 'including', 'inclusion', 'incoherent', 'income', 'incomplete', 'inconsistency', 'inconsistent', 'inconvenience', 'incorporate', 'incorporating', 'incorrect', 'incorrectly', 'increase', 'increased', 'increases', 'increasing', 'increasingly', 'incredible', 'incredibly', 'indebted', 'indecisive', 'indeed', 'indefinite', 'indefinitely', 'independent', 'indepth_review_dell_inspiron_14_5405_with_4700u', 'indesign', 'index', 'india', 'indian', 'indicate', 'indicating', 'indication', 'indicative', 'indicator', 'indie', 'indifferent', 'indigenous', 'indirect', 'indistinguishable', 'individual', 'individualism', 'individuals', 'indonesia', 'indoor', 'indoors', 'induced', 'induces', 'inducible', 'indulge', 'indulgence', 'industrially', 'industry', 'ineffective', 'inefficient', 'inequality', 'inevitable', 'inevitably', 'inexact', 'inexpensive', 'inexperience', 'infallible', 'infamous', 'infants', 'infected', 'infection', 'infections', 'infectious', 'inference', 'inferior', 'infidelity', 'infield', 'infiltrating', 'infiltrators', 'infinite', 'infinitesimal', 'infinitum', 'inflammation', 'inflation', 'influence', 'influenced', 'influences', 'influenza', 'influx', 'info', 'inform', 'informal', 'information', 'informed', 'informs', 'infrared', 'infrastructure', 'infuriating', 'infusion', 'infusions', 'ing', 'ingested', 'inhabitants', 'inherent', 'inherently', 'inherited', 'inhibition', 'inhibitor', 'initial', 'initially', 'injected', 'injured', 'injuries', 'injury', 'injustice', 'inkling', 'inner', 'innerds', 'inning', 'innings', 'innocent', 'innocently', 'innovations', 'innovative', 'innuendos', 'inpatient', 'input', 'inr', 'ins', 'insane', 'insanely', 'insect', 'insecticides', 'insects', 'insecure', 'insecurities', 'insert', 'inserted', 'inserts', 'inside', 'insight', 'insightful', 'insignificant', 'insinuates', 'insisted', 'inspected', 'inspection', 'inspirational', 'inspire', 'inspired', 'inspires', 'inspiring', 'inspiron', 'insta', 'instagram', 'install', 'installation', 'installed', 'installer', 'installing', 'instalment', 'instance', 'instances', 'instantaneously', 'instantly', 'instead', 'instigate', 'instinct', 'instinctive', 'instincts', 'institute', 'institution', 'institutional', 'institutions', 'instruction', 'instructions', 'instructor', 'instrumental', 'insufferable', 'insufficient', 'insulation', 'insulin', 'insult', 'insulted', 'insulting', 'insults', 'insurance', 'insured', 'insurrection', 'int', 'intact', 'intake', 'intangible', 'integr', 'integral', 'integrate', 'integrated', 'integrating', 'integration', 'integrity', 'intel', 'intellectual', 'intelligence', 'intelligent', 'intend', 'intended', 'intense', 'intensifies', 'intensilo', 'intensities', 'intensity', 'intensive', 'intent', 'intention', 'intentional', 'intentionally', 'intently', 'interacted', 'interacting', 'interaction', 'interactions', 'interacts', 'interbred', 'interchangeable', 'interchangeably', 'interdisciplinary', 'interest', 'interested', 'interesting', 'interestingly', 'interests', 'interface', 'interfere', 'interference', 'interfering', 'intergenerational', 'interim', 'interleukin', 'interlude', 'intermediate', 'intermittently', 'internal', 'internalized', 'international', 'internet', 'interning', 'interns', 'internship', 'interplayed', 'interpretation', 'interrested', 'interrupt', 'interrupted', 'intersesting', 'interstate', 'intersting', 'interval', 'intervened', 'intervention', 'interventions', 'interview', 'interviewed', 'interviewees', 'interviews', 'intimidated', 'intimidating', 'intmrl', 'into', 'intolerance', 'intoxicated', 'intranasal', 'intricate', 'intrigued', 'intriguing', 'intro', 'introduce', 'introduced', 'introduces', 'introduction', 'introvert', 'intrude', 'intrusive', 'intuition', 'intuitive', 'intuos', 'inu', 'inumaki', 'inuyasha', 'invade', 'invaded', 'invalid', 'invaluable', 'invariably', 'invasive', 'invented', 'invention', 'inventory', 'invest', 'invested', 'investigate', 'investigated', 'investigating', 'investigation', 'investigational', 'investing', 'investment', 'invincible', 'invisible', 'invite', 'invited', 'invites', 'involve', 'involved', 'involvement', 'involves', 'involving', 'inward', 'io', 'ion', 'ios', 'ip', 'ip12', 'ip68', 'ipad', 'iphone', 'iphone12', 'iphones', 'ipod', 'ippo', 'ips', 'ipx7', 'iq', 'ir', 'irclickid', 'irgwc', 'irie', 'iris', 'irl', 'iron', 'iron_gland', 'ironed', 'ironic', 'ironically', 'irony', 'irradiation', 'irrational', 'irredeemable', 'irredeemably', 'irrefutably', 'irrelevant', 'irrelevantly', 'irritating', 'iruna', 'is', 'is5by3', 'isekai', 'ish', 'ishida', 'isint', 'iskandar', 'islamophobic', 'island', 'islanders', 'islanding', 'islands', 'isn', 'isner', 'isnt', 'iso', 'isolate', 'isolated', 'isolating', 'isolation', 'isospeed', 'isotope', 'isp', 'israel', 'iss', 'issue', 'issues', 'istbid', 'istcompanyid', 'istfeedid', 'istitemid', 'iswdegh', 'it', 'itadori', 'italian', 'itally', 'italy', 'itching', 'item', 'items', 'iterates', 'iteration', 'iterations', 'itf', 'itm', 'itm04a19617c5715', 'itm100680394dec1', 'itm54586171780fb', 'itm6a064e11152e2', 'itma3584442d27a6', 'itmc0b545b640b0c', 'itme3f2ffc93a418', 'itmf7b3c844e8b6d', 'its', 'itself', 'itsuki', 'itunes', 'iv', 'ivanisevic', 'ivanovic', 'ive', 'ivo', 'iw', 'iwar1fmtvsixk6icg9bhga7ja5j7dsz', 'iwjfnlv', 'iysshiki', 'izuku', 'izumi', 'j3bfny', 'j4p929', 'j5', 'j5ucoak', 'j7f7hg', 'j8ac6z', 'j8e488', 'ja', 'jabali', 'jabeur', 'jack', 'jacked', 'jacket', 'jackif', 'jackson', 'jacoba', 'jaeger', 'jail', 'jailbreak', 'jakarta', 'jam', 'jamanetwork', 'jamanetworkopen', 'jan', 'janice', 'jankovic', 'jannik', 'january', 'japan', 'japanese', 'jaranp', 'jargon', 'jarring', 'jason', 'java', 'jaw', 'jazz', 'jbpyfq', 'jc1', 'jci', 'jci140794', 'jcsgka', 'jd', 'jd72q6', 'jealous', 'jebo', 'jeep', 'jeez', 'jeff', 'jelena', 'jennifer', 'jens', 'jerk', 'jerks', 'jessica', 'jesus', 'jet', 'jettisoned', 'jews', 'jfk', 'jg1wfs', 'jh', 'jhh1wi', 'jhounpp', 'jidai', 'jim_stare_slight_smile', 'jimmy', 'jinghe', 'jiri', 'jjk', 'jkcab2', 'jkrsucw', 'jl1tec', 'jl5z4u', 'jlyq13', 'jn3jwdmoe6e', 'job', 'jobs', 'joe', 'jogo', 'johan', 'johanna', 'johannesburg', 'johansson', 'john', 'johnson', 'join', 'joined', 'joining', 'joint', 'jojo', 'joke', 'jokerlivestream', 'jokes', 'joking', 'jokingly', 'joktpm', 'jonathan', 'jordan', 'jose', 'josemorgado', 'joseph', 'jostle', 'journal', 'journalists', 'journals', 'journey', 'journeymen', 'journeys', 'joy', 'joyful', 'joystick', 'jpb7yo', 'jpbc74', 'jpeg', 'jpg', 'jpgs', 'jpn', 'jswnv7', 'jtlydv', 'jtmu0n', 'judge', 'judged', 'judgement', 'judges', 'judging', 'judgment', 'juice', 'juices', 'juicy', 'juju', 'jujutsu', 'julia', 'julien', 'julius', 'julián', 'july', 'jump', 'jumped', 'jumper', 'jumping', 'jun', 'june', 'jung', 'junior', 'juniors', 'junk', 'junkoda', 'jupiter', 'juqo49vnlyf61', 'jurisdiction', 'jury', 'just', 'justice', 'justify', 'justifyable', 'justifying', 'justs', 'juvan', 'jw5qxr', 'jx4szw', 'jxxinj', 'jxyg13', 'jyoti', 'jüni', 'k1h967', 'k1ngkygrious', 'k27hka', 'k297mz', 'k3000m', 'k5zdrb', 'k6rd5i', 'k6s8pz', 'k6xasnw', 'k8539r', 'ka', 'kabaddi', 'kabaneri', 'kafelnikov', 'kaggle', 'kaguya', 'kahdb8', 'kai', 'kaia_kanepi', 'kaibutsu', 'kaichou', 'kaiji', 'kaiju', 'kaisen', 'kaja', 'kakashi', 'kakuin', 'kamado', 'kamala', 'kamisama', 'kamitachi', 'kamo', 'kana', 'kaname', 'kanan', 'kanepi', 'kang', 'kanna', 'kanno', 'kanojo', 'kaon', 'kaori', 'karate', 'karatsev', 'karen', 'karetsev', 'karlovic', 'karma', 'karsten', 'kasarhérou', 'kasatkina', 'kaseki', 'kashyap', 'kaspar', 'kasun_d_001', 'katanagatari', 'katteru', 'kazuma', 'kb', 'kb95lw', 'kb99xs', 'kbs', 'kd', 'ke', 'kecmanovic', 'keen', 'keep', 'keeper', 'keeping', 'keeps', 'keiichi', 'kelly', 'ken', 'kenin', 'kenins', 'kenja', 'kenshin', 'kenta', 'kenya', 'kept', 'kerber', 'kernel', 'ketamine', 'kevin', 'kewell', 'key', 'keyaru', 'keybase', 'keyboard', 'keyboards', 'keys', 'keyword', 'keywords', 'kezjah', 'kfrfw4', 'kg', 'khachanov', 'khanna', 'khant', 'kichenok', 'kick', 'kickass', 'kicking', 'kicks', 'kid', 'kidding', 'kidnapped', 'kids', 'kikuchi', 'kil', 'kill', 'killed', 'killer', 'killers', 'killing', 'killings', 'kills', 'killua', 'kilograms', 'kilowatts', 'kimi', 'kimluck', 'kimono', 'kind', 'kinda', 'kindegarden', 'kindle', 'kindof', 'kinds', 'king', 'kingdom', 'kingmaker', 'kingston', 'kino', 'kinro', 'kirei', 'kirilenko', 'kisaragi', 'kiss', 'kissing', 'kitchen', 'kits', 'kitsu', 'kitzbuhel', 'kizu', 'kjhbpi', 'kjstxhs', 'kk46o7', 'kkruivr', 'klizan', 'km', 'knee', 'knew', 'knight', 'knights', 'knock', 'knocked', 'knocks', 'know', 'knowing', 'knowledge', 'knowledgeable', 'known', 'knows', 'knox', 'ko', 'kobayashi', 'koenig', 'koepfer', 'kohaku', 'kohli', 'kokk', 'kokkinakis', 'kombucha', 'kong', 'konosuba', 'konta', 'kontaveit', 'kontent', 'korea', 'kornakova', 'kornokova', 'koro', 'kos', 'koukou', 'koukyoushihen', 'koushinryou', 'koutetsujou', 'kovinic', 'kovonic', 'krajicek', 'krajinovic', 'krammer', 'krygios', 'kryonaut', 'kryptonite', 'ksdwxu', 'ksgu8r', 'kt5lad', 'kt5z09', 'ktakm1', 'kudermetova', 'kugisaki', 'kukla', 'kuklachert', 'kukushkin', 'kuma', 'kumo', 'kumoko', 'kumuko', 'kun', 'kurisu', 'kuroko', 'kuznia', 'kuzu', 'kvitova', 'kwan', 'kwh', 'kx67ua', 'kx96wn', 'kxde4oe', 'kxg50znv256g', 'kxxiwd', 'kxy20u', 'ky1iyi', 'kygrios', 'kyoto', 'kyrgios', 'kyrie', 'kzd4pwi', 'l1yzrt', 'l21y2w', 'l2cfyv', 'l2qonu', 'l2rd4h', 'l2uiu5', 'l340', 'l4hjg2rr5af61', 'l5', 'l550', 'l6872q', 'l6xfo9', 'l71k5q', 'l7d66f', 'l7w5z3', 'l7x01r', 'l80zyy', 'la', 'lab', 'label', 'labeled', 'labeling', 'labelled', 'labels', 'labor', 'laboratories', 'laboratory', 'labour', 'labs', 'labyrinth', 'laced', 'laces', 'lack', 'lacked', 'lacking', 'lackluster', 'lacks', 'ladder', 'ladies', 'lady', 'ladylike', 'lag', 'lagann', 'lagged', 'lagging', 'lagoon', 'lags', 'laid', 'lain', 'lajovic', 'lala', 'lamb', 'lambda', 'lambdadelta', 'lame', 'lamp', 'lan', 'lancer', 'lancet', 'land', 'landed', 'landfill', 'landing', 'landings', 'lands', 'landscape', 'landslide', 'lang', 'langid', 'language', 'languages', 'lanterns', 'lap', 'lapointe', 'lappy', 'lapses', 'laptop', 'laptopmodelz', 'laptops', 'large', 'largely', 'larger', 'largest', 'largish', 'las', 'lasagna', 'laser', 'last', 'lasted', 'lasting', 'lastly', 'lasts', 'lastvisibleproductnumber', 'lastwordonsports', 'late', 'lately', 'latency', 'later', 'laterally', 'latest', 'latin', 'latina', 'latino', 'latitude', 'latter', 'laugh', 'laughable', 'laughed', 'laughing', 'laughs', 'laughter', 'launch', 'launched', 'launcher', 'launchers', 'launches', 'laundry', 'laura', 'lauren', 'lav', 'lavender', 'laver', 'law', 'lawn', 'laws', 'lawsuit', 'lawyers', 'lax', 'layer', 'layers', 'laying', 'laymen', 'lazy', 'lbg', 'lbs', 'lbvvi5', 'lcd', 'lcg8y4', 'lcj1xx', 'lcu3rc', 'ldac0e', 'ldb1p8', 'lde4e3', 'ldekz5', 'ldfb6n', 'lead', 'leader', 'leaderboard', 'leaders', 'leadership', 'leading', 'leads', 'leafy', 'league', 'leagues', 'leah', 'leaked', 'leakers', 'lean', 'leanings', 'leans', 'leap', 'learn', 'learned', 'learning', 'learns', 'learnt', 'least', 'leather', 'leave', 'leaves', 'leaving', 'lebron', 'lectures', 'led', 'leds', 'lee', 'leeway', 'left', 'leftie', 'lefties', 'leftist', 'lefty', 'leg', 'legacy', 'legal', 'legal_streams', 'legally', 'legend', 'legendary', 'legends', 'leggy', 'legion', 'legislate', 'legislation', 'legislative', 'legit', 'legitimate', 'legitimately', 'lego', 'legs', 'leiji', 'leisure', 'lelouch', 'lemme', 'lemon', 'lend', 'lendl', 'length', 'lengths', 'lenova', 'lenovo', 'lenovo_81y60004us_15_6_legion_5_gaming', 'lenovo_82c401ffus_v14_i3_1005g1_8gb_256gb_w10p_14', 'lenovo_82d2000bus_id_slim_9_i7_1165g7', 'lenovos', 'lens', 'lent', 'leone', 'leonie', 'leopard', 'less', 'lessened', 'lesser', 'lesson', 'lessons', 'lester', 'let', 'lets', 'letter', 'letters', 'letting', 'level', 'levels', 'leveraging', 'levi', 'levy', 'lewd', 'lewds', 'lex', 'lexrr9', 'lfroal', 'lg', 'lg59f5', 'lgelg8', 'lgkt68', 'lhctfxclnu4', 'lhfkm3', 'lhl9vx', 'lhojof', 'li', 'li1asu', 'li7oc2', 'liable', 'liamapilado', 'liang', 'liberal', 'liberals', 'liberate', 'libgen', 'library', 'licence', 'license', 'licensing', 'lid', 'lie', 'lie0f3', 'liebert', 'liepay', 'lies', 'life', 'lifecycle', 'lifespan', 'lifestyle', 'lifestyles', 'lifetime', 'lift', 'lifted', 'light', 'lighter', 'lightheated', 'lighting', 'lightly', 'lights', 'lightspeed', 'lightweight', 'lignin', 'lih7r4', 'lii4dq', 'like', 'likeable', 'liked', 'likelihood', 'likely', 'likes', 'liking', 'likings', 'lil', 'lilies', 'limbo', 'limit', 'limitation', 'limitations', 'limited', 'limiting', 'limits', 'limping', 'lincoln', 'lindel', 'line', 'lineage', 'lineages', 'linear', 'linen', 'lines', 'lineup', 'linguistic', 'lining', 'link', 'linkcode', 'linked', 'linkid', 'linking', 'links', 'linux', 'linuxmint', 'lion', 'lip', 'lips', 'liquid', 'lisicki', 'list', 'listed', 'listen', 'listening', 'listing', 'lists', 'lit', 'lite', 'liter', 'literal', 'literally', 'literate', 'literature', 'liters', 'lithium', 'litter', 'little', 'liu', 'livable', 'live', 'livechart', 'lived', 'liver', 'lives', 'livestock', 'living', 'liz', 'liz_to_aoi_tori', 'll', 'llegs', 'lmao', 'lmfao', 'lmics', 'lmk', 'ln', 'load', 'loaded', 'loading', 'loads', 'lob', 'lobby', 'lobster', 'loc', 'local', 'locate', 'located', 'location', 'locations', 'loci', 'lock', 'lockdown', 'lockdowns', 'locked', 'locker', 'locking', 'locks', 'lockscreen', 'log', 'logic', 'logical', 'login', 'logistics', 'logitech', 'logo', 'lol', 'lola', 'lolz', 'londero', 'loneliness', 'lonely', 'lonelyscreen', 'long', 'longer', 'longest', 'longetivity', 'longevity', 'longitudinal', 'longshot', 'longtime', 'look', 'looked', 'looking', 'looking_for_good_romance_anime_on_netflix_or', 'lookings', 'looks', 'loop', 'looper', 'loophole', 'looping', 'loops', 'loopy', 'loose', 'loosely', 'loosen', 'looser', 'loosing', 'lopez', 'lopsided', 'lord', 'lore', 'lorenzi', 'lose', 'loser', 'losers', 'loses', 'losing', 'loss', 'losses', 'lost', 'lot', 'lotions', 'lotr', 'lots', 'lotta', 'lottery', 'lou', 'loud', 'loudest', 'loudly', 'loudmouth', 'lousy', 'love', 'loveable', 'lovechild', 'loved', 'lovely', 'lover', 'loves', 'loving', 'low', 'lower', 'lowered', 'lowering', 'lowers', 'lowest', 'lowlight', 'lowly', 'lowpower', 'lows', 'loyal', 'loyalty', 'lpddr4x', 'lr', 'lrobally', 'lrpst', 'lrudro1', 'lrui', 'lsnapdragon', 'lstcomfmjdvkemkn4helphxuf', 'lstcomfnacxrh7za9fapvmoez', 'lstcomfsycp3287mghhnflq4w', 'lstcomfsycpfzsydhmqho8sjl', 'lstcomftwzdhkhbtzzzfzn0px', 'lstcomfuubmmphhh4chthlvjc', 'lstcomfwxwwfd9erafu4gwg22', 'lte', 'lu', 'lucia', 'lucic', 'luck', 'luckily', 'lucky', 'lucrative', 'ludicrous', 'luffy', 'lug', 'lukovi', 'lune', 'lung', 'lungs', 'lutoh', 'lying', 'lyrics', 'lysithea', 'lyuba', 'lz4', 'm1', 'm15', 'm1_macbook_air_sims_4_compatibility', 'm1s3ytn', 'm1x', 'm20', 'm30s', 'm413da', 'm509', 'm509da', 'm8', 'ma', 'ma15', 'mac', 'macaques', 'macbook', 'macbooks', 'machigatteiru', 'machine', 'machines', 'mackie', 'macos', 'macro', 'macrodosing', 'macroscale', 'macrumors', 'macs', 'mad', 'madam', 'maddening', 'made', 'maden', 'madmanfilms', 'madness', 'madoka', 'mafia', 'mager', 'magi', 'magic', 'magica', 'magical', 'magically', 'magician', 'magma', 'magnet', 'magnetoencephalography', 'magnificent', 'magnitude', 'mago', 'magus', 'mah', 'mahito', 'mahotsukai', 'mahou', 'mahouka', 'mahut', 'mai', 'maid', 'maidens', 'mail', 'main', 'maingear', 'mainichi', 'mainly', 'mainstay', 'mainstream', 'maintain', 'maintained', 'maintaining', 'maintains', 'maintenance', 'major', 'majoring', 'majority', 'majors', 'majutsu', 'majutsushi', 'majutsushiorphen', 'make', 'maker', 'makers', 'makes', 'maki', 'making', 'makishima', 'mal', 'malamute', 'malaysia', 'male', 'malecki', 'malevolence', 'malfeasance', 'malicious', 'maltreatment', 'malware', 'mamdani', 'mami', 'mammals', 'mammoth', 'man', 'manage', 'managed', 'management', 'manager', 'managerial', 'managers', 'manages', 'managing', 'manaka', 'mandate', 'mandates', 'mandatory', 'mandlikova', 'manga', 'mangaka', 'manhandling', 'manifest', 'manipulate', 'manipulating', 'manipulation', 'manjaro', 'mannarino', 'manner', 'manners', 'mano', 'manpower', 'mansion', 'manual', 'manually', 'manuals', 'manufactured', 'manufacturer', 'manufacturers', 'manufactures', 'manufacturing', 'many', 'mao', 'maou', 'map', 'maple', 'mappa', 'maps', 'maquia', 'marat', 'marble', 'marc', 'marcelo', 'march', 'margaret', 'margin', 'marginal', 'marginally', 'mari', 'maria', 'marijuana', 'marine', 'marines', 'marital', 'mark', 'markdown', 'marked', 'markedly', 'market', 'marketing', 'marketplace', 'markets', 'markings', 'marks', 'marriage', 'married', 'mars', 'marseille', 'marshes', 'marsoulas', 'martic', 'martin', 'martins', 'marvel', 'marx', 'marxist', 'marxists', 'mary', 'marzyeh', 'masamune', 'mashumairesh', 'mask', 'masked', 'masks', 'masochist', 'mass', 'massacre', 'massive', 'massively', 'massu', 'master', 'masterbathing', 'masters', 'mat', 'match', 'matched', 'matches', 'matchid', 'matching', 'matchup', 'matchups', 'mate', 'matebook', 'material', 'materialism', 'materials', 'maternity', 'mates', 'math', 'mathematica', 'mathematical', 'mathematically', 'mathematics', 'mathias', 'maths', 'matlab', 'matsuda', 'matsumoto', 'matsuribayashi', 'matte', 'matteo', 'matter', 'matters', 'matthew', 'mature', 'matured', 'maturity', 'maverick', 'mawn', 'max', 'maxed', 'maximal', 'maximum', 'maxq', 'may', 'maya', 'maybe', 'mayer', 'mayo', 'mayor', 'mayweather', 'mb', 'mbp', 'mbps', 'mc', 'mccarthy', 'mcdonalds', 'mcenroe', 'mcg', 'mchale', 'mcs', 'md', 'md03', 'md5', 'mdf', 'mdma', 'mdpi', 'me', 'meadows', 'meager', 'meal', 'meals', 'mean', 'meaning', 'meaningful', 'means', 'meant', 'meantime', 'meanwhile', 'measurable', 'measure', 'measured', 'measurements', 'measures', 'measuring', 'meat', 'mech', 'mecha', 'mechanical', 'mechanism', 'mechanisms', 'mechas', 'mechs', 'med', 'meddling', 'meddy', 'media', 'median', 'mediatek', 'mediators', 'medicaid', 'medical', 'medication', 'medicinal', 'medicinally', 'medicine', 'medieval', 'mediocre', 'mediterranean', 'medium', 'medo', 'medvedev', 'meet', 'meeting', 'meetings', 'meets', 'meg', 'megadoses', 'megawatt', 'megumi', 'meh', 'meido', 'meitantei', 'melancholic', 'melanoma', 'melbourne', 'melbournians', 'melody', 'melonoma', 'melrosewheelchairs', 'meltdowns', 'melting', 'member', 'members', 'meme', 'memes', 'memo', 'memorable', 'memories', 'memorize', 'memory', 'men', 'mendelian', 'menial', 'mens', 'ment', 'mental', 'mentally', 'mention', 'mentioned', 'mentioning', 'mentions', 'mentor', 'menu', 'menus', 'merch', 'merciless', 'merely', 'meritocratically', 'merry', 'mers', 'mertens', 'meson', 'mess', 'message', 'messages', 'messaging', 'messed', 'messenger', 'messing', 'met', 'meta', 'metabolite', 'metabolomic', 'metal', 'metallic', 'metaphor', 'metastatic', 'meter', 'metering', 'meters', 'method', 'methodology', 'methods', 'metres', 'metric', 'metropolitan', 'mewnu', 'mexico', 'mfq5qg1', 'mg', 'mha', 'mhz', 'mi', 'mi4jd71', 'miami', 'mic', 'mica', 'mice', 'michael', 'michaels', 'michaël', 'michelle', 'micro', 'microbes', 'microbial', 'microbiome', 'microbiota', 'microdose', 'microdoses', 'microdosing', 'microenvironment', 'microenvironments', 'microfiber', 'microfluidics', 'microgrids', 'microneutralization', 'microns', 'microphone', 'microphones', 'microplastics', 'microscale', 'microscope', 'microsd', 'microsoft', 'microstimulation', 'microwave', 'mics', 'mid', 'midday', 'middle', 'midnight', 'midori', 'midoriya', 'midrange', 'midst', 'midsummer', 'might', 'mighty', 'migi', 'migraine', 'migrate', 'migration', 'miguel', 'migueles', 'mikael', 'mikasa', 'mike', 'miku', 'mild', 'mildly', 'mile', 'miles', 'military', 'milk', 'mill', 'miller', 'milliamp', 'milling', 'million', 'millionaire', 'millions', 'milliseconds', 'millman', 'milos', 'mimimi', 'min', 'minagoroshi', 'minami', 'minar', 'minaur', 'mince', 'mind', 'minded', 'mindfulness', 'mindless', 'minds', 'mindset', 'mine', 'minecraft', 'mines', 'mini', 'minimal', 'minimalist', 'minimally', 'minimi', 'minimised', 'minimize', 'minimum', 'minor', 'minority', 'mins', 'mint', 'minus', 'minute', 'minutely', 'minutes', 'mion', 'miracle', 'miraculously', 'mirai', 'mirjana', 'mirror', 'mirrored', 'mirroring', 'miru', 'misanthropic', 'misbehaving', 'miscalculation', 'miscellaneous', 'mischievous', 'miserable', 'misery', 'mishaps', 'mishra', 'misjudged', 'misplaced', 'miss', 'missed', 'missense', 'misses', 'missing', 'mission', 'mississauga', 'missus', 'mistake', 'mistaken', 'mistakenly', 'mistakes', 'mistreatment', 'misunderstanding', 'misunderstandings', 'misuzawa', 'miswritten', 'mitigate', 'mitochondrial', 'mitsuru', 'miuna', 'miwa', 'mix', 'mixed', 'mixing', 'miyazaki', 'mizuiro', 'mizusawa', 'mizushima', 'mkbhd', 'mkv', 'ml', 'mladenovic', 'mlb', 'mm', 'mmk', 'mmoh', 'mms', 'mmwave', 'mn', 'mo', 'mo9ywl5atgjc', 'moan', 'mobile', 'mobilise', 'mobility', 'mobo', 'mochi', 'mochizou', 'mock', 'mocked', 'mockingbird', 'mockumentary', 'mod', 'modalities', 'mode', 'model', 'modeling', 'modelling', 'models', 'modem', 'moderate', 'moderated', 'moderately', 'moderator', 'moderators', 'modern', 'moderna', 'modes', 'modified', 'modifies', 'modify', 'mods', 'modular', 'modulate', 'modulated', 'modulating', 'module', 'moe', 'moga', 'moist', 'moisture', 'molar', 'molecular', 'molecules', 'molested', 'mom', 'moment', 'moments', 'momentum', 'momoe', 'moms', 'mon', 'mondaiji', 'monday', 'money', 'monfils', 'mongoose', 'monitor', 'monitoring', 'monitors', 'monkey', 'monocultures', 'monod', 'monogamy', 'monogatari', 'monologue', 'mononucleosis', 'monopolize', 'mons', 'monster', 'monsters', 'monstrous', 'montage', 'month', 'monthly', 'months', 'montreal', 'monuments', 'mood', 'moody', 'moon', 'moonlight', 'moonshine', 'moot', 'moral', 'morally', 'morals', 'more', 'moreover', 'moreso', 'morning', 'moron', 'morons', 'mortal', 'mortality', 'mosquito', 'mosquitos', 'most', 'mostly', 'mother', 'motherboard', 'motherboards', 'motherhood', 'motherly', 'mothers', 'motion', 'motivated', 'motivation', 'motivations', 'motivators', 'motives', 'motomeru', 'motor', 'motorola', 'mount', 'mountain', 'mounted', 'mounting', 'mouse', 'moutet', 'mouth', 'mouths', 'move', 'moved', 'movement', 'movements', 'moves', 'movie', 'movies', 'moving', 'mp', 'mp3', 'mp3s', 'mp_s_a_1_1', 'mpid', 'mpixels', 'mpp', 'mq331aqfkagwasa', 'mrna', 'mrwhos', 'mrwjosetheboss', 'ms', 'msi', 'msi_creator_17_a10sgs_254_creator_17_uhd_hdr1000', 'msi_creator_17m_a10se_216_creator_17m_fhd_i7_10750h_rtx2060_16gb_1tbssd_win10pro', 'msi_gs66_stealth_10sgs_441_gs66_stealth_i7_10875h_rtx2080', 'msi_msge66_dragonshield_10sfs_427_msge66_raider_i9_10980hk_rtx2070_super_32gb_1tb', 'msi_prestige_14_a11scx_205_prestige_14_fhd_i7_1185g7', 'msi_summit_b15_a11m_057_summit_b15_fhd_i7_1165g7', 'msis', 'msrp', 'mst', 'mt', 'mto', 'mtv2', 'much', 'muchova', 'mucosal', 'mud', 'mugiwait', 'mugu', 'muguruza', 'muhammad', 'multi', 'multigenerational', 'multimedia', 'multiple', 'multiplying', 'multiregional', 'multitalented', 'multitask', 'multitasking', 'multivariable', 'mum', 'mundane', 'munich', 'municipalities', 'muons', 'murano', 'murder', 'murdered', 'murderer', 'murderers', 'murderous', 'murders', 'murray', 'muscle', 'muscles', 'mushishi', 'mushoku', 'mushrooms', 'music', 'musical', 'musik', 'musk', 'muslim', 'must', 'muster', 'mutants', 'mutates', 'mutations', 'mute', 'muted', 'mutiny', 'muzza', 'mvea', 'mwnoajk', 'mx', 'mx150', 'mx250', 'mx330', 'mx350', 'my', 'myanimelist', 'myanmar', 'myeloid', 'myne', 'myself', 'myselfs', 'mysterious', 'mysteriously', 'mystery', 'myth', 'mythical', 'mélodie', 'n20u', 'n3', 'n4', 'n5', 'n5000', 'n550jk', 'n552vw', 'n580vd', 'n7', 'n82e16834233362', 'n95', 'na', 'nab', 'nada', 'nadal', 'nadals', 'nadeshiko', 'nadja', 'nagatoro', 'nagy', 'nah', 'nail', 'nails', 'nakano', 'nakanos', 'naked', 'naku', 'name', 'named', 'nameless', 'namely', 'names', 'naming', 'nana', 'nanami', 'nani', 'nano', 'nanoedge', 'nanoha', 'naoko', 'naomi', 'nap', 'napping', 'narcissism', 'narcissist', 'narcissistic', 'narcissists', 'narrarating', 'narrative', 'narratives', 'narrator', 'narrow', 'narrowed', 'narrowly', 'narrows', 'naruto', 'nas', 'nasal', 'nasty', 'nathaniel', 'national', 'nationalists', 'nationality', 'nations', 'native', 'natives', 'nativism', 'nato', 'natsuki', 'natural', 'naturally', 'nature', 'nausea', 'nauseating', 'nausicaa', 'nausious', 'navigate', 'navigation', 'navratilova', 'navy', 'naïve', 'nba', 'nbd', 'nber', 'nbsp', 'ncaa', 'ncbi', 'ndh2rvp', 'ndybsbw', 'ne', 'neanderthals', 'near', 'nearby', 'nearest', 'nearly', 'neat', 'neatly', 'neccessary', 'necessarily', 'necessary', 'necessity', 'neck', 'need', 'need_help_with_new_animes', 'needed', 'needing', 'needn', 'needs', 'neena', 'negaticelynimapcts', 'negating', 'negative', 'negatively', 'neglect', 'neglected', 'neglecting', 'negligibly', 'negotiation', 'neighbor', 'neighborhood', 'neiru', 'neither', 'nejm', 'nejmoa2032183', 'neko', 'neo', 'neon', 'nerae', 'nerf', 'nerve', 'nerves', 'nervous', 'nest', 'net', 'netbook', 'netflix', 'netherlands', 'netjuu', 'netplay', 'network', 'networks', 'neural', 'neurological', 'neurologist', 'neuromodulation', 'neuron', 'neurons', 'neuropsychiatric', 'neuroscience', 'neuroscientists', 'neurosurgeon', 'neutral', 'neutralize', 'neutralizing', 'neutrino', 'neutrinos', 'never', 'neverland', 'nevermind', 'new', 'newbie', 'newborn', 'newegg', 'newer', 'newest', 'newfound', 'newly', 'news', 'newtonian', 'next', 'nextgen', 'nextpc05', 'nfc', 'nfl', 'ng2', 'ngl', 'ni', 'ni155000t', 'ni155000t_sb_5017pe', 'nice', 'nice2have', 'nicely', 'nicer', 'nicest', 'nick', 'nickel', 'nickelodeon', 'nickname', 'nicknames', 'nicotine', 'niece', 'niedermaier', 'nielsen', 'niggling', 'nigh', 'night', 'nightfall', 'nightly', 'nightmare', 'nightmares', 'nightmarish', 'nights', 'nightstand', 'nighttime', 'nih', 'nikki', 'nikolausfink', 'nimh', 'nine', 'nino', 'nintendo', 'nisekoi', 'nishikori', 'nishioka', 'nitrated', 'nitrates', 'nitro', 'nits', 'nk', 'nl', 'nlm', 'nm', 'no', 'nobody', 'node', 'noir', 'noise', 'noisy', 'nole', 'non', 'none', 'nonetheless', 'nonexistant', 'nonexpanders', 'nonexpansion', 'nonononono', 'nonsense', 'nonstandard', 'nonstationarity', 'nonstationary', 'noob', 'noodle', 'noon', 'noooo', 'nooooo', 'nope', 'nopht', 'nor', 'nordisk', 'noritoshi', 'norm', 'normal', 'normalized', 'normally', 'norman', 'normie', 'normies', 'norms', 'norrie', 'north', 'northern', 'norway', 'nose', 'noseaum', 'nosebleed', 'nostalgia', 'not', 'notable', 'notably', 'note', 'note10', 'note20', 'note9', 'notebook', 'notebooks', 'noted', 'notes', 'nothin', 'nothing', 'noticable', 'notice', 'noticeable', 'noticeably', 'noticed', 'notices', 'noticing', 'notific7bar', 'notification', 'notifications', 'notified', 'notify', 'notion', 'notorious', 'nott', 'nottingham', 'nov', 'nova', 'novak', 'novaxxzs', 'novel', 'novels', 'november', 'novo', 'now', 'nowadays', 'nowdays', 'nowhere', 'nowthe', 'np', 'np8358f', 'npr', 'nrl', 'nsan8t', 'nsi', 'ntnu', 'ntsc', 'nuances', 'nubwo', 'nuclear', 'nuclei', 'nucleus', 'nudged', 'nudity', 'nugget', 'nuke', 'nuknbpp', 'numazu', 'numb', 'number', 'numberpad', 'numbers', 'numeric', 'numerical', 'numerous', 'numpad', 'nurse', 'nurses', 'nursing', 'nutrients', 'nutrition', 'nvidia', 'nvlddmkm', 'nvme', 'ny', 'o2', 'oahnn', 'oakland', 'obama', 'obercame', 'obese', 'obesity', 'obito', 'objectally', 'objecting', 'objection', 'objective', 'objectively', 'objects', 'obligated', 'obligation', 'obligatory', 'oblivion', 'obnoxious', 'obscuring', 'observant', 'observation', 'observations', 'observed', 'observer', 'obsessed', 'obsession', 'obsessive', 'obsidian', 'obtain', 'obvious', 'obviously', 'oc', 'occasion', 'occasional', 'occasionally', 'occasions', 'occassionaly', 'occupants', 'occupations', 'occupy', 'occur', 'occurence', 'occurences', 'occurred', 'occurs', 'ocd', 'ocean', 'oceans', 'octa', 'october', 'odd', 'oddity', 'oddly', 'oddparents', 'odds', 'odesnik', 'odyssey', 'oecd', 'oefwgpw', 'oem', 'oems', 'of', 'ofc', 'off', 'offcentre', 'offences', 'offended', 'offenders', 'offense', 'offensive', 'offer', 'offered', 'offering', 'offerings', 'offers', 'offerup', 'offhanded', 'office', 'officedepot', 'officer', 'officers', 'official', 'officiate', 'offline', 'offset', 'oficial', 'ofissues', 'often', 'ofunehikis', 'og', 'ogg', 'oh', 'ohd', 'ohh', 'ohhh', 'ohio', 'ohp', 'oil', 'oils', 'oj', 'ojoshi', 'ok', 'okabe', 'okay', 'old', 'older', 'oldest', 'oled', 'olivia', 'om', 'omega', 'omen', 'omg', 'ominous', 'omnipotence', 'omnipresent', 'on', 'once', 'oncologists', 'one', 'onedrive', 'onee', 'oneplus', 'ones', 'oneui', 'ongoing', 'oniisama', 'onizuka', 'online', 'onlineaccessplus', 'only', 'onset', 'ontario', 'onto', 'onus', 'onwards', 'oof', 'ooh', 'ookami', 'ookuki', 'oops', 'op', 'op8pro', 'opelka', 'open', 'opened', 'opening', 'openly', 'opens', 'opera', 'operate', 'operates', 'operating', 'operation', 'opine', 'opinion', 'opinions', 'oppo', 'opponent', 'opponents', 'opportunities', 'opportunity', 'oppose', 'opposed', 'opposing', 'opposite', 'opposition', 'oppressed', 'ops', 'optane', 'opted', 'optic', 'optical', 'optimal', 'optimally', 'optimistic', 'optimization', 'optimize', 'optimized', 'optimizer', 'option', 'optional', 'optionally', 'options', 'optometrist', 'or', 'oracle', 'oral', 'orange', 'orataria', 'orbit', 'order', 'ordered', 'ordering', 'orderly', 'orders', 'ordinary', 'ordrers', 'ore', 'oregairu', 'oregon', 'oreshura', 'org', 'organ', 'organic', 'organise', 'organisers', 'organising', 'organisms', 'organization', 'organizations', 'organize', 'organized', 'organizing', 'organs', 'orgasmic', 'orico', 'orientations', 'oriented', 'origin', 'original', 'originally', 'origins', 'orphaned', 'orphen', 'orthopedics', 'os', 'osaka', 'osb', 'oscar', 'oscillate', 'oscillation', 'oscillations', 'oscillatory', 'osha', 'oshii', 'osl', 'oss', 'ost', 'ostapenko', 'ostracized', 'ostracizing', 'ota', 'otg', 'other', 'others', 'otherwise', 'otherworldly', 'otoko', 'otracker', 'ouch', 'ought', 'oukoku', 'oup', 'our', 'ouran', 'ours', 'ourselves', 'out', 'outage', 'outbreak', 'outcast', 'outcome', 'outcomes', 'outdated', 'outdoor', 'outdoors', 'outer', 'outfield', 'outfit', 'outgoing', 'outlandish', 'outlasting', 'outlet', 'outlined', 'outlook', 'outnumber', 'outperform', 'outpost', 'output', 'outputs', 'outrage', 'outright', 'outs', 'outside', 'outsized', 'outstanding', 'outswinger', 'outta', 'outwards', 'outweigh', 'outwit', 'ova', 'ovas', 'oven', 'over', 'overall', 'overblown', 'overclocked', 'overcome', 'overcomes', 'overcoming', 'overdone', 'overdose', 'overestimate', 'overfitting', 'overhaul', 'overhauled', 'overhead', 'overheat', 'overheated', 'overheating', 'overheats', 'overhyped', 'overhyping', 'overlapped', 'overlay', 'overlays', 'overlook', 'overlooked', 'overlooking', 'overly', 'overnight', 'overpower', 'overprice', 'overpriced', 'overrated', 'overreach', 'overreaction', 'overrule', 'overshadowed', 'oversharpened', 'overstimulating', 'overstudying', 'overtake', 'overthink', 'overthinking', 'overtime', 'overton', 'overuse', 'overused', 'overview', 'overwatch', 'overweight', 'overwhelmed', 'overwhelming', 'overwhelmingly', 'overworked', 'owarimonogatari', 'owe', 'owing', 'own', 'owned', 'owner', 'owners', 'ownership', 'owning', 'owns', 'oxidized', 'oxygen', 'oxytocin', 'oyfix0m04ho51', 'oz', 'ozuma', 'p1', 'p170hm', 'p2', 'p2xl', 'p3', 'p5', 'p53', 'p55', 'p55w', 'p6300tbegus', 'p850', 'p_36', 'p_85', 'p_n_feature_browse', 'pa', 'pablo', 'pace', 'paced', 'pacific', 'pacifica', 'pacing', 'pack', 'package', 'packaged', 'packages', 'packaging', 'packed', 'packing', 'packs', 'pad', 'pads', 'page', 'pages', 'paid', 'pain', 'painful', 'painfully', 'pains', 'paint', 'painting', 'paintings', 'pair', 'paire', 'pairing', 'pairs', 'paish', 'palace', 'pale', 'paleolithic', 'pales', 'palm', 'pan', 'panda', 'pandemic', 'pandemics', 'pandering', 'panel', 'panels', 'panic', 'panics', 'panoramas', 'pans', 'pansy', 'pantone', 'pants', 'panzer', 'paper', 'paper_composite_panels', 'papers', 'par', 'paracetamol', 'paradise', 'paradox', 'paragraph', 'parallel', 'parallels', 'parameters', 'paranoia', 'paraphrase', 'paraphrased', 'parasite', 'parasites', 'parasols', 'parasyte', 'parasytes', 'parent', 'parenthesis', 'parents', 'pariah', 'paris', 'parity', 'park', 'parked', 'parking', 'parkinson', 'parks', 'parlays', 'parrot', 'parse', 'part', 'partake', 'partial', 'partially', 'participant', 'participants', 'participate', 'participating', 'participation', 'particle', 'particles', 'particular', 'particularly', 'particulate', 'parties', 'parting', 'partly', 'partnering', 'partnership', 'parts', 'party', 'pas', 'pascal', 'pass', 'passed', 'passes', 'passing', 'passion', 'passive', 'passively', 'passmark', 'passthrough', 'past', 'paste', 'pasted', 'patamawenu', 'patch', 'patched', 'patches', 'patents', 'path', 'pathetic', 'pathfinder', 'pathogen', 'pathogens', 'pathology', 'pathophysiology', 'pathway', 'pathways', 'patience', 'patient', 'patients', 'patj', 'patrolling', 'patron', 'pattern', 'patterns', 'paul', 'pause', 'paused', 'pavilion', 'pavillion', 'pay', 'paying', 'payment', 'paypal', 'pays', 'paywalled', 'pbs', 'pbyei5f', 'pc', 'pcb', 'pci', 'pcie', 'pclie', 'pcr', 'pcworld', 'pd', 'pdf', 'pdgfr', 'pdp', 'pdt', 'peaceful', 'peach', 'peak', 'peaked', 'peaking', 'peaks', 'peasant', 'peasants', 'peck', 'pectoral', 'pedal', 'pederson', 'pediatric', 'pedophiles', 'pedophilia', 'pee', 'peek', 'peeking', 'peep', 'peeps', 'peer', 'peers', 'peeve', 'peeves', 'pegula', 'pella', 'pembrolizumab', 'pen', 'penache', 'penalties', 'penalty', 'penises', 'penn', 'pennsylvania', 'penny', 'pens', 'pension', 'pentium', 'people', 'peoples', 'pep', 'peppers', 'per', 'perceived', 'perceives', 'percent', 'percentage', 'perception', 'perf', 'perfect', 'perfecting', 'perfectly', 'perfomance', 'perform', 'performance', 'performance_timelines', 'performances', 'performed', 'performer', 'performing', 'performs', 'perhaps', 'pericyte', 'period', 'periodic', 'periodically', 'periods', 'peripheral', 'peripherals', 'perivascular', 'perl', 'permanent', 'permanently', 'permissible', 'permissions', 'peroxide', 'perpetual', 'perpetually', 'perpetuated', 'persecution', 'perseverance', 'persevere', 'persistent', 'persists', 'person', 'persona', 'personal', 'personalities', 'personality', 'personalized', 'personally', 'personnel', 'persons', 'perspective', 'perturbation', 'perturbations', 'pestes', 'pet', 'petchey', 'peter', 'petit', 'peto', 'petrova', 'pets', 'petty', 'pfi', 'pg13', 'pgdbpcs', 'ph317', 'phantom', 'pharma', 'pharmaceutical', 'pharmacologic', 'pharmacological', 'phase', 'phd', 'phenomena', 'phenomenal', 'phenomenon', 'phenotypes', 'phewwww', 'philippe', 'philosophical', 'philosophy', 'phone', 'phonearena', 'phones', 'phoronix', 'photo', 'photographer', 'photography', 'photos', 'photoshop', 'php', 'phrase', 'phrased', 'physical', 'physically', 'physicist', 'physics', 'physio', 'physiological', 'physiotherapist', 'physique', 'pi', 'pic', 'pick', 'picked', 'picking', 'picks', 'picnic', 'pics', 'picture', 'pictures', 'pid', 'pidlnv81y60082ix', 'piece', 'pieces', 'pierce', 'piezoelectric', 'pigs', 'pii', 'pikachu', 'pilgrimage', 'pill', 'pilot', 'pimp', 'pimps', 'pin', 'pine', 'pinecone', 'ping', 'pink', 'pinnacle', 'pinpoint', 'pins', 'piped', 'pipes', 'pirate', 'piss', 'pissed', 'pissing', 'pistons', 'pitch', 'pitched', 'pitcher', 'pitching', 'pitt', 'pittsburgh', 'pity', 'pivot', 'pixel', 'pixels', 'pixle', 'pixlemon', 'pj', 'pjpg', 'pjs', 'pl', 'pla', 'place', 'placebo', 'placebos', 'placed', 'placement', 'places', 'placing', 'plagues', 'plain', 'plan', 'plane', 'planes', 'planet', 'planing', 'planned', 'planning', 'plans', 'plant', 'planted', 'planting', 'plantlife', 'plants', 'plasmagica', 'plastered', 'plastic', 'plasticity', 'plastics', 'plate', 'platelets', 'platform', 'platforms', 'plausible', 'play', 'playable', 'playboy', 'played', 'player', 'players', 'playing', 'playlist', 'plays', 'pleasant', 'pleasantly', 'please', 'pleased', 'pleasing', 'pleasure', 'plenty', 'pliskova', 'plot', 'plotline', 'plotlines', 'plots', 'plotting', 'ploughed', 'ploy', 'pls', 'plug', 'plugged', 'plugging', 'plugs', 'plumbagin', 'plummet', 'plunging', 'plus', 'plussed', 'pluto', 'plxsscenep7jg', 'plxsscenep7jj1kdccolbqt6tpesjzbfn9', 'plz', 'pm2', 'pmc', 'pmc4139072', 'pmc4153851', 'pmc7333005', 'pmid', 'pmu', 'pnas', 'pneumococcal', 'png', 'pnoc', 'po84qcdbcyf61', 'poc', 'pocket', 'pockets', 'pocky', 'podcast', 'podcasts', 'podoroska', 'point', 'pointed', 'pointing', 'pointless', 'pointlessly', 'points', 'poison', 'pokemon', 'poker', 'pokémon', 'polar', 'polarised', 'polarization', 'polarizing', 'polemic', 'poles', 'police', 'policies', 'policing', 'policy', 'polished', 'politcal', 'politely', 'political', 'politically', 'politician', 'politicians', 'politicised', 'politics', 'poll', 'pollinate', 'pollination', 'pollinator', 'pollinators', 'pollutant', 'pollutants', 'polluted', 'pollution', 'poly', 'polymer', 'polymerase', 'polytopia', 'polyunsaturated', 'pondering', 'pool', 'poole', 'poor', 'poorer', 'poorly', 'pop', 'popcorn', 'popped', 'popping', 'poppy', 'populace', 'popular', 'popularity', 'population', 'populations', 'popup', 'popyrin', 'poring', 'pork', 'pornstars', 'port', 'portability', 'portable', 'portege', 'porting', 'portion', 'portions', 'portless', 'portrait', 'portrayed', 'ports', 'pos', 'pose', 'poseted', 'posing', 'posit', 'position', 'positioned', 'positioning', 'positions', 'positive', 'positively', 'positives', 'pospisil', 'possess', 'possessive', 'possibilities', 'possibility', 'possible', 'possibly', 'post', 'posted', 'posting', 'postoperative', 'postpartum', 'posts', 'postural', 'posture', 'potapova', 'potato', 'potent', 'potential', 'potentially', 'potentials', 'pothead', 'potions', 'pounce', 'pound', 'pounds', 'poured', 'pours', 'poverty', 'powder', 'power', 'powered', 'powerful', 'powerfull', 'powerhouse', 'powering', 'powerlessness', 'powerpoint', 'powers', 'powersupply', 'pp', 'ppe', 'ppl', 'ppn', 'ppt', 'ppx_pop_mob_ap_share', 'ppx_yo_dt_b_search_asin_title', 'pr', 'practical', 'practically', 'practice', 'practiced', 'practices', 'practicing', 'practising', 'practitioner', 'pragmatic', 'prairie', 'praise', 'praised', 'pray', 'prd', 'pre', 'preached', 'preaching', 'prebuilt', 'precedes', 'precious', 'precipitation', 'precise', 'precisely', 'precision', 'preclinical', 'precure', 'predator', 'predatorsense', 'predatory', 'predetor', 'predicition', 'predict', 'predictable', 'predicted', 'predicting', 'prediction', 'predictions', 'predictive', 'predictor', 'predisposed', 'predisposition', 'predominant', 'prefer', 'preferable', 'preferably', 'preference', 'preferences', 'preferential', 'preferred', 'preferring', 'preform', 'preinstalled', 'preliminary', 'premier', 'premiere', 'premium', 'preorder', 'preordered', 'prep', 'preparation', 'prepare', 'prepared', 'prepares', 'preparing', 'preponderance', 'preposterous', 'presario', 'prescribe', 'prescribed', 'prescription', 'preselectedbrandsnumber', 'preselectedcategoriesnumber', 'presence', 'present', 'presentation', 'presented', 'presenting', 'presents', 'preservatives', 'preserve', 'preserving', 'preset', 'presidency', 'president', 'presidential', 'presidents', 'press', 'pressed', 'presses', 'pressing', 'pressups', 'pressure', 'prestige', 'prestigious', 'presto', 'presumably', 'presume', 'pretend', 'pretended', 'pretending', 'pretentious', 'pretty', 'prev', 'prevailed', 'prevalence', 'prevalent', 'prevent', 'preventable', 'preventative', 'prevented', 'preventing', 'prevention', 'preventive', 'prevents', 'preview', 'previous', 'previously', 'price', 'priced', 'prices', 'pricey', 'pricing', 'pride', 'prideful', 'primal', 'primarily', 'primary', 'prime', 'prince', 'princess', 'principal', 'principals', 'principle', 'principled', 'print', 'printer', 'prior', 'priori', 'priorities', 'prioritise', 'prioritize', 'prioritizing', 'priority', 'prism', 'prison', 'prisoner', 'prisoners', 'pristine', 'privacy', 'private', 'privately', 'privatisation', 'privilege', 'privileges', 'privy', 'prize', 'prizes', 'pro', 'proart', 'prob', 'probability', 'probably', 'probe', 'probed', 'problem', 'problematic', 'problems', 'probook', 'probs', 'procedure', 'procedures', 'proceeded', 'proceeding', 'proceedings', 'proceeds', 'process', 'processed', 'processes', 'processing', 'processor', 'processors', 'prochot', 'procrastinating', 'prodigies', 'prodigy', 'produce', 'produced', 'producer', 'produces', 'producing', 'product', 'product_id', 'productdetail', 'production', 'productive', 'productivity', 'products', 'prof', 'professional', 'professionals', 'professor', 'proficiency', 'profile', 'profit', 'profitable', 'profits', 'profusely', 'progamerstech', 'progii', 'prognosis', 'program', 'programm', 'programmed', 'programmes', 'programming', 'programs', 'progress', 'progressed', 'progresses', 'progressing', 'progression', 'progressively', 'prohibited', 'prohibition', 'project', 'projected', 'projecting', 'projects', 'prolific', 'prolly', 'prolong', 'prolonged', 'prolonging', 'promare', 'prominent', 'promise', 'promised', 'promising', 'promo', 'promos', 'promote', 'promotes', 'promoting', 'promotion', 'promotional', 'promotions', 'prompted', 'prompting', 'prompts', 'promulgated', 'prone', 'prongs', 'pronounced', 'pronouns', 'pronunciation', 'proof', 'proofreading', 'propagate', 'propagation', 'proper', 'properly', 'properties', 'property', 'prophetic', 'propoganda', 'proportion', 'proportional', 'proportionally', 'proportionate', 'proposed', 'propperly', 'proprietary', 'props', 'pros', 'prosecute', 'prosecuted', 'prosecutor', 'prosocial', 'prospect', 'prospects', 'prostaff', 'prostitute', 'protagonist', 'protect', 'protected', 'protecting', 'protection', 'protective', 'protector', 'protectors', 'protein', 'proteomic', 'protocols', 'protons', 'prototypes', 'proud', 'prove', 'proven', 'proves', 'provide', 'provided', 'provider', 'providers', 'provides', 'providing', 'province', 'provincial', 'proving', 'provoke', 'provoked', 'proxied', 'proximal', 'ps', 'ps3', 'ps4', 'psc', 'psc0re', 'pseudomaterial', 'pseudoscience', 'pseudovirus', 'psilocybin', 'psych', 'psychedelic', 'psychedelics', 'psychiatrist', 'psychiatry', 'psycho', 'psychobiome', 'psychological', 'psychologically', 'psychology', 'psychopath', 'psychotic', 'psycological', 'pt515', 'ptpa', 'ptsd', 'pub_releases', 'pubchem', 'puberty', 'public', 'publication', 'publicity', 'publicly', 'publish', 'published', 'pubmed', 'pubs', 'pudding', 'pufa', 'puffing', 'pull', 'pullano', 'pulled', 'pulling', 'pulls', 'pulse', 'pump', 'punch', 'punching_spaghetti', 'punish', 'punishment', 'punishments', 'punk', 'pupa', 'purchase', 'purchased', 'purchasing', 'pure', 'purely', 'purest', 'purity', 'purple', 'purpose', 'purposes', 'purpuse', 'pursuit', 'push', 'pushed', 'pusher', 'pushes', 'pushing', 'put', 'putative', 'putintseva', 'puts', 'putting', 'puzzle', 'puzzled', 'puzzler', 'puzzles', 'pv', 'pvei', 'pwning', 'pxe', 'pyrenees', 'pyt1yam', 'python', 'q3', 'q536', 'q80', 'q9xjv4p', 'qa', 'qar2qhp', 'qc', 'qf', 'qhd', 'qid', 'qj9b04c', 'qjab004', 'qje', 'qjiztli', 'qled', 'qm', 'qquestion', 'quad', 'quadro', 'quadros', 'quake', 'qualies', 'qualifier', 'qualifiers', 'qualify', 'qualifying', 'qualities', 'quality', 'quantitative', 'quantity', 'quantum', 'quarantine', 'quarries', 'quarter', 'quarterbacks', 'quarterfinal', 'quarterfinalist', 'quarterfinals', 'quarterly', 'quarters', 'quebec', 'queen', 'queens', 'queries', 'querrey', 'ques', 'question', 'questionable', 'questioned', 'questioning', 'questionnaire', 'questions', 'quibbles', 'quick', 'quicker', 'quickly', 'quickstar', 'quiet', 'quieter', 'quietly', 'quintessential', 'quintuplets', 'quirky', 'quit', 'quite', 'quitting', 'quiverquant', 'quotation', 'quote', 'quotes', 'quoting', 'quvxkki', 'r1', 'r11', 'r16', 'r2', 'r3', 'r3u1', 'r4', 'r5', 'r5npqwt', 'r7', 'rabbit', 'race', 'racer', 'racial', 'racing', 'racism', 'racist', 'rack', 'racket', 'rackets', 'racquet', 'racquetball', 'racquets', 'radar', 'radeon', 'radiator', 'radical', 'radically', 'radio', 'radiocarbon', 'radius', 'radwanskas', 'rafa', 'rafael', 'rafas', 'raft', 'rage', 'raid', 'raider', 'railgun', 'railroad', 'rain', 'rained', 'rainfall', 'rainforest', 'rainy', 'rais', 'raise', 'raised', 'raises', 'raising', 'rakka', 'rakugo', 'rakuten', 'rallies', 'rally', 'ram', 'rambling', 'ramifications', 'ramos', 'ramp', 'ramped', 'ramps', 'ran', 'rancid', 'random', 'randomization', 'randomized', 'randomly', 'randoms', 'range', 'ranging', 'rank', 'ranked', 'ranking', 'rankings', 'ranks', 'rant', 'ranting', 'rants', 'raonic', 'rap', 'rape', 'rapid', 'rapidly', 'rare', 'rarely', 'rarity', 'rasa', 'rate', 'rated', 'rates', 'rather', 'ratial', 'rating', 'ratings', 'ratio', 'rational', 'rationalize', 'rattle', 'rave', 'raven', 'ravens', 'raving', 'raw', 'rawal', 'ray', 'rayzen', 'razak', 'razer', 'razer_rz09_03286e22_r3u1_rz09_i7_10750h_16gb_512gb', 'razers', 'rba', 'rbg', 'rcs', 'rcts', 'rd', 'rdr2', 'rdrs', 're', 'reaally', 'reach', 'reached', 'reaches', 'reaching', 'react', 'reacted', 'reaction', 'reactionary', 'reactions', 'read', 'readable', 'readd', 'reader', 'readers', 'reading', 'readmission', 'ready', 'real', 'realisation', 'realise', 'realised', 'realises', 'realistic', 'realistically', 'reality', 'realize', 'realized', 'realizes', 'realizing', 'really', 'realm', 'realtek', 'reapplied', 'reapply', 'rear', 'reasearch', 'reason', 'reasonable', 'reasonably', 'reasoning', 'reasons', 'rebekah', 'rebelled', 'rebind', 'reboot', 'rebooted', 'rebooting', 'rebound', 'rebuilds', 'rebuilt', 'rebuttal', 'recall', 'recap', 'recaps', 'reccomendations', 'reccomended', 'reccommendations', 'receive', 'received', 'receiver', 'receiving', 'recent', 'recently', 'recents', 'receptionist', 'recession', 'rechargeable', 'recharged', 'recharging', 'recieve', 'recieved', 'recipients', 'reciprocating', 'reckon', 'recognition', 'recognize', 'recognized', 'recognizes', 'recognizing', 'recombinant', 'recommend', 'recommendation', 'recommendations', 'recommended', 'recommending', 'recommends', 'reconnect', 'reconnected', 'reconnects', 'record', 'recorded', 'recorders', 'recording', 'records', 'recoup', 'recouping', 'recover', 'recovered', 'recovery', 'recreate', 'recreational', 'rectal', 'rectify', 'rectum', 'recur', 'recurrent', 'red', 'redd', 'reddit', 'redditor', 'redditors', 'redeem', 'redeemable', 'redeeming', 'redefining', 'redesign', 'redirectedfrom', 'redirects', 'redo', 'reds', 'reduce', 'reduced', 'reduces', 'reducing', 'reduction', 'reductions', 'reeked', 'reeks', 'reel', 'reelection', 'ref', 'refer', 'referee', 'referees', 'reference', 'references', 'referral', 'referred', 'referrer', 'referring', 'refine', 'refined', 'refinements', 'refineries', 'reflect', 'reflected', 'reflecting', 'reflection', 'reflectivity', 'reflects', 'reflexes', 'reformat', 'refraction', 'refractory', 'refrain', 'refresh', 'refreshed', 'refreshedbyus', 'refreshing', 'refugees', 'refund', 'refunded', 'refurb', 'refurbished', 'refurbs', 'refusal', 'refuse', 'refused', 'refuses', 'refusing', 'refutes', 'reg', 'regains', 'regal', 'regarding', 'regardless', 'regards', 'regenerate', 'regenerative', 'regent', 'regesters', 'region', 'regional', 'regions', 'register', 'registered', 'regression', 'regret', 'regretful', 'regrets', 'regrettably', 'regretting', 'regular', 'regularly', 'regulated', 'regulation', 'regulations', 'reicarnated', 'reigning', 'reincarnated', 'reincarnation', 'reinforce', 'reinforced', 'reinstall', 'reinstalled', 'reinstalling', 'reject', 'rejected', 'rejecting', 'rekka', 'relatability', 'relatable', 'related', 'related_sites', 'relates', 'relating', 'relation', 'relations', 'relationship', 'relationships', 'relative', 'relatively', 'relatives', 'relativity', 'relax', 'relaxation', 'relaxed', 'release', 'released', 'releases', 'releasing', 'relentlessly', 'relentlessness', 'relevant', 'reliable', 'reliably', 'reliant', 'relief', 'relieve', 'relieved', 'religion', 'religious', 'relinked', 'relish', 'reload', 'rely', 'relying', 'remain', 'remainder', 'remained', 'remaining', 'remains', 'remake', 'remakes', 'remark', 'remarkable', 'remarked', 'rematch', 'remedy', 'remember', 'remembered', 'remembers', 'reminded', 'reminder', 'reminds', 'reminiscent', 'reminiscing', 'remodeling', 'remorse', 'remote', 'remotely', 'removable', 'removal', 'remove', 'removed', 'removes', 'removing', 'rena', 'rename', 'rendered', 'rendering', 'renewable', 'renewables', 'renewed', 'rengehype', 'rengethink', 'renowned', 'rent', 'reopenings', 'rep', 'repair', 'repaired', 'repairing', 'repairs', 'repeal', 'repeat', 'repeated', 'repeatedly', 'repercussions', 'repetitive', 'replace', 'replaced', 'replacement', 'replacements', 'replacing', 'replay', 'replenish', 'replicate', 'replicates', 'replicating', 'replication', 'replied', 'replies', 'replugging', 'reply', 'replying', 'report', 'reported', 'reportedly', 'reporters', 'reporting', 'reports', 'reposted', 'reprehensible', 'represent', 'representation', 'representations', 'representative', 'representivity', 'represents', 'reprint', 'reproductive', 'reprogrammed', 'reps', 'republican', 'republicans', 'reputable', 'reputation', 'request', 'requesting', 'requests', 'requiem', 'require', 'required', 'requirement', 'requirements', 'requires', 'requiring', 'requisite', 'res', 'resale', 'rescue', 'research', 'researcher', 'researchers', 'researchgate', 'researching', 'resell', 'reseller', 'reselling', 'resembles', 'resent', 'reserved', 'reserves', 'reservoir', 'reset', 'resets', 'resetting', 'reshaping', 'reside', 'residents', 'residual', 'residue', 'residues', 'resilience', 'resist', 'resistance', 'resistant', 'resisting', 'resize', 'resoltion', 'resolution', 'resolutions', 'resolve', 'resolved', 'resolves', 'resolving', 'resonance', 'resonate', 'resort', 'resource', 'resources', 'respect', 'respected', 'respectful', 'respective', 'respectively', 'respects', 'respiratory', 'respond', 'responded', 'responder', 'responders', 'responding', 'response', 'responses', 'responsibilities', 'responsibility', 'responsible', 'responsive', 'responsiveness', 'rest', 'restart', 'restarted', 'restarting', 'restarts', 'restaurant', 'restaurants', 'rested', 'resting', 'restoration', 'restore', 'restoring', 'restrict_sr', 'restricted', 'restricting', 'restrictions', 'resubmit', 'result', 'resulted', 'resulting', 'results', 'resume', 'resuming', 'resurgence', 'resurgent', 'retail', 'retailer', 'retained', 'retains', 'retaliation', 'retest', 'retests', 'rethink', 'reticulum', 'retire', 'retired', 'retirement', 'retires', 'retiring', 'retreat', 'retreating', 'retrieve', 'retrospect', 'retrospective', 'retry', 'rettousie', 'return', 'returned', 'returner', 'returning', 'returns', 'retweeted', 'reuniting', 'rev', 'reveal', 'revealed', 'revealing', 'reveals', 'revelation', 'revelations', 'revenge', 'revengers', 'revenue', 'reverberated', 'reverify', 'reverse', 'reverse_image_searching', 'reversed', 'reversible', 'reversing', 'review', 'reviewed', 'reviewer', 'reviewers', 'reviewing', 'reviews', 'revisited', 'revisits', 'revit', 'revival', 'revived', 'revolt', 'revolves', 'reward', 'rewards', 'rewatch', 'rewatched', 'rewatcher', 'rewatching', 'rewrite', 'reza', 'rg', 'rgb', 'rhesus', 'rhythm', 'ribbed', 'rice', 'rich', 'richest', 'richlite', 'rid', 'ride', 'rideable', 'rider', 'ridiculous', 'ridiculously', 'riding', 'rig', 'right', 'righteous', 'righties', 'rightly', 'rights', 'rigid', 'rika', 'rikl', 'rim', 'rin', 'ring', 'ringu', 'rip', 'ripoff', 'ripped', 'rise', 'risen', 'rising', 'risk', 'risking', 'risks', 'risky', 'rival', 'rivalry', 'rivals', 'river', 'riwkholiy7y', 'rla', 'rma', 'rmeq', 'rmt01', 'rn', 'rna', 'rnid', 'road', 'roads', 'roaming', 'roast', 'roasting', 'robbed', 'roberto', 'robin', 'roblox', 'robot', 'robotic', 'robotics', 'robust', 'rock', 'rocket', 'rocking', 'rockstar', 'rocky', 'rod', 'roddick', 'roddicks', 'rode', 'rodeo', 'rodick', 'roflmao', 'rog', 'roger', 'rogers', 'roland', 'role', 'roles', 'rolex', 'roll', 'roll20', 'rolled', 'roller', 'rollercoasters', 'rollies', 'rollout', 'rolls', 'rolly', 'rom', 'romaji', 'romance', 'romance_animes_on_netflix_because_my_actual_love', 'romances', 'romantic', 'rome', 'ronaldo', 'roof', 'rooftop', 'rookies', 'room', 'roommate', 'rooms', 'root', 'rooting', 'roped', 'roping', 'rosella', 'roses', 'rosetta', 'rosmalen', 'roster', 'roswall', 'rot', 'rotten', 'rotterdam', 'rough', 'roughly', 'round', 'rounding', 'rounds', 'route', 'router', 'routine', 'routines', 'row', 'rowdy', 'rows', 'royal', 'rpm', 'rps', 'rr', 'rs', 'rslashreddituser2', 'rsljlk3nx8k', 'rt', 'rtx', 'rtx2060', 'rub', 'rubbed', 'rubber', 'rubbers', 'rubbing', 'rubbish', 'rublev', 'rude', 'rudeus', 'rugby', 'rui', 'ruin', 'ruined', 'ruining', 'ruins', 'rule', 'ruled', 'rules', 'ruling', 'rum', 'rumbling', 'rumor', 'rumors', 'run', 'runner', 'runners', 'running', 'runs', 'rupee', 'rural', 'rurouni', 'rusak', 'ruscio', 'rush', 'rushed', 'rushes', 'rushing', 'russia', 'russian', 'rust', 'ruthlessly', 'rvz8jwq', 'rx', 'ryan120420', 'ryp8dyn', 'ryuyo_autocamp', 'ryzen', 'ryzen5', 'rz09', 'r²', 'révolution', 's003p575017us_vivp', 's1', 's10', 's1047279721000090', 's10e', 's12964', 's13', 's2', 's20', 's20s', 's20u', 's21', 's21u', 's21ultra', 's22', 's23', 's2p1', 's2p2', 's3', 's3p2', 's4', 's41380', 's41467', 's41598', 's5', 's540', 's6', 's7', 's8', 's9', 'saab', 'sabalenka', 'sabine', 'sacred', 'sacrifice', 'sacrifices', 'sad', 'sadako', 'saddened', 'saddest', 'sadge', 'sadism', 'sadistic', 'sadly', 'sadness', 'sadoko', 'saekano', 'safe', 'safeguard', 'safely', 'safer', 'safest', 'safety', 'safin', 'sagepub', 'sager', 'sagers', 'said', 'sailing', 'sailor', 'saint', 'sake', 'sakkari', 'sakura', 'sakurada', 'sakuta', 'salad', 'salary', 'sale', 'sales', 'saleslady', 'salisbury', 'salt', 'salutations', 'salvador', 'salvaged', 'salvos', 'sam', 'sama', 'samas', 'same', 'sammy', 'sample', 'samples', 'sampling', 'sampras', 'samsung', 'samsung_galaxy_s10', 'samsungal', 'samsunglou', 'samsungrs', 'samsungs', 'samurai', 'san', 'sanctuary', 'sand', 'sandbox', 'sandeep', 'sandgren', 'sang', 'sanitizer', 'sao', 'sao3', 'sarah', 'sars', 'sars2', 'sasurai', 'sat', 'sata', 'satellite', 'satellites', 'satiate', 'satisfaction', 'satisfactory', 'satisfied', 'satisfies', 'satisfy', 'satisfying', 'satoko', 'satomi', 'satoshi', 'satousmith', 'saturated', 'saturday', 'saucenao', 'saulnier', 'sauna', 'savage', 'savages', 'save', 'saved', 'saver', 'saves', 'saving', 'savings', 'savvy', 'saw', 'sawdust', 'say', 'saying', 'says', 'sc', 'scale', 'scaling', 'scam', 'scammiest', 'scamming', 'scan', 'scandal', 'scanner', 'scanning', 'scans', 'scar', 'scarce', 'scare', 'scared', 'scaring', 'scarring', 'scars', 'scarves', 'scary', 'scatter', 'scenario', 'scenarios', 'scene', 'scenes', 'sceptical', 'sch', 'schedule', 'scheduled', 'schedules', 'scheduling', 'schematics', 'scheme', 'schisms', 'schizophrenia', 'schizophrenic', 'schlock', 'scholar', 'school', 'schooling', 'schools', 'schtick', 'schultz', 'schwartzman', 'schöttker', 'sci', 'sciadv', 'science', 'sciencedirect', 'sciencemag', 'sciences', 'scientific', 'scientist', 'scientists', 'scoff', 'scolded', 'score', 'scoreboard', 'scored', 'scoreline', 'scores', 'scoring', 'scott', 'scoured', 'scouting', 'scramble', 'scrap', 'scraping', 'scrappy', 'scratch', 'scratched', 'scratches', 'scream', 'screaming', 'scree', 'screen', 'screened', 'screenpad', 'screens', 'screenshot', 'screenshots', 'screenshotted', 'screw', 'screwed', 'screwing', 'screws', 'scroll', 'scrolling', 'scrub', 'scum', 'scummy', 'sd', 'sd865', 'sdhc', 'sdxc', 'se', 'sea', 'seagate', 'seal', 'sealed', 'seals', 'seam', 'seamless', 'seamlessly', 'seams', 'sean', 'search', 'searched', 'searches', 'searching', 'seas', 'seashell', 'season', 'seasonal', 'seasonally', 'seasoned', 'seasons', 'seat', 'seats', 'sebastien', 'sec', 'secluded', 'second', 'secondary', 'seconds', 'secret', 'secretions', 'secretly', 'section', 'sections', 'sectors', 'secure', 'secured', 'securities', 'security', 'see', 'seed', 'seeded', 'seeding', 'seeds', 'seeing', 'seek', 'seeking', 'seem', 'seemed', 'seeming', 'seemingly', 'seems', 'seen', 'sees', 'segment', 'segmentation', 'sei', 'seinen', 'seismic', 'seiyuu', 'seki', 'sekiro', 'seldom', 'select', 'selected', 'selecting', 'selection', 'seles', 'self', 'self_control', 'selfie', 'selfies', 'selfish', 'selfless', 'sell', 'seller', 'sellers', 'selling', 'sells', 'semaglutide', 'semantic', 'semblance', 'semester', 'semesters', 'semi', 'semifinal', 'semifinals', 'semis', 'sempai', 'send', 'sending', 'sends', 'senescence', 'senior', 'senki', 'senku', 'senkuu', 'senpai', 'sense', 'sensei', 'sensibility', 'sensitive', 'sensitivity', 'sensor', 'sensors', 'sensory', 'sent', 'sentai', 'sentence', 'sentenced', 'sentiment', 'sentiments', 'seo', 'seoul', 'separate', 'separated', 'separately', 'separation', 'separators', 'seppi', 'september', 'sequel', 'sequence', 'sequences', 'sequential', 'serbia', 'serbian', 'serena', 'sergio', 'serial', 'serie', 'series', 'serious', 'seriously', 'seriousness', 'serum', 'serve', 'served', 'server', 'serves', 'servicable', 'service', 'serviced', 'serviceless', 'services', 'serving', 'session', 'sessions', 'set', 'setbacks', 'setokai', 'sets', 'setsuna', 'setter', 'setters', 'setting', 'settings', 'settle', 'settled', 'settlements', 'settling', 'setup', 'seven', 'seventh', 'several', 'severe', 'severity', 'sex', 'sexier', 'sexist', 'sexual', 'sexually', 'seymour', 'sf', 'sf313', 'sf314', 'sf514', 'sfas', 'sgd', 'sh', 'shabby', 'shades', 'shadow', 'shady', 'shafted', 'shail', 'shake', 'shaken', 'shakiest', 'shaking', 'shakugan', 'shakunetsi', 'shaky', 'shall', 'shallow', 'sham', 'shambles', 'shame', 'shameful', 'shaming', 'shana', 'shanks', 'shape', 'shaped', 'shaping', 'shapo', 'shapovalov', 'sharafdg', 'sharapova', 'share', 'shares', 'sharing', 'shark', 'sharp', 'sharper', 'sharpness', 'shaw', 'she', 'shea', 'shed', 'shedding', 'sheer', 'sheet', 'sheets', 'shelf', 'shell', 'shelter', 'shenanigans', 'shes', 'shhhh', 'shield', 'shields', 'shift', 'shifted', 'shifts', 'shimamura', 'shimarin', 'shimoda', 'shin', 'shinchi', 'shine', 'shinichi', 'shining', 'shion', 'shiori', 'ship', 'shipped', 'shipping', 'shippuuden', 'shirayukihime', 'shirobako', 'shirt', 'shirts', 'shit', 'shitara', 'shitastic', 'shite', 'shitload', 'shitted', 'shitting', 'shitty', 'shizuku', 'shnichi', 'shock', 'shocked', 'shocking', 'shockingly', 'shocks', 'shoddy', 'shoes', 'shofner', 'shogo', 'shojo', 'shonen', 'shoot', 'shooter', 'shooters', 'shooting', 'shoots', 'shop', 'shopped', 'shopping', 'shops', 'shoptagr', 'short', 'shortages', 'shortcomings', 'shortcut', 'shortcuts', 'shorted', 'shorter', 'shortfall', 'shortly', 'shorts', 'shortstop', 'shot', 'shotmaking', 'shots', 'shoud', 'shoujo', 'should', 'shoulda', 'shoulder', 'shoulders', 'shouldn', 'shounens', 'shouting', 'shouwa', 'shove', 'show', 'showbiz', 'showbyrock', 'showed', 'shower', 'showering', 'showing', 'shown', 'shows', 'shred', 'shreik', 'shrine', 'shrink', 'shrunk', 'sht', 'shtick', 'shtml', 'shu', 'shunsuke', 'shut', 'shutdown', 'shuts', 'shutter', 'shutting', 'si', 'sibyl', 'sick', 'sickening', 'sickest', 'side', 'sidebar', 'sidebars', 'sided', 'sides', 'sideshow', 'sideways', 'sidman', 'sierra', 'sigh', 'sight', 'sighted', 'sign', 'signal', 'signaling', 'signals', 'signature', 'signatures', 'signed', 'significance', 'significances', 'significant', 'significantly', 'signs', 'silence', 'silent', 'silently', 'silicome', 'silicon', 'silicone', 'silly', 'silver', 'silverstone', 'sim', 'sim5kfkqvwq', 'similar', 'similarities', 'similarity', 'similarly', 'similiar', 'simmons', 'simon', 'simona', 'simple', 'simpler', 'simplified', 'simplistic', 'simply', 'sims', 'simulate', 'simulated', 'simulation', 'simulations', 'simultaneously', 'sin', 'since', 'sincerely', 'sing', 'singing', 'single', 'singlehandedly', 'singles', 'sink', 'sinner', 'sinners', 'sins', 'sip', 'siphoning', 'sir', 'sister', 'sisters', 'sit', 'site', 'sites', 'sits', 'sitting', 'situation', 'situations', 'six', 'sixteenth', 'sixth', 'size', 'sized', 'sizes', 'skepticism', 'sketchy', 'skew', 'skewed', 'skewing', 'skews', 'skill', 'skills', 'skim', 'skin', 'skinner', 'skinny', 'skip', 'skipped', 'skipping', 'skips', 'skuid', 'skulling', 'skype', 'skypiea', 'skyrim', 'skyrocketing', 'skyrockets', 'sl1', 'slacker', 'slam', 'slams', 'slap', 'slapped', 'slaps', 'slasher', 'slaughter', 'slave', 'slaves', 'slayer', 'slaying', 'sleek', 'sleep', 'sleepers', 'sleeping', 'sleepy', 'sleeveless', 'sleeves', 'slept', 'slice', 'slices', 'slide', 'slider', 'sliding', 'slight', 'slightest', 'slightly', 'slim', 'slime', 'slip', 'slipped', 'slippery', 'slits', 'sliver', 'sloane', 'sloppy', 'slot', 'slots', 'slovakia', 'slow', 'slowdowns', 'slowed', 'slower', 'slowing', 'slowly', 'slows', 'sluggish', 'slurs', 'sly', 'sm', 'smack', 'small', 'smaller', 'smart', 'smartlav', 'smartphone', 'smartswitch', 'smarttag', 'smartthings', 'smashed', 'smashing', 'smear', 'smell', 'smelled', 'smells', 'smile', 'smiles', 'smiling', 'smirk', 'smite', 'smith', 'smoke', 'smoked', 'smokes', 'smooth', 'smoothed', 'smoothens', 'smoother', 'smoothing', 'smoothly', 'smoothness', 'snags', 'snakes', 'snapchat', 'snapdragon', 'snappier', 'snappy', 'snaps', 'snapshot', 'snatched', 'snatchers', 'snazzy', 'snd', 'sneak', 'snickers', 'sniffs', 'snobby', 'snooker', 'snooowls1625', 'snooping', 'snooze', 'snow', 'snowboard', 'snowflakes', 'snowstorm', 'snowy', 'snyder', 'so', 'soaa126', 'soaked', 'soaking', 'sobriety', 'soc', 'soccer', 'social', 'socialise', 'socialising', 'socialize', 'socially', 'societal', 'societies', 'society', 'socio', 'sociodemographic', 'socioeconomic', 'sociopathy', 'sociopolitical', 'socket', 'sockets', 'socks', 'sodimm', 'sodium', 'sofia', 'soft', 'softer', 'software', 'softwares', 'soil', 'soils', 'sol', 'solar', 'sold', 'soldered', 'solely', 'solid', 'solipsistic', 'solo', 'solstice', 'solution', 'solutions', 'solve', 'solved', 'solves', 'somany', 'some', 'somebody', 'somehow', 'someone', 'something', 'sometime', 'sometimes', 'somewhat', 'somewhere', 'son', 'song', 'songs', 'sonos', 'sons', 'sony', 'soo', 'sook', 'sooking', 'soon', 'sooner', 'soooo', 'sophisticated', 'sora', 'sorcerer', 'sorceress', 'sorcerous', 'sore', 'sorribes', 'sorry', 'sort', 'sot', 'sotsu', 'soul', 'souls', 'sound', 'soundcard', 'sounding', 'sounds', 'soundtrack', 'soundtracks', 'source', 'sourced', 'sources', 'sousa', 'south', 'southeast', 'soybean', 'sp', 'sp513', 'space', 'spacetime', 'spades', 'spaghetti', 'spain', 'spam', 'spamming', 'span', 'spanish', 'sparingly', 'spat', 'spate', 'spatial', 'spd', 'speak', 'speaker', 'speakers', 'speakersx', 'speaking', 'speaks', 'spear', 'spec', 'special', 'specialising', 'specialist', 'specialized', 'specializes', 'specially', 'specialties', 'species', 'specific', 'specifically', 'specification', 'specifications', 'specifics', 'specified', 'specs', 'spectacle', 'spectactularly', 'spectacular', 'spectators', 'specter', 'spectre', 'spectrum', 'speculate', 'speculation', 'speech', 'speed', 'speeds', 'speedy', 'spell', 'spelling', 'spen', 'spend', 'spending', 'spends', 'spent', 'spesifically', 'spewing', 'spice', 'spider', 'spiderman', 'spigen', 'spike', 'spikes', 'spillover', 'spin', 'spinning', 'spinoff', 'spins', 'spiral', 'spiraling', 'spirit', 'spirited', 'spirits', 'spirituality', 'spite', 'splash', 'split', 'splitscreen', 'spoil', 'spoiled', 'spoiler', 'spoilers', 'spoils', 'spoke', 'spoken', 'sponsored', 'sponsorship', 'sponsorships', 'spooked', 'spooking', 'spoon', 'sporadic', 'sport', 'sportball', 'sportchek', 'sportingnews', 'sportmanship', 'sports', 'spot', 'spotify', 'spotlight', 'spots', 'spotted', 'spouses', 'spouting', 'spravato', 'spray', 'spread', 'spreading', 'spreadsheet', 'spreadsheets', 'sprefix', 'spring', 'springs', 'spun', 'spur', 'spy', 'squad', 'squandered', 'square', 'squats', 'squeamish', 'squeeze', 'squib', 'sr', 'sr_1_1', 'sr_1_2', 'sr_1_25', 'sr_1_3', 'sr_1_4', 'sr_1_7', 'srno', 'srsly', 'ss', 'ssd', 'ssh', 'ssid', 'ssorphen', 'sspapi', 'st', 'stab', 'stabber', 'stability', 'stabilization', 'stable', 'stably', 'stacking', 'stadium', 'stadlbauer', 'stadler', 'staff', 'stage', 'stages', 'stagger', 'staggering', 'stagnating', 'stagnation', 'stains', 'stake', 'stakes', 'staking', 'stan', 'stand', 'standalone', 'standard', 'standardized', 'standards', 'standby', 'standing', 'standpoint', 'stands', 'stanfield', 'stans', 'staple', 'star', 'starch', 'stare', 'stargazing', 'staring', 'starlight', 'starry', 'stars', 'start', 'started', 'starting', 'starts', 'startup', 'stat', 'state', 'stated', 'statedeaths', 'statement', 'statements', 'states', 'stateswoman', 'static', 'stating', 'station', 'stations', 'statistical', 'statistically', 'statisticians', 'statistics', 'stats', 'statsinsider', 'status', 'staub', 'stay', 'stayed', 'staying', 'stays', 'steady', 'steal', 'stealing', 'stealth', 'steam', 'steel', 'steeling', 'steep', 'stef', 'stefan', 'stefanos', 'steffi', 'steiner', 'steins', 'step', 'steph', 'stephen', 'stephens', 'stepped', 'steps', 'stereotypes', 'stereotypical', 'sterols', 'steven', 'stevic1', 'stew', 'stfu', 'stick', 'sticker', 'sticking', 'sticks', 'stiff', 'still', 'stimulate', 'stimulation', 'stimulus', 'stink', 'stipend', 'stitches', 'stock', 'stocking', 'stockings', 'stojanovic', 'stole', 'stolen', 'stomach', 'stone', 'stoned', 'stonehenge', 'stooges', 'stop', 'stopped', 'stopping', 'stops', 'storage', 'store', 'stored', 'storeid', 'stores', 'stories', 'storm', 'storms', 'story', 'storyline', 'stosur', 'stoves', 'stowe', 'straight', 'strain', 'stranded', 'strange', 'strangely', 'strangers', 'strangest', 'straps', 'strategically', 'strategies', 'strategy', 'straw', 'strawberries', 'stray', 'streak', 'streakers', 'stream', 'streamable', 'streamed', 'streaming', 'streams', 'strech', 'street', 'strength', 'strengthen', 'strengthening', 'strengths', 'stress', 'stressed', 'stressful', 'stressing', 'stretch', 'stretches', 'stretching', 'strict', 'strictly', 'stride', 'strides', 'strife', 'strike', 'strikers', 'strikes', 'striking', 'string', 'stringing', 'strings', 'strip', 'striving', 'strix', 'stroke', 'strokes', 'stroll', 'strong', 'stronger', 'strongest', 'strongly', 'structural', 'structure', 'structured', 'structures', 'struff', 'struggle', 'struggled', 'struggles', 'struggling', 'stuccio', 'stuck', 'studder', 'student', 'students', 'studies', 'studio', 'studiobook', 'studios', 'study', 'studying', 'stuff', 'stuffs', 'stumbled', 'stumped', 'stunning', 'stupendous', 'stupid', 'stupidity', 'stupidly', 'stutter', 'stuttered', 'stuttering', 'stutters', 'stuttgart', 'style', 'styled', 'styles', 'stylized', 'stylus', 'su', 'sub', 'subaru', 'subbed', 'subcontracted', 'subcutaneous', 'subject', 'subjectally', 'subjected', 'subjective', 'subjects', 'sublime', 'submission', 'submissions', 'submissive', 'submit', 'subreddit', 'subscribe', 'subscribed', 'subscription', 'subsequent', 'subsequently', 'subset', 'subsided', 'subsidies', 'subsidized', 'subsidy', 'substance', 'substances', 'substantial', 'substantially', 'substitute', 'substitution', 'substitutions', 'subtitles', 'suburban', 'subvert', 'subwoofers', 'succeed', 'succeeded', 'success', 'successful', 'successfully', 'succumbed', 'such', 'suck', 'sucked', 'sucker', 'sucking', 'sucks', 'sudden', 'suddenly', 'suffer', 'suffered', 'suffering', 'suffers', 'suffice', 'sufficient', 'sugar', 'suggest', 'suggested', 'suggestibility', 'suggesting', 'suggestion', 'suggestions', 'suggests', 'sugita', 'suicidal', 'suicide', 'suika', 'suit', 'suitable', 'suite', 'suited', 'suits', 'sukuna', 'sulfide', 'sulks', 'sum', 'summarize', 'summary', 'summer', 'summers', 'summing', 'summit', 'summon', 'summoned', 'sun', 'sunday', 'sunglasses', 'sunk', 'sunlight', 'sunny', 'sunrise', 'sunshine', 'super', 'superb', 'superior', 'superiors', 'superman', 'supernatural', 'superpower', 'superstorms', 'supervise', 'supervised', 'supervision', 'suport', 'supplement', 'supplementary', 'supplementation', 'supplements', 'supplier', 'supplies', 'supply', 'supplying', 'support', 'supported', 'supporting', 'supportive', 'supports', 'suppose', 'supposed', 'supposedly', 'suppress', 'suppression', 'supremely', 'supress', 'sur', 'surcharges', 'sure', 'surely', 'surf', 'surface', 'surfacebook', 'surfaces', 'surfacing', 'surfer', 'surfing', 'surgeries', 'surgery', 'surges', 'surgical', 'surgically', 'surpass', 'surprise', 'surprised', 'surprises', 'surprising', 'surprisingly', 'surreal', 'surrender', 'surround', 'surrounded', 'surrounding', 'surroundings', 'survey', 'surveyed', 'surveys', 'survival', 'survive', 'survived', 'sus', 'susceptibility', 'susceptible', 'suspe', 'suspect', 'suspected', 'suspecting', 'suspects', 'suspense', 'suspicious', 'sustain', 'sustainability', 'sustainable', 'sustained', 'sustenance', 'susume', 'svdssedkpig61', 'svitolina', 'sw', 'swab', 'swaitek', 'swamp', 'swanson', 'swap', 'swapped', 'swarmed', 'swear', 'sweat', 'swede', 'sweden', 'sweet', 'sweeteners', 'sweetheart', 'swf73jzz3ho51', 'swiatek', 'swift', 'swift3x', 'swim', 'swing', 'swipe', 'swiped', 'swiss', 'switch', 'switched', 'switches', 'switching', 'switzerland', 'swollen', 'sword', 'swordfish', 'swords', 'sxhgfg7', 'syaoran', 'sydney', 'symbol', 'sympathize', 'symphogear', 'symptomatic', 'symptoms', 'sync', 'syncing', 'syndemic', 'syndrome', 'synonymous', 'synopsis', 'syntax', 'synthetic', 'syrup', 'sys', 'system', 'systematic', 'systematically', 'systemic', 'systems', 'szyyk03', 't14', 't2000', 't2k', 't490', 't4tl', 'tab', 'tabi', 'table', 'tables', 'tablespoon', 'tablet', 'tablets', 'tabs', 'tabula', 'tachibana', 'tackfam', 'tacking', 'tackle', 'tacos', 'tactic', 'tactical', 'tactically', 'tactics', 'tad', 'tag', 'tagalog', 'tags', 'tail', 'tailor', 'taiyou', 'takano', 'take', 'takeaway', 'taken', 'takes', 'taking', 'talent', 'talented', 'talentless', 'talents', 'talk', 'talked', 'talking', 'talks', 'tall', 'tallamy', 'taller', 'tama', 'tamako', 'tamayoki', 'tame', 'tan', 'tanay', 'tandy', 'tang', 'tanjiro', 'tank', 'tanked', 'tanking', 'tanks', 'tanning', 'tanoshii', 'tantalizing', 'tantrum', 'tanya', 'tap', 'taped', 'tapped', 'tapping', 'tardieu', 'tare', 'target', 'targeted', 'targets', 'targetted', 'tariffs', 'tashkent', 'task', 'taskbar', 'tasks', 'taste', 'tastes', 'tasting', 'tatami', 'tatarigoroshi', 'taught', 'taunting', 'taus', 'tautology', 'tax', 'taxa', 'taxi', 'taxpayers', 'taylor', 'tb', 'tb3', 'tbh', 'tbx15', 'tc', 'tc01', 'td', 'tdbank', 'tdr', 'te', 'tea', 'teach', 'teacher', 'teachers', 'teaching', 'team', 'teammates', 'teams', 'tears', 'teases', 'teasing', 'tech', 'technical', 'technically', 'technician', 'technique', 'technohub15', 'technologies', 'technology', 'techrepublic', 'techspecstab', 'techsupport', 'techy', 'ted', 'teen', 'teenage', 'teenager', 'teenagers', 'teens', 'teeth', 'teichmann', 'tejasvi', 'telegraphed', 'teleports', 'teleprompter', 'television', 'tell', 'telling', 'tells', 'temerity', 'temp', 'temperate', 'temperature', 'temperatures', 'tempered', 'temporal', 'temporally', 'temporarily', 'temporary', 'temps', 'tempted', 'tempting', 'ten', 'ten_2021_1_atp_2567_25838_128552', 'ten_2021_1_wta_2571_55401_66476', 'tenacity', 'tend', 'tendency', 'tendler', 'tendonitis', 'tends', 'tenkuu', 'tennis', 'tennisabstract', 'tennisfinale', 'tennisrecord', 'tennys', 'tens', 'tensei', 'tenshi', 'tension', 'tent', 'tenth', 'tents', 'terashitai', 'terence', 'term', 'terminal', 'terminology', 'terms', 'terraria', 'terrestrial', 'terrible', 'terribly', 'terrific', 'terrified', 'terrifying', 'territorial', 'territory', 'terror', 'terrorize', 'tesla', 'teslacoilapps', 'teslarati', 'test', 'testament', 'tested', 'tester', 'testing', 'testosterone', 'tests', 'texas', 'text', 'textbook', 'texted', 'texting', 'texts', 'tfw', 'tg', 'th', 'thai', 'than', 'thank', 'thankful', 'thankfully', 'thanks', 'thankyou', 'that', 'thats', 'thatv', 'the', 'thedeepnewssource', 'thee', 'theft', 'thegadgetdiary', 'theguardian', 'theim', 'their', 'them', 'theme', 'themed', 'themes', 'theming', 'themself', 'themselves', 'then', 'theoretically', 'theories', 'theorist', 'theorists', 'theorized', 'theory', 'therapeutic', 'therapies', 'therapy', 'there', 'thereabouts', 'thereby', 'therefor', 'therefore', 'theres', 'thermal', 'thermals', 'thermaltake', 'thermometer', 'these', 'thesims', 'thetennisprevision', 'they', 'theyre', 'thhuq5c', 'thicc', 'thick', 'thicker', 'thickness', 'thief', 'thiem', 'thighs', 'thin', 'thinclient', 'thing', 'thingies', 'things', 'thingy', 'think', 'thinked', 'thinking', 'thinkpad', 'thinkpads', 'thinks', 'thinner', 'thinness', 'thinning', 'thins', 'third', 'thirty', 'this', 'tho', 'thomas', 'thoroughly', 'those', 'thou', 'though', 'thought', 'thoughtful', 'thoughts', 'thousand', 'thousands', 'thread', 'threads', 'threat', 'threaten', 'threatened', 'threatening', 'threatens', 'threats', 'three', 'threw', 'thrilled', 'thriller', 'thrilling', 'thrive', 'thriving', 'throat', 'throigh', 'throttled', 'throttlestop', 'throttling', 'through', 'throughout', 'throw', 'throwing', 'thrown', 'throws', 'thru', 'thumbdrive', 'thumps', 'thunderbolt', 'thunderstorm', 'thursday', 'thus', 'thwre', 'thx', 'ti', 'tia', 'tiafoe', 'ticked', 'ticket', 'ticketing', 'tickets', 'tidal', 'tie', 'tiebreak', 'tiebreakers', 'tied', 'tier', 'ties', 'tiger', 'tigerson', 'tight', 'tightness', 'tights', 'tiktok', 'til', 'tiley', 'till', 'timber', 'time', 'timeline', 'timely', 'timer', 'timers', 'times', 'timeskip', 'timetravel', 'timing', 'timings', 'timothy', 'tinker', 'tint', 'tiny', 'tio', 'tip', 'tips', 'tipsarevic', 'tire', 'tired', 'tires', 'tiriac', 'tiring', 'tissue', 'tissues', 'titan', 'titans', 'titer', 'titers', 'title', 'titled', 'titleless', 'titles', 'tl', 'tldr', 'tmobile', 'tn', 'to', 'toaru', 'toast', 'toaster', 'toba', 'tobias', 'tobor', 'today', 'todd', 'todoke', 'together', 'toggle', 'tohru', 'toilet', 'toke', 'tokyo', 'told', 'tolerance', 'tolerate', 'tolerated', 'toll', 'tom', 'tomcat', 'tomic', 'tomiok', 'tomljanovic', 'tomorrow', 'tomozaki', 'ton', 'tonally', 'tonari', 'tone', 'tones', 'tongfang', 'tonight', 'tonikawa', 'tonne', 'tons', 'tonsillar', 'too', 'took', 'tool', 'tools', 'toonami', 'tooth', 'tooth_patternacnh', 'toothpick', 'top', 'tophat', 'topic', 'topics', 'topped', 'tops', 'topsoils', 'topspin', 'tora', 'toradora', 'toradorasalute', 'tori', 'tormo', 'torn', 'tornado', 'toronto', 'torso', 'tos', 'tosello', 'toshiba', 'tossed', 'total', 'totaled', 'totally', 'totallynotabot1342', 'totals', 'touch', 'touchbar', 'touched', 'touches', 'touching', 'touchpad', 'touchpads', 'touchscreen', 'touchsreen', 'touchwiz', 'toudou', 'tough', 'toughest', 'tought', 'tour', 'tourism', 'tournament', 'tournaments', 'tourney', 'tourneys', 'touted', 'toward', 'towards', 'towel', 'tower', 'town', 'toxic', 'toxicity', 'toy', 'toys', 'tp', 'tpm', 'tpm2', 'tqrni23um', 'trace', 'tracer', 'traces', 'tracing', 'track', 'tracked', 'tracker', 'tracking', 'trackpad', 'tracks', 'tract', 'trade', 'traded', 'trademark', 'trader', 'trading', 'traditional', 'traditionally', 'traditions', 'traffic', 'tragic', 'trail', 'trailed', 'trailer', 'train', 'trained', 'training', 'trait', 'traits', 'trajectory', 'transaction', 'transfer', 'transferable', 'transferees', 'transferred', 'transferring', 'transfers', 'transformed', 'transformer', 'transfused', 'transgene', 'transient', 'transition', 'transitioning', 'transkingdom', 'translate', 'translated', 'translates', 'translating', 'translation', 'translational', 'translator', 'transmissible', 'transmission', 'transmit', 'transparency', 'transparent', 'transpired', 'transplant', 'transplantation', 'transport', 'transportation', 'transported', 'transposed', 'trap', 'trapp', 'trapped', 'traps', 'trash', 'trashiness', 'trashing', 'trauma', 'traumas', 'traumatic', 'travaglia', 'travel', 'traveling', 'travelling', 'travis', 'travolta', 'trawling', 'tray', 'treat', 'treated', 'treating', 'treatment', 'treatments', 'treats', 'tree', 'trees', 'trembles', 'tremendous', 'tremendously', 'trend', 'trended', 'trending', 'trends', 'trendy', 'trespassed', 'trevor', 'triacylglycerols', 'trial', 'trials', 'triangle', 'triangles', 'tribulations', 'trick', 'trickle', 'tricksters', 'tricky', 'tried', 'tries', 'trigger', 'triggered', 'triggers', 'trillion', 'trillions', 'trim', 'trimmer', 'trio', 'trip', 'triple', 'trippy', 'trips', 'triton', 'trn2f3a', 'trofl', 'troicki', 'troll', 'trolling', 'trolls', 'troop', 'trooper', 'trope', 'tropes', 'trophy', 'tropical', 'trouble', 'troubleshoot', 'troubleshooting', 'trpc6', 'truce', 'truck', 'trucks', 'trudge', 'true', 'truly', 'trump', 'trunk', 'trust', 'trusted', 'trusts', 'trustworthy', 'truth', 'truths', 'try', 'tryed', 'tryin', 'trying', 'ts', 'tsid', 'tsitsipas', 'tsonga', 'tstsipas', 'tsuchiya', 'tsukaima', 'tsukasa', 'tsuki', 'tsumugu', 'tsundere', 'tsurezure', 'tu', 'tube', 'tubitv', 'tucked', 'tuesdays', 'tuf', 'tuition', 'tulip', 'tulley', 'tumani', 'tumor', 'tumors', 'tumour', 'tumours', 'tune', 'tuned', 'tuning', 'turbines', 'turbo', 'turn', 'turned', 'turning', 'turnover', 'turns', 'turtle', 'turtles', 'tutor', 'tutorial', 'tutorials', 'tutors', 'tv', 'tvs', 'tweak', 'tweaking', 'tweeners', 'tweet', 'tweets', 'twelfth', 'twenty', 'twice', 'twigs', 'twilight', 'twilights', 'twimg', 'twindemic', 'twist', 'twists', 'twitch', 'twitter', 'two', 'twwwbwx', 'ty', 'tying', 'type', 'typed', 'types', 'typical', 'typically', 'typing', 'typo', 'tyron', 'u5lqff9', 'uab', 'uae', 'ubiquitous', 'ubiquitously', 'ubw', 'uc', 'ucdavis', 'uchiyama', 'ucl', 'ueda', 'uefi', 'ueno', 'ues', 'ufotable', 'ugggghhhhhhhhh', 'ughh', 'ugly', 'ugo', 'ugreen', 'uh', 'uhc', 'uhd', 'uhhh', 'uhhhh', 'uhhhhhh', 'uhhhhhhh', 'ui', 'uk', 'ukyo', 'ultimate', 'ultimately', 'ultra', 'ultrabook', 'ultraportable', 'ultras', 'ultrawide', 'umentary', 'umineko', 'umm', 'ummm', 'ump', 'umpire', 'umpires', 'un', 'unable', 'unacceptable', 'unadjusted', 'unadvised', 'unattractive', 'unavailable', 'unbearable', 'unbeatable', 'unbelievable', 'unbelievably', 'unbias', 'unbiased', 'unbothered', 'unbox', 'uncanny', 'uncelebrated', 'unceremoniously', 'uncertainty', 'unchanged', 'unclear', 'uncomfortable', 'uncommon', 'uncontrollable', 'uncorrelated', 'uncovering', 'und', 'undecided', 'undemanding', 'undeniable', 'under', 'underachieving', 'underclass', 'underestimate', 'underestimated', 'undergo', 'underground', 'underhanded', 'underlining', 'underlying', 'underneath', 'underperforming', 'underpin', 'underpinned', 'underprepared', 'underprice', 'underrated', 'underscores', 'understand', 'understandable', 'understanding', 'understands', 'understood', 'understudied', 'undertaken', 'undertone', 'undervolt', 'undervolted', 'underwhelmed', 'underwhelming', 'undestand', 'undetected', 'undiagnosed', 'undo', 'unearthed', 'unemployment', 'unexpected', 'unexpectedly', 'unfair', 'unfamiliar', 'unfazed', 'unfocused', 'unforced', 'unforgiving', 'unfortunate', 'unfortunately', 'unfriend', 'unfully', 'unhappy', 'unhealthy', 'unhelpful', 'unhinged', 'uni', 'unicorn', 'unieuro', 'unified', 'uniformly', 'uninformed', 'uninstall', 'uninstalled', 'uninstalling', 'uninsured', 'uninterested', 'uninvited', 'union', 'unionizing', 'unique', 'unit', 'united', 'units', 'unity', 'universal', 'universals', 'universe', 'universitat', 'universities', 'university', 'unknown', 'unleashed', 'unleashing', 'unless', 'unlike', 'unlikeable', 'unlikely', 'unlimited', 'unlinked', 'unlock', 'unlocked', 'unlocking', 'unluckiest', 'unluckily', 'unlucky', 'unmount', 'unnatural', 'unnecessarily', 'unnecessary', 'unobservables', 'unobserved', 'unobstructed', 'unobstrusive', 'unofficial', 'unorthodox', 'unpaid', 'unpairing', 'unparalleled', 'unpaved', 'unplayable', 'unplug', 'unplugged', 'unplugging', 'unpopular', 'unprecedented', 'unpredictable', 'unprocessed', 'unprotected', 'unreal', 'unreasonable', 'unrelated', 'unreliability', 'unreliable', 'unresponsive', 'unreturnable', 'unsaturated', 'unscrew', 'unsecured', 'unseeded', 'unseen', 'unsettle', 'unsettling', 'unsoldered', 'unspeakable', 'unsuccessful', 'unsuitable', 'unsure', 'unsurprising', 'untagged', 'until', 'unusable', 'unusual', 'unusually', 'unwanted', 'unwel', 'unwelcome', 'unwholesomeness', 'up', 'upbeat', 'upbringings', 'upcoming', 'update', 'updated', 'updates', 'updating', 'upgradability', 'upgradable', 'upgrade', 'upgradeable', 'upgraded', 'upgrades', 'upgrading', 'uplifting', 'upload', 'uploaded', 'upon', 'upped', 'upper', 'upperclassman', 'upping', 'uppppp', 'uprated', 'ups', 'upscaling', 'upset', 'upsets', 'upside', 'upsides', 'upstairs', 'upswing', 'uptill', 'upto', 'uptodate', 'upward', 'upwardly', 'ur', 'urarahype', 'urban', 'urge', 'urgent', 'urgently', 'uri', 'urine', 'url', 'urllangid', 'urls', 'urobuchi', 'uroko', 'urt', 'us', 'usa', 'usability', 'usable', 'usage', 'usb', 'usb3', 'usc', 'uscinski', 'usd', 'use', 'used', 'useful', 'usefully', 'useless', 'user', 'users', 'uses', 'ushio', 'ushiromiya', 'using', 'uso', 'usp', 'usqp', 'usta', 'usual', 'usually', 'ute', 'utf8', 'utilised', 'utilities', 'utility', 'utilized', 'utilizes', 'utm_campaign', 'utm_content', 'utm_custom1', 'utm_custom2', 'utm_medium', 'utm_source', 'utm_term', 'utmost', 'utter', 'utterly', 'uv', 'uwu', 'ux305fa', 'ux325ea', 'ux325ja', 'ux425ea', 'ux434flc', 'ux481', 'ux481fa', 'uybetdx', 'uzygw7w', 'v14', 'v2', 'v3', 'v5', 'va', 'vaad', 'vacation', 'vaccinated', 'vaccination', 'vaccine', 'vaccines', 'vaccuum', 'vacuum', 'vader', 'vague', 'vaguely', 'vain', 'vaio', 'valentine', 'valid', 'validated', 'validates', 'validation', 'validations', 'validity', 'valorant', 'value', 'valued', 'values', 'vamos', 'vampire', 'vampires', 'van', 'vanced', 'vanilla', 'vanish', 'vannin', 'variabilities', 'variable', 'variables', 'variant', 'variants', 'variation', 'variations', 'varied', 'varies', 'variety', 'varios', 'various', 'varsity', 'vary', 'varying', 'vascular', 'vasculature', 'vashelle', 'vast', 'vat', 'vaults', 'vbxdpkpcuvu', 've', 'vector', 'vectored', 'vectors', 'vega', 'vegan', 'vegas', 'vegetarian', 'vegfr2', 'vehicle', 'vehicles', 'vekic', 'veljovic', 'vendor', 'venture', 'venues', 'venus', 'vera', 'verdasco', 'verge', 'verifiably', 'verified', 'verify', 'veritable', 'verizon', 'verma', 'versa', 'versailles', 'verse', 'verses', 'version', 'versions', 'versus', 'vertical', 'very', 'vesa', 'vessel', 'vessels', 'vestige', 'veuz0fbnn4s', 'via', 'viable', 'vibe', 'vibes', 'vibrate', 'vibration', 'vibrations', 'vice', 'vicious', 'victim', 'victims', 'victor', 'victoria', 'victories', 'victory', 'video', 'videos', 'vids', 'view', 'viewed', 'viewer', 'viewers', 'viewership', 'viewfinder', 'viewing', 'views', 'vigilante', 'vigilantes', 'vigorous', 'vika', 'vikas', 'vilas', 'village', 'villagers', 'villain', 'villainess', 'viocers', 'violatin', 'violating', 'violation', 'violations', 'violence', 'violent', 'violet', 'viral', 'virgin', 'virtual', 'virtualbox', 'virtualisation', 'virtually', 'virtue', 'virus', 'viruses', 'visa', 'visceral', 'visible', 'vision', 'visit', 'visited', 'visiting', 'visits', 'vista', 'visual', 'visualcd', 'visualization', 'visually', 'visuals', 'vitamin', 'vitamon', 'viterbi', 'vitriolic', 'vive', 'vivid', 'vivobook', 'vladimir', 'vlc', 'vlog', 'vlogger', 'vm', 'vocalizations', 'voice', 'voiced', 'voicemod', 'voices', 'void', 'vol', 'volatile', 'volatility', 'volley', 'volleyer', 'volleys', 'volt', 'voltage', 'voltages', 'voltchkov', 'volte', 'volume', 'volumes', 'voluntarily', 'volunteers', 'vomiting', 'vondrousova', 'voodoo', 'voraciously', 'vortex', 'vote', 'voted', 'votes', 'voting', 'vowifi', 'vpn', 'vpnuniversity', 'vr', 'vram', 'vs', 'vtn', 'vulgarization', 'vulnerable', 'vut', 'vw', 'w1f27oe', 'w26081', 'w590g6t', 'w700g3t', 'wa', 'waaaay', 'waay', 'wacom', 'wage', 'wages', 'waifu', 'waist', 'wait', 'waited', 'waiting', 'waits', 'waiver', 'wakakusa', 'wakanim', 'wake', 'wakes', 'waking', 'wales', 'walk', 'walked', 'walking', 'walkover', 'walks', 'wall', 'walled', 'wallpapers', 'walls', 'walmart', 'walt', 'walter', 'wankers', 'wanna', 'wano', 'want', 'wanted', 'wanting', 'wanton', 'wants', 'war', 'warehouse', 'warm', 'warming', 'warms', 'warmup', 'warn', 'warned', 'warning', 'warnings', 'warns', 'warp', 'warped', 'warrant', 'warranties', 'warranty', 'warrior', 'warriors', 'wars', 'warship', 'warships', 'warthunder', 'warzone', 'was', 'washed', 'washer', 'washington', 'washingtontimes', 'wasn', 'wasnt', 'waste', 'wasted', 'wasteful', 'wasting', 'wat', 'watashiworried', 'watch', 'watch3', 'watch_order', 'watchable', 'watched', 'watcher', 'watchers', 'watches', 'watching', 'watchlist', 'water', 'watercolor', 'waterway', 'watery', 'watt', 'wattage', 'watts', 'wattsapp', 'watxh', 'waun', 'wav', 'wave', 'wavelengths', 'waves', 'waving', 'wawrinka', 'waxed', 'way', 'wayne', 'ways', 'wayyyyyy', 'wbc', 'wd', 'we', 'weak', 'weakened', 'weakens', 'weaker', 'weakest', 'weakness', 'wealth', 'wealthy', 'weapon', 'weapons', 'wear', 'wearing', 'wears', 'weary', 'weather', 'weave', 'web', 'web2x', 'webapp', 'webcam', 'webchat', 'webm', 'webp', 'website', 'websites', 'wedding', 'wedges', 'wednesday', 'weed', 'weedmaps', 'weeds', 'week', 'weekend', 'weekly', 'weeks', 'weeping', 'wei', 'weigh', 'weighed', 'weighs', 'weight', 'weighted', 'weinerman', 'weird', 'weirdly', 'weirdness', 'weirdo', 'weizmann', 'welcome', 'welcomed', 'welcomes', 'welcoming', 'welfare', 'well', 'wellbeing', 'wellington', 'wellness', 'wells', 'went', 'wep', 'were', 'weren', 'west', 'western', 'westerners', 'wet', 'wgjw3rldqie8ig4j', 'wgq4ugw', 'wh', 'whales', 'whar', 'what', 'whatever', 'whatnot', 'whats', 'whats_a_good_romance_anime', 'whats_your_second_favorite_anime', 'whatsapp', 'whatsoever', 'wheel', 'wheelchair', 'wheelchairs', 'wheels', 'when', 'whenever', 'where', 'whereas', 'whereby', 'wherever', 'wherry', 'whether', 'which', 'whichever', 'while', 'whilst', 'whine', 'whining', 'whiny', 'whiplash', 'whipping', 'whiskey', 'whistles', 'white', 'whitestone', 'whizzed', 'who', 'who_do_you_root_against', 'whoa', 'whoever', 'whole', 'wholesome', 'whom', 'whomever', 'whoopdee', 'whoops', 'whopping', 'whose', 'whoville', 'why', 'wi', 'wibdows', 'wich', 'wide', 'widely', 'widen', 'wider', 'widespread', 'widgets', 'widow', 'width', 'wife', 'wifebeater', 'wifi', 'wifi6', 'wiggle', 'wiggles', 'wiki', 'wiki_comment_rules', 'wiki_tracking_sites', 'wikipedia', 'wild', 'wildcard', 'wilde', 'wildfire', 'wildfires', 'wildly', 'will', 'williams', 'willing', 'willingly', 'wilson', 'wimbledon', 'wimbledons', 'win', 'win10', 'wind', 'window', 'windows', 'windowstip', 'wine', 'wing', 'wings', 'wingtip', 'wingwoman', 'winner', 'winners', 'winning', 'winnings', 'wins', 'winter', 'wipe', 'wire', 'wired', 'wireless', 'wirelessly', 'wisdom', 'wise', 'wised', 'wish', 'wished', 'wishes', 'wishing', 'wit', 'witch', 'witches', 'with', 'withdraw', 'withdrawal', 'withdrawn', 'withdraws', 'withdrew', 'within', 'without', 'witness', 'witnessed', 'witnessing', 'wits', 'witsken', 'wives', 'wizard', 'wj6nws_nqzc', 'wjntjd0', 'wlan', 'wo', 'woelk', 'woke', 'woken', 'wolf', 'wolfram', 'woman', 'wombs', 'women', 'womens', 'won', 'wonder', 'wonder_egg_priority_episode_5_discussion', 'wondered', 'wonderful', 'wonderfully', 'wondering', 'wonders', 'wont', 'wood', 'wooden', 'woods', 'woodward', 'woot', 'word', 'worded', 'words', 'wore', 'work', 'workaround', 'worked', 'worker', 'workers', 'working', 'working_papers', 'workings', 'workload', 'workloads', 'workout', 'workplace', 'works', 'workstation', 'world', 'worldnews', 'worlds', 'worldwide', 'worn', 'worried', 'worries', 'worry', 'worrying', 'worse', 'worsened', 'worsening', 'worst', 'worth', 'worthless', 'worthwhile', 'worthy', 'wot', 'wotakoi', 'would', 'wouldn', 'wouldve', 'wound', 'wow', 'wozniacki', 'wpewgg1lexylt1d0ehqlb1xyukeumewouxk6ws0', 'wpewgg1lexylt1d0ehqlb1xyukeumexguxk6ws0', 'wpewgg1lexylt1d0ehqlb1xyukeumzvouxk6ws0', 'wpudukv', 'wqhd', 'wrap', 'wrapped', 'wraps', 'wreaked', 'wreck', 'wright', 'wring', 'wrist', 'wristband', 'wrists', 'write', 'writer', 'writers', 'writeups', 'writing', 'written', 'wrong', 'wrongdoing', 'wrongly', 'wrote', 'ws', 'ws101', 'ws124', 'ws66', 'wsy', 'wta', 'wtf', 'wth', 'wullum', 'wut', 'wuxga', 'wwan', 'wwevvv4', 'wwii', 'www', 'x13', 'x2', 'x200b', 'x240', 'x250', 'x260', 'x29310cto220h', 'x3', 'x360', 'x409ma', 'x450jn', 'x505za', 'x86', 'xaoxnr68sckijxhfwpzsceagaassaealw', 'xaoxnr68sckijxhfwpzsceagaassaealw_wcb', 'xbox', 'xcode', 'xctop575017us_vivp', 'xd', 'xda', 'xe', 'xenophobia', 'xenophobic', 'xeon', 'xg', 'xg5', 'xhpytws', 'xiaomi', 'xin', 'xjxzlb0', 'xl', 'xn9500cto212s', 'xn9700cto250s', 'xotcipc', 'xpc', 'xperia', 'xps', 'xps15', 'xr', 'xs76', 'xs99', 'xssd', 'xsx', 'xtu', 'xun', 'xvnjjpr', 'xvwtyrt', 'xyz', 'y0pmvxo', 'y530', 'y540', 'y740', 'ya', 'yachts', 'yakuza', 'yale', 'yalls', 'yamada', 'yanking', 'yard', 'yards', 'yastremska', 'yay', 'ye', 'yea', 'yeah', 'year', 'yearly', 'years', 'yee', 'yeeears', 'yeet', 'yeh', 'yell', 'yelled', 'yelling', 'yellow', 'yellowcard', 'yellowing', 'yellowish', 'yells', 'yep', 'yes', 'yesn', 'yess', 'yesterday', 'yet', 'yield', 'yikes', 'yiss', 'ymer', 'ymlzdc9', 'ymmv', 'ynv1t0m', 'yoga', 'yoka', 'yome', 'yona', 'yonex', 'york', 'yoshinobu', 'yotsuba', 'you', 'youe', 'youjo', 'young', 'younger', 'youngest', 'younglings', 'youpoll', 'your', 'yours', 'yourself', 'yout', 'youth', 'youths', 'youtu', 'youtube', 'youtubers', 'yowamushi', 'yozora', 'yr', 'yrs', 'yt', 'yue', 'yugoslavia', 'yuji', 'yuki', 'yukito', 'yume', 'yun', 'yuna', 'yuno', 'yup', 'yuri', 'yuru', 'yx3g2c8', 'yxyrdvx', 'z2', 'z930', 'zagg', 'zamboni', 'zandschulp', 'zankyou', 'zbook', 'zbrush', 'zbtjmkx', 'zdnet', 'zealot', 'zeitgeist', 'zelana', 'zello', 'zen', 'zenbook', 'zenitsu', 'zephyr', 'zephyru', 'zephyrus', 'zero', 'zerochan', 'zilliond', 'zimmerman', 'zmp2mfmkdny', 'zogar5101985', 'zoll', 'zombie', 'zone', 'zones', 'zoning', 'zoo', 'zoology', 'zoom', 'zoomcorp', 'zoomed', 'zooming', 'zooms', 'zoonotic', 'zr', 'zr30w', 'zrqobkj', 'zu', 'zurich', 'zverev', 'zvonareva', 'zymosan']\n",
            "\n",
            "Length of features =  15365\n",
            "\n",
            "\n",
            "\n"
          ],
          "name": "stdout"
        },
        {
          "output_type": "execute_result",
          "data": {
            "application/vnd.google.colaboratory.intrinsic+json": {
              "type": "string"
            },
            "text/plain": [
              "\"\\nplt.figure(figsize=(5,4))\\nfig = df.groupby('subreddit').body.count().plot.bar() #Bar graph stored in the object\\nfor b in fig.patches:\\n  plt.text(b.get_x()+b.get_width()/5,b.get_height(),int(b.get_height()),va='bottom')\\nplt.show()\\n\""
            ]
          },
          "metadata": {
            "tags": []
          },
          "execution_count": 6
        }
      ]
    },
    {
      "cell_type": "markdown",
      "metadata": {
        "id": "x4Bdk118QxoB"
      },
      "source": [
        "# Bernoulli Naive Bayes\r\n"
      ],
      "id": "x4Bdk118QxoB"
    },
    {
      "cell_type": "markdown",
      "metadata": {
        "id": "kd7sE2ImR7iZ"
      },
      "source": [
        " Class of the Bernoulli Naive Bayes from Scratch\r\n",
        " - Need to run to perform the Naive Bayes for the training set and for the k-fold.\r\n",
        " "
      ],
      "id": "kd7sE2ImR7iZ"
    },
    {
      "cell_type": "code",
      "metadata": {
        "id": "eCPILL4-VDEx"
      },
      "source": [
        "## Class of the Bernoulli Naive Bayes from Scratch ##\r\n",
        "\r\n",
        "import numpy as np\r\n",
        "\r\n",
        "class BernoulliNaive:\r\n",
        "  def __init__(self, Comment, science_thread, laptop_thread, samsung_thread, tennis_thread, anime_thread):\r\n",
        "    self.Comment = Comment\r\n",
        "    self.science_thread = science_thread                 \r\n",
        "    self.laptop_thread = laptop_thread\r\n",
        "    self.samsung_thread = samsung_thread\r\n",
        "    self.tennis_thread = tennis_thread\r\n",
        "    self.anime_thread = anime_thread\r\n",
        "\r\n",
        "  #Calculating the theta vector according the bit matrix for a particular class#\r\n",
        "  def theta(self, X_science, X_laptop, X_samsung, X_tennis, X_anime):\r\n",
        "    class_count = np.array([len(self.science_thread), len(self.laptop_thread), len(self.samsung_thread), len(self.tennis_thread), len(self.anime_thread)])\r\n",
        "    theta_k = class_count/len(self.Comment)\r\n",
        "    #Laplace Smoothing also applied here\r\n",
        "    theta_jk = np.array((np.sum(X_science, axis=0)+1)/(2+class_count[0]))\r\n",
        "    theta_jk = np.vstack([theta_jk, (np.sum(X_laptop, axis=0)+1)/(2+class_count[1]), (np.sum(X_samsung, axis=0)+1)/(2+class_count[2]), (np.sum(X_tennis, axis=0)+1)/(2+class_count[3]), (np.sum(X_anime, axis=0)+1)/(2+class_count[4])])\r\n",
        "    return theta_k, theta_jk\r\n",
        "\r\n",
        "  # Class Prob. Function (All Deltas) #\r\n",
        "  #This X will be the bit vector for each traning ex. \r\n",
        "  def ClassProbability(self, X, theta_k, theta_jk):\r\n",
        "    delta = []\r\n",
        "    for i in range(5):        #For each class \r\n",
        "      prob = 1\r\n",
        "      for j in range(3000):\r\n",
        "        prob = prob * (pow(theta_jk[i, j],X[0,j]) * pow((1-theta_jk[i, j]),(1-X[0,j])))\r\n",
        "      \r\n",
        "      prob = theta_k[i] * prob\r\n",
        "      delta.append(prob)      #Appending all the probability values\r\n",
        "    return np.log(delta)      #Returing delta by calculating the log of the probabilites. \r\n",
        "\r\n",
        "  # Predict function #\r\n",
        "  def predict(self, delta):\r\n",
        "    classes = ['science', 'laptop', 'samsung', 'tennis', 'anime']\r\n",
        "    a = max(delta)                    #Selecting the maximum delta value \r\n",
        "    for i in range(len(delta)):\r\n",
        "      if a == delta[i]:\r\n",
        "        class_no = i                 #Selecting the index of the best probability\r\n",
        "\r\n",
        "    if class_no == 0:\r\n",
        "      return classes[0]\r\n",
        "    elif class_no == 1:\r\n",
        "      return classes[1]\r\n",
        "    elif class_no == 2:\r\n",
        "      return classes[2]\r\n",
        "    elif class_no == 3:\r\n",
        "      return classes[3]\r\n",
        "    elif class_no == 4:\r\n",
        "      return classes[4]  \r\n",
        "    else:\r\n",
        "      return None"
      ],
      "id": "eCPILL4-VDEx",
      "execution_count": null,
      "outputs": []
    },
    {
      "cell_type": "markdown",
      "metadata": {
        "id": "XPxwhBsTR_E1"
      },
      "source": [
        "Main File for the Bernoulli Naive Bayes\r\n",
        "- It will create an object of Naive Bayes class and then test the algorithm on whole training dataset."
      ],
      "id": "XPxwhBsTR_E1"
    },
    {
      "cell_type": "code",
      "metadata": {
        "id": "otWJSyX3hk1X",
        "colab": {
          "base_uri": "https://localhost:8080/"
        },
        "outputId": "21938e13-6175-4a37-860d-4ef82bcb7329"
      },
      "source": [
        "## Main File for the Bernoulli Naive Bayes [For whole training Set] ##\r\n",
        "\r\n",
        "import time\r\n",
        "from sklearn.feature_extraction.text import CountVectorizer\r\n",
        "\r\n",
        "time_b = time.time()\r\n",
        "#Vectorizing the data particularly for Bernoulli Naive Bayes\r\n",
        "vectorizer = CountVectorizer(max_features = 3000, binary = True)\r\n",
        "X = vectorizer.fit_transform(Comment)\r\n",
        "X_all_class = X.todense()  \r\n",
        "\r\n",
        "#Dividing Bit Vectors according to class type \r\n",
        "X_science = X_all_class[0:399]\r\n",
        "X_laptop = X_all_class[399:799]\r\n",
        "X_samsung = X_all_class[799:1199]\r\n",
        "X_tennis = X_all_class[1199:1599]\r\n",
        "X_anime = X_all_class[1599:2000]\r\n",
        "\r\n",
        "#All comments according to the class type \r\n",
        "science_thread = df[0:399]\r\n",
        "laptop_thread = df[399:799]\r\n",
        "samsung_thread = df[799:1199]\r\n",
        "tennis_thread = df[1199:1599]\r\n",
        "anime_thread = df[1599:2000]\r\n",
        "\r\n",
        "#Making the object of the class.\r\n",
        "'''\r\n",
        "Here input to the class will be the Comment and subreddit comments used for the training so 6 in total dataframes,\r\n",
        "one will be whole training data set and 5 other each class dataframes.\r\n",
        "'''\r\n",
        "bnb = BernoulliNaive(Comment, science_thread, laptop_thread, samsung_thread, tennis_thread, anime_thread)\r\n",
        "\r\n",
        "# Calculating the theta vector #\r\n",
        "'''\r\n",
        "- Just the bit vectorized matrix of the all the training samples of a particular class is \r\n",
        " needed to be entered here, whether k-fold or not. \r\n",
        "- This theta's are stored using the training data and later will be used for probability calculations for the test data.\r\n",
        "- Note: Don't use the theta_jk and theta_k here for return because it may change the global variable.\r\n",
        "'''\r\n",
        "thetak, thetajk = bnb.theta(X_science, X_laptop, X_samsung, X_tennis, X_anime)\r\n",
        "\r\n",
        "# Testing Predict for the training data set #\r\n",
        "'''\r\n",
        "Input will be to add the vectroized x of the test data that is needed to be tested, and along with the theta vectors that are obtained.\r\n",
        "'''\r\n",
        "Predict = []\r\n",
        "for i in range(len(Comment)):\r\n",
        "  DEL = bnb.ClassProbability(X_all_class[i], thetak, thetajk)\r\n",
        "  y = bnb.predict(DEL)\r\n",
        "  Predict.append(y)\r\n",
        "\r\n",
        "print(Predict)\r\n",
        "\r\n",
        "# Calculate Accurracy of Naive Bayes on the Training data set #\r\n",
        "accuracy = (Predict == Subreddit).mean()\r\n",
        "print(accuracy)\r\n",
        "time_e = time.time()\r\n",
        "print('Time elapsed:',time_e-time_b,'s')"
      ],
      "id": "otWJSyX3hk1X",
      "execution_count": null,
      "outputs": [
        {
          "output_type": "stream",
          "text": [
            "/usr/local/lib/python3.7/dist-packages/ipykernel_launcher.py:34: RuntimeWarning: divide by zero encountered in log\n"
          ],
          "name": "stderr"
        },
        {
          "output_type": "stream",
          "text": [
            "['science', 'science', 'science', 'science', 'science', 'science', 'science', 'science', 'samsung', 'science', 'science', 'science', 'science', 'tennis', 'science', 'science', 'science', 'tennis', 'science', 'science', 'science', 'science', 'science', 'science', 'science', 'science', 'science', 'science', 'science', 'science', 'science', 'science', 'science', 'science', 'science', 'tennis', 'tennis', 'science', 'science', 'science', 'science', 'science', 'science', 'science', 'tennis', 'science', 'science', 'science', 'science', 'science', 'science', 'science', 'science', 'tennis', 'samsung', 'science', 'science', 'science', 'science', 'science', 'science', 'science', 'science', 'science', 'science', 'tennis', 'science', 'science', 'science', 'science', 'science', 'tennis', 'science', 'science', 'science', 'science', 'samsung', 'science', 'science', 'science', 'science', 'tennis', 'science', 'science', 'science', 'samsung', 'science', 'science', 'science', 'science', 'science', 'tennis', 'science', 'science', 'science', 'science', 'science', 'science', 'tennis', 'science', 'science', 'science', 'science', 'science', 'science', 'science', 'science', 'science', 'science', 'science', 'tennis', 'science', 'tennis', 'science', 'science', 'science', 'science', 'science', 'science', 'tennis', 'science', 'science', 'science', 'samsung', 'samsung', 'tennis', 'science', 'science', 'science', 'science', 'tennis', 'science', 'science', 'science', 'science', 'science', 'science', 'science', 'tennis', 'science', 'tennis', 'science', 'science', 'samsung', 'science', 'science', 'science', 'science', 'science', 'samsung', 'tennis', 'science', 'science', 'science', 'tennis', 'science', 'science', 'science', 'science', 'science', 'science', 'science', 'tennis', 'science', 'science', 'science', 'science', 'science', 'science', 'science', 'science', 'science', 'science', 'science', 'science', 'science', 'science', 'science', 'samsung', 'science', 'science', 'science', 'science', 'samsung', 'science', 'science', 'tennis', 'science', 'science', 'science', 'tennis', 'science', 'science', 'science', 'science', 'science', 'science', 'tennis', 'science', 'science', 'samsung', 'science', 'science', 'samsung', 'science', 'science', 'samsung', 'tennis', 'science', 'science', 'samsung', 'science', 'anime', 'science', 'science', 'science', 'science', 'science', 'science', 'science', 'samsung', 'science', 'science', 'tennis', 'science', 'science', 'science', 'samsung', 'tennis', 'science', 'science', 'science', 'science', 'science', 'science', 'science', 'science', 'science', 'science', 'science', 'science', 'science', 'science', 'science', 'science', 'science', 'science', 'science', 'science', 'science', 'samsung', 'science', 'tennis', 'science', 'science', 'science', 'science', 'science', 'science', 'science', 'science', 'science', 'science', 'science', 'science', 'science', 'science', 'science', 'tennis', 'science', 'science', 'science', 'science', 'tennis', 'science', 'tennis', 'science', 'science', 'science', 'tennis', 'science', 'science', 'science', 'science', 'science', 'tennis', 'tennis', 'science', 'science', 'science', 'science', 'science', 'science', 'samsung', 'science', 'science', 'science', 'science', 'science', 'science', 'tennis', 'science', 'science', 'science', 'science', 'tennis', 'science', 'science', 'tennis', 'science', 'science', 'science', 'science', 'science', 'tennis', 'science', 'science', 'science', 'science', 'science', 'science', 'science', 'science', 'science', 'tennis', 'science', 'tennis', 'science', 'science', 'science', 'science', 'science', 'science', 'science', 'tennis', 'tennis', 'science', 'science', 'science', 'science', 'science', 'science', 'science', 'science', 'tennis', 'science', 'science', 'science', 'tennis', 'science', 'science', 'science', 'science', 'science', 'science', 'science', 'science', 'science', 'science', 'science', 'science', 'science', 'tennis', 'science', 'science', 'science', 'tennis', 'science', 'science', 'tennis', 'tennis', 'science', 'science', 'science', 'science', 'science', 'science', 'science', 'science', 'science', 'tennis', 'science', 'science', 'science', 'science', 'science', 'science', 'science', 'science', 'science', 'science', 'science', 'science', 'science', 'science', 'tennis', 'tennis', 'science', 'science', 'laptop', 'laptop', 'laptop', 'laptop', 'laptop', 'laptop', 'laptop', 'laptop', 'samsung', 'laptop', 'laptop', 'laptop', 'laptop', 'laptop', 'laptop', 'laptop', 'laptop', 'samsung', 'laptop', 'laptop', 'laptop', 'laptop', 'laptop', 'laptop', 'laptop', 'laptop', 'laptop', 'laptop', 'laptop', 'laptop', 'laptop', 'laptop', 'laptop', 'laptop', 'laptop', 'laptop', 'laptop', 'laptop', 'laptop', 'laptop', 'laptop', 'laptop', 'laptop', 'laptop', 'laptop', 'laptop', 'laptop', 'laptop', 'laptop', 'laptop', 'laptop', 'laptop', 'laptop', 'laptop', 'laptop', 'laptop', 'laptop', 'laptop', 'laptop', 'laptop', 'laptop', 'laptop', 'laptop', 'laptop', 'laptop', 'laptop', 'laptop', 'laptop', 'laptop', 'laptop', 'laptop', 'laptop', 'laptop', 'laptop', 'laptop', 'laptop', 'laptop', 'laptop', 'laptop', 'samsung', 'laptop', 'laptop', 'samsung', 'laptop', 'laptop', 'laptop', 'laptop', 'laptop', 'laptop', 'laptop', 'samsung', 'laptop', 'laptop', 'laptop', 'laptop', 'laptop', 'samsung', 'laptop', 'laptop', 'laptop', 'laptop', 'laptop', 'laptop', 'laptop', 'laptop', 'laptop', 'laptop', 'laptop', 'laptop', 'laptop', 'laptop', 'laptop', 'laptop', 'laptop', 'laptop', 'laptop', 'laptop', 'laptop', 'laptop', 'laptop', 'laptop', 'laptop', 'laptop', 'laptop', 'laptop', 'samsung', 'laptop', 'samsung', 'laptop', 'samsung', 'samsung', 'laptop', 'laptop', 'laptop', 'laptop', 'laptop', 'laptop', 'laptop', 'laptop', 'laptop', 'laptop', 'laptop', 'laptop', 'laptop', 'laptop', 'laptop', 'laptop', 'laptop', 'laptop', 'laptop', 'laptop', 'anime', 'laptop', 'laptop', 'laptop', 'laptop', 'laptop', 'laptop', 'laptop', 'laptop', 'laptop', 'samsung', 'laptop', 'laptop', 'laptop', 'laptop', 'laptop', 'laptop', 'laptop', 'laptop', 'samsung', 'laptop', 'laptop', 'laptop', 'laptop', 'laptop', 'laptop', 'laptop', 'laptop', 'laptop', 'laptop', 'laptop', 'laptop', 'laptop', 'laptop', 'laptop', 'laptop', 'laptop', 'laptop', 'laptop', 'laptop', 'laptop', 'laptop', 'samsung', 'laptop', 'laptop', 'laptop', 'laptop', 'laptop', 'samsung', 'laptop', 'samsung', 'laptop', 'laptop', 'laptop', 'laptop', 'laptop', 'laptop', 'laptop', 'laptop', 'laptop', 'laptop', 'laptop', 'laptop', 'laptop', 'laptop', 'laptop', 'laptop', 'samsung', 'laptop', 'laptop', 'laptop', 'laptop', 'laptop', 'laptop', 'laptop', 'laptop', 'laptop', 'laptop', 'laptop', 'laptop', 'laptop', 'laptop', 'laptop', 'laptop', 'laptop', 'laptop', 'laptop', 'laptop', 'laptop', 'laptop', 'laptop', 'laptop', 'laptop', 'samsung', 'laptop', 'laptop', 'laptop', 'laptop', 'laptop', 'laptop', 'laptop', 'laptop', 'laptop', 'laptop', 'laptop', 'laptop', 'laptop', 'laptop', 'laptop', 'laptop', 'laptop', 'laptop', 'laptop', 'laptop', 'laptop', 'laptop', 'laptop', 'laptop', 'laptop', 'laptop', 'laptop', 'laptop', 'laptop', 'laptop', 'laptop', 'laptop', 'laptop', 'laptop', 'laptop', 'laptop', 'laptop', 'laptop', 'laptop', 'samsung', 'laptop', 'laptop', 'laptop', 'laptop', 'laptop', 'laptop', 'laptop', 'laptop', 'samsung', 'laptop', 'laptop', 'laptop', 'laptop', 'laptop', 'laptop', 'laptop', 'laptop', 'laptop', 'laptop', 'laptop', 'laptop', 'laptop', 'laptop', 'laptop', 'laptop', 'laptop', 'laptop', 'laptop', 'laptop', 'laptop', 'laptop', 'laptop', 'laptop', 'laptop', 'laptop', 'laptop', 'laptop', 'laptop', 'laptop', 'laptop', 'laptop', 'laptop', 'laptop', 'laptop', 'laptop', 'laptop', 'laptop', 'laptop', 'laptop', 'samsung', 'laptop', 'laptop', 'laptop', 'laptop', 'laptop', 'laptop', 'laptop', 'laptop', 'laptop', 'laptop', 'laptop', 'laptop', 'laptop', 'laptop', 'laptop', 'laptop', 'laptop', 'laptop', 'laptop', 'laptop', 'laptop', 'laptop', 'laptop', 'laptop', 'laptop', 'laptop', 'laptop', 'laptop', 'laptop', 'laptop', 'laptop', 'laptop', 'laptop', 'laptop', 'samsung', 'laptop', 'laptop', 'laptop', 'laptop', 'laptop', 'laptop', 'laptop', 'laptop', 'laptop', 'laptop', 'laptop', 'laptop', 'laptop', 'laptop', 'laptop', 'laptop', 'laptop', 'laptop', 'laptop', 'laptop', 'laptop', 'laptop', 'laptop', 'laptop', 'laptop', 'laptop', 'laptop', 'samsung', 'laptop', 'laptop', 'samsung', 'samsung', 'samsung', 'samsung', 'samsung', 'samsung', 'samsung', 'samsung', 'samsung', 'samsung', 'samsung', 'samsung', 'samsung', 'samsung', 'samsung', 'samsung', 'samsung', 'samsung', 'samsung', 'samsung', 'samsung', 'samsung', 'samsung', 'samsung', 'samsung', 'samsung', 'samsung', 'samsung', 'samsung', 'samsung', 'samsung', 'samsung', 'samsung', 'samsung', 'samsung', 'samsung', 'samsung', 'samsung', 'samsung', 'samsung', 'samsung', 'samsung', 'samsung', 'samsung', 'samsung', 'samsung', 'samsung', 'samsung', 'samsung', 'samsung', 'samsung', 'samsung', 'samsung', 'samsung', 'samsung', 'samsung', 'samsung', 'samsung', 'samsung', 'samsung', 'samsung', 'samsung', 'samsung', 'samsung', 'samsung', 'samsung', 'samsung', 'samsung', 'samsung', 'samsung', 'samsung', 'samsung', 'samsung', 'samsung', 'samsung', 'samsung', 'samsung', 'samsung', 'samsung', 'samsung', 'samsung', 'samsung', 'samsung', 'samsung', 'samsung', 'samsung', 'samsung', 'samsung', 'samsung', 'samsung', 'samsung', 'samsung', 'samsung', 'samsung', 'samsung', 'samsung', 'samsung', 'samsung', 'samsung', 'samsung', 'samsung', 'samsung', 'samsung', 'samsung', 'samsung', 'samsung', 'samsung', 'samsung', 'samsung', 'samsung', 'samsung', 'samsung', 'samsung', 'samsung', 'samsung', 'samsung', 'samsung', 'samsung', 'samsung', 'samsung', 'samsung', 'samsung', 'samsung', 'samsung', 'samsung', 'samsung', 'samsung', 'samsung', 'samsung', 'samsung', 'samsung', 'samsung', 'samsung', 'samsung', 'samsung', 'samsung', 'samsung', 'samsung', 'samsung', 'samsung', 'samsung', 'samsung', 'samsung', 'samsung', 'samsung', 'samsung', 'samsung', 'samsung', 'samsung', 'samsung', 'samsung', 'samsung', 'samsung', 'samsung', 'samsung', 'samsung', 'samsung', 'samsung', 'samsung', 'samsung', 'samsung', 'samsung', 'samsung', 'samsung', 'samsung', 'samsung', 'samsung', 'samsung', 'anime', 'samsung', 'samsung', 'samsung', 'samsung', 'samsung', 'samsung', 'samsung', 'samsung', 'samsung', 'samsung', 'samsung', 'samsung', 'samsung', 'samsung', 'samsung', 'samsung', 'samsung', 'samsung', 'samsung', 'samsung', 'samsung', 'samsung', 'samsung', 'samsung', 'samsung', 'samsung', 'samsung', 'samsung', 'samsung', 'samsung', 'samsung', 'samsung', 'samsung', 'samsung', 'samsung', 'samsung', 'samsung', 'samsung', 'samsung', 'samsung', 'samsung', 'samsung', 'samsung', 'samsung', 'samsung', 'samsung', 'samsung', 'samsung', 'samsung', 'samsung', 'samsung', 'samsung', 'samsung', 'samsung', 'samsung', 'samsung', 'samsung', 'samsung', 'samsung', 'samsung', 'samsung', 'samsung', 'samsung', 'samsung', 'samsung', 'samsung', 'samsung', 'samsung', 'samsung', 'samsung', 'samsung', 'samsung', 'samsung', 'samsung', 'samsung', 'samsung', 'samsung', 'samsung', 'samsung', 'samsung', 'samsung', 'samsung', 'samsung', 'samsung', 'samsung', 'samsung', 'samsung', 'samsung', 'samsung', 'samsung', 'samsung', 'samsung', 'samsung', 'samsung', 'samsung', 'samsung', 'samsung', 'samsung', 'samsung', 'samsung', 'samsung', 'samsung', 'samsung', 'samsung', 'anime', 'samsung', 'samsung', 'samsung', 'samsung', 'samsung', 'samsung', 'samsung', 'samsung', 'samsung', 'samsung', 'samsung', 'samsung', 'samsung', 'samsung', 'samsung', 'samsung', 'samsung', 'samsung', 'samsung', 'samsung', 'samsung', 'samsung', 'samsung', 'samsung', 'samsung', 'samsung', 'samsung', 'samsung', 'samsung', 'samsung', 'samsung', 'samsung', 'samsung', 'samsung', 'samsung', 'samsung', 'samsung', 'samsung', 'samsung', 'samsung', 'samsung', 'samsung', 'samsung', 'samsung', 'samsung', 'samsung', 'samsung', 'samsung', 'samsung', 'samsung', 'samsung', 'samsung', 'samsung', 'samsung', 'samsung', 'samsung', 'samsung', 'samsung', 'samsung', 'samsung', 'samsung', 'samsung', 'samsung', 'samsung', 'samsung', 'samsung', 'samsung', 'samsung', 'samsung', 'samsung', 'samsung', 'samsung', 'samsung', 'samsung', 'samsung', 'samsung', 'samsung', 'samsung', 'samsung', 'samsung', 'samsung', 'samsung', 'samsung', 'samsung', 'samsung', 'samsung', 'samsung', 'samsung', 'samsung', 'samsung', 'samsung', 'samsung', 'samsung', 'samsung', 'samsung', 'samsung', 'samsung', 'samsung', 'samsung', 'samsung', 'samsung', 'samsung', 'samsung', 'samsung', 'samsung', 'samsung', 'samsung', 'samsung', 'samsung', 'samsung', 'samsung', 'samsung', 'samsung', 'samsung', 'samsung', 'samsung', 'samsung', 'samsung', 'samsung', 'samsung', 'samsung', 'samsung', 'samsung', 'samsung', 'samsung', 'samsung', 'tennis', 'laptop', 'tennis', 'tennis', 'tennis', 'tennis', 'tennis', 'tennis', 'tennis', 'tennis', 'tennis', 'tennis', 'tennis', 'tennis', 'tennis', 'tennis', 'tennis', 'tennis', 'tennis', 'tennis', 'tennis', 'tennis', 'tennis', 'tennis', 'tennis', 'tennis', 'tennis', 'tennis', 'tennis', 'tennis', 'tennis', 'tennis', 'tennis', 'tennis', 'tennis', 'tennis', 'tennis', 'tennis', 'tennis', 'tennis', 'tennis', 'tennis', 'tennis', 'tennis', 'tennis', 'tennis', 'tennis', 'tennis', 'tennis', 'tennis', 'tennis', 'tennis', 'tennis', 'tennis', 'tennis', 'tennis', 'tennis', 'tennis', 'tennis', 'tennis', 'tennis', 'tennis', 'tennis', 'tennis', 'tennis', 'tennis', 'tennis', 'tennis', 'tennis', 'tennis', 'tennis', 'tennis', 'tennis', 'tennis', 'tennis', 'tennis', 'tennis', 'tennis', 'tennis', 'tennis', 'tennis', 'tennis', 'tennis', 'tennis', 'tennis', 'tennis', 'tennis', 'tennis', 'tennis', 'tennis', 'tennis', 'tennis', 'tennis', 'tennis', 'tennis', 'tennis', 'tennis', 'tennis', 'tennis', 'tennis', 'tennis', 'tennis', 'tennis', 'tennis', 'tennis', 'tennis', 'tennis', 'tennis', 'tennis', 'tennis', 'tennis', 'tennis', 'tennis', 'tennis', 'tennis', 'tennis', 'tennis', 'tennis', 'tennis', 'tennis', 'tennis', 'tennis', 'tennis', 'tennis', 'tennis', 'tennis', 'tennis', 'tennis', 'tennis', 'tennis', 'tennis', 'tennis', 'tennis', 'tennis', 'tennis', 'tennis', 'tennis', 'tennis', 'tennis', 'tennis', 'tennis', 'tennis', 'tennis', 'tennis', 'tennis', 'tennis', 'tennis', 'tennis', 'tennis', 'tennis', 'tennis', 'tennis', 'tennis', 'tennis', 'tennis', 'tennis', 'tennis', 'tennis', 'tennis', 'tennis', 'tennis', 'tennis', 'tennis', 'tennis', 'tennis', 'tennis', 'tennis', 'tennis', 'tennis', 'tennis', 'tennis', 'tennis', 'tennis', 'tennis', 'tennis', 'tennis', 'tennis', 'tennis', 'tennis', 'tennis', 'tennis', 'tennis', 'samsung', 'tennis', 'tennis', 'tennis', 'tennis', 'tennis', 'tennis', 'tennis', 'laptop', 'tennis', 'tennis', 'tennis', 'tennis', 'tennis', 'tennis', 'tennis', 'tennis', 'tennis', 'tennis', 'tennis', 'tennis', 'tennis', 'tennis', 'tennis', 'samsung', 'tennis', 'tennis', 'tennis', 'tennis', 'tennis', 'tennis', 'tennis', 'tennis', 'tennis', 'tennis', 'tennis', 'tennis', 'tennis', 'tennis', 'tennis', 'tennis', 'tennis', 'tennis', 'tennis', 'tennis', 'tennis', 'tennis', 'tennis', 'tennis', 'samsung', 'tennis', 'tennis', 'tennis', 'tennis', 'tennis', 'tennis', 'tennis', 'tennis', 'tennis', 'tennis', 'tennis', 'tennis', 'tennis', 'tennis', 'tennis', 'tennis', 'tennis', 'tennis', 'tennis', 'tennis', 'tennis', 'tennis', 'tennis', 'tennis', 'tennis', 'tennis', 'tennis', 'tennis', 'tennis', 'tennis', 'tennis', 'tennis', 'tennis', 'tennis', 'tennis', 'tennis', 'tennis', 'tennis', 'tennis', 'tennis', 'tennis', 'tennis', 'tennis', 'tennis', 'tennis', 'tennis', 'tennis', 'tennis', 'tennis', 'tennis', 'tennis', 'tennis', 'tennis', 'tennis', 'tennis', 'tennis', 'tennis', 'tennis', 'tennis', 'tennis', 'tennis', 'samsung', 'tennis', 'tennis', 'tennis', 'tennis', 'tennis', 'tennis', 'tennis', 'tennis', 'tennis', 'tennis', 'tennis', 'tennis', 'tennis', 'tennis', 'tennis', 'tennis', 'tennis', 'tennis', 'tennis', 'tennis', 'tennis', 'tennis', 'tennis', 'tennis', 'tennis', 'tennis', 'tennis', 'science', 'tennis', 'tennis', 'tennis', 'tennis', 'tennis', 'tennis', 'tennis', 'tennis', 'tennis', 'tennis', 'tennis', 'tennis', 'tennis', 'tennis', 'tennis', 'tennis', 'tennis', 'tennis', 'tennis', 'tennis', 'tennis', 'tennis', 'tennis', 'tennis', 'tennis', 'tennis', 'tennis', 'tennis', 'tennis', 'tennis', 'tennis', 'tennis', 'tennis', 'tennis', 'tennis', 'tennis', 'tennis', 'tennis', 'tennis', 'tennis', 'tennis', 'tennis', 'tennis', 'tennis', 'tennis', 'tennis', 'tennis', 'tennis', 'tennis', 'tennis', 'tennis', 'tennis', 'tennis', 'tennis', 'tennis', 'tennis', 'tennis', 'tennis', 'tennis', 'tennis', 'tennis', 'tennis', 'tennis', 'tennis', 'tennis', 'tennis', 'tennis', 'samsung', 'tennis', 'tennis', 'tennis', 'tennis', 'tennis', 'tennis', 'tennis', 'tennis', 'tennis', 'tennis', 'anime', 'anime', 'anime', 'anime', 'anime', 'tennis', 'anime', 'tennis', 'anime', 'anime', 'anime', 'anime', 'anime', 'anime', 'anime', 'anime', 'anime', 'anime', 'tennis', 'anime', 'tennis', 'tennis', 'anime', 'tennis', 'anime', 'anime', 'anime', 'anime', 'anime', 'samsung', 'tennis', 'anime', 'tennis', 'anime', 'anime', 'anime', 'tennis', 'anime', 'anime', 'anime', 'anime', 'anime', 'tennis', 'samsung', 'anime', 'anime', 'anime', 'anime', 'anime', 'tennis', 'anime', 'anime', 'anime', 'anime', 'anime', 'tennis', 'anime', 'anime', 'anime', 'anime', 'anime', 'anime', 'anime', 'anime', 'anime', 'anime', 'anime', 'anime', 'anime', 'anime', 'tennis', 'anime', 'anime', 'tennis', 'anime', 'anime', 'anime', 'anime', 'anime', 'anime', 'anime', 'tennis', 'anime', 'anime', 'anime', 'anime', 'anime', 'anime', 'anime', 'anime', 'anime', 'anime', 'anime', 'anime', 'tennis', 'anime', 'anime', 'anime', 'anime', 'anime', 'anime', 'anime', 'anime', 'anime', 'anime', 'anime', 'anime', 'tennis', 'samsung', 'anime', 'anime', 'anime', 'tennis', 'samsung', 'anime', 'anime', 'tennis', 'tennis', 'tennis', 'anime', 'anime', 'anime', 'anime', 'anime', 'anime', 'tennis', 'anime', 'anime', 'tennis', 'anime', 'anime', 'anime', 'anime', 'anime', 'anime', 'tennis', 'anime', 'anime', 'tennis', 'anime', 'anime', 'anime', 'anime', 'anime', 'anime', 'anime', 'anime', 'anime', 'anime', 'anime', 'anime', 'tennis', 'anime', 'tennis', 'anime', 'anime', 'anime', 'tennis', 'anime', 'anime', 'anime', 'anime', 'tennis', 'anime', 'tennis', 'anime', 'anime', 'anime', 'anime', 'anime', 'anime', 'anime', 'anime', 'samsung', 'anime', 'science', 'tennis', 'anime', 'anime', 'anime', 'anime', 'anime', 'anime', 'anime', 'anime', 'anime', 'tennis', 'anime', 'anime', 'tennis', 'anime', 'tennis', 'anime', 'samsung', 'anime', 'anime', 'anime', 'anime', 'tennis', 'anime', 'anime', 'tennis', 'anime', 'tennis', 'anime', 'tennis', 'tennis', 'anime', 'tennis', 'anime', 'anime', 'anime', 'anime', 'anime', 'anime', 'samsung', 'anime', 'anime', 'anime', 'anime', 'anime', 'anime', 'samsung', 'anime', 'anime', 'anime', 'anime', 'anime', 'anime', 'tennis', 'anime', 'tennis', 'tennis', 'tennis', 'anime', 'anime', 'tennis', 'anime', 'anime', 'anime', 'anime', 'tennis', 'anime', 'anime', 'anime', 'tennis', 'anime', 'tennis', 'anime', 'anime', 'anime', 'tennis', 'anime', 'samsung', 'anime', 'anime', 'samsung', 'anime', 'anime', 'anime', 'anime', 'anime', 'tennis', 'anime', 'anime', 'tennis', 'anime', 'anime', 'anime', 'tennis', 'anime', 'anime', 'samsung', 'anime', 'anime', 'anime', 'anime', 'anime', 'anime', 'anime', 'anime', 'anime', 'anime', 'samsung', 'anime', 'tennis', 'tennis', 'anime', 'anime', 'anime', 'tennis', 'anime', 'anime', 'anime', 'tennis', 'anime', 'anime', 'anime', 'anime', 'anime', 'anime', 'tennis', 'anime', 'anime', 'anime', 'tennis', 'anime', 'anime', 'anime', 'anime', 'anime', 'anime', 'anime', 'tennis', 'anime', 'samsung', 'anime', 'anime', 'anime', 'anime', 'tennis', 'anime', 'anime', 'tennis', 'anime', 'anime', 'anime', 'samsung', 'anime', 'anime', 'anime', 'anime', 'anime', 'anime', 'anime', 'tennis', 'anime', 'anime', 'anime', 'anime', 'anime', 'anime', 'tennis', 'anime', 'anime', 'anime', 'anime', 'anime', 'anime', 'tennis', 'tennis', 'anime', 'anime', 'anime', 'anime', 'anime', 'anime', 'anime', 'anime', 'anime', 'anime', 'anime', 'anime', 'anime', 'anime', 'anime', 'anime', 'anime', 'anime', 'anime', 'anime', 'tennis', 'anime', 'anime', 'tennis', 'anime', 'anime', 'anime', 'anime', 'anime', 'anime', 'anime', 'anime', 'anime', 'anime', 'anime', 'anime', 'anime', 'samsung', 'anime', 'anime', 'anime', 'anime', 'anime', 'anime', 'anime', 'anime', 'anime', 'anime', 'anime']\n",
            "0.9069534767383692\n",
            "Time elapsed: 123.82003426551819 s\n"
          ],
          "name": "stdout"
        }
      ]
    },
    {
      "cell_type": "markdown",
      "metadata": {
        "id": "Io-CR8QqSDlf"
      },
      "source": [
        "K-fold for Bernoulli Naive Bayes\r\n",
        "- Using Stratified Kfold, the data is separated into validation and testing set, without shuffling the data among different classes, and will select data from all the class type."
      ],
      "id": "Io-CR8QqSDlf"
    },
    {
      "cell_type": "code",
      "metadata": {
        "colab": {
          "base_uri": "https://localhost:8080/"
        },
        "id": "x25eFQyZD9qe",
        "outputId": "f50de826-eecf-4a33-94db-3b1b5f55e5c1"
      },
      "source": [
        "# K-fold for Bernoulli Naive Bayes #\r\n",
        "'''\r\n",
        "Notes:\r\n",
        "- When k-fold is applied, then for the test set a particular test data is selected by it.    \r\n",
        "- So, we need to apply Stratified Kfold\r\n",
        "'''\r\n",
        "import numpy as np\r\n",
        "from sklearn.model_selection import StratifiedKFold\r\n",
        "from sklearn.feature_extraction.text import CountVectorizer\r\n",
        "\r\n",
        "time_b=time.time()\r\n",
        "# Vectorizing the data for Bernoulli Naive Bayes\r\n",
        "vectorizer = CountVectorizer(max_features = 3000, binary = True)\r\n",
        "X = vectorizer.fit_transform(Comment)\r\n",
        "X_all_class = X.todense() \r\n",
        "\r\n",
        "# Defining k-fold object for Naive Bayes\r\n",
        "skf =StratifiedKFold(n_splits = 10)\r\n",
        "#index = skf.split(Comment, Subreddit)\r\n",
        "index = skf.split(X_all_class, Subreddit)\r\n",
        "\r\n",
        "# Function fork-fold accuracy calculations\r\n",
        "def kfoldNaive(X_Comment_train, X_comment_test, X_train, X_test, Y_train, Y_test):\r\n",
        "  #Dividing Bit Vecotrs according to class type for training Data\r\n",
        "  X_sci_tr = X_train[0:360]\r\n",
        "  X_lap_tr = X_all_class[360:720]\r\n",
        "  X_sam_tr = X_all_class[720:1080]\r\n",
        "  X_ten_tr = X_all_class[1080:1440]\r\n",
        "  X_ane_tr = X_all_class[1440:1800]\r\n",
        "\r\n",
        "  #All comments according to the class type for the training comments\r\n",
        "  science_thread = X_Comment_train[0:360]\r\n",
        "  laptop_thread = X_Comment_train[360:720]\r\n",
        "  samsung_thread = X_Comment_train[720:1080]\r\n",
        "  tennis_thread = X_Comment_train[1080:1440]\r\n",
        "  anime_thread = X_Comment_train[1440:1800]\r\n",
        "\r\n",
        "  bnb = BernoulliNaive(X_Comment_train, science_thread, laptop_thread, samsung_thread, tennis_thread, anime_thread)\r\n",
        "  thetak, thetajk = bnb.theta(X_sci_tr,  X_lap_tr, X_sam_tr, X_ten_tr, X_ane_tr)\r\n",
        "\r\n",
        "  Predict = []\r\n",
        "  for i in range(len(X_comment_test)):\r\n",
        "    DEL = bnb.ClassProbability(X_test[i], thetak, thetajk)\r\n",
        "    y = bnb.predict(DEL)\r\n",
        "    Predict.append(y)\r\n",
        "  print(Predict)\r\n",
        "\r\n",
        "  # Cal. Accurracy of the Naive Bayes on the Training data set #\r\n",
        "  accuracy = (Predict == Y_test).mean()\r\n",
        "  print(\"Accuracy of this fold is: \",accuracy)\r\n",
        "\r\n",
        "# Generating the accuracy for each set.\r\n",
        "for t, te in index:\r\n",
        "  #X_train, X_test = Comment[t], Comment[te]\r\n",
        "  X_train, X_test = X_all_class[t], X_all_class[te]\r\n",
        "  X_Comment_train, X_comment_test = Comment[t], Comment[te]\r\n",
        "  Y_train, Y_test = Subreddit[t], Subreddit[te]\r\n",
        "  kfoldNaive(X_Comment_train, X_comment_test, X_train, X_test, Y_train, Y_test)\r\n",
        "\r\n",
        "time_e = time.time()\r\n",
        "print('Time elapsed:',time_e-time_b,'s')"
      ],
      "id": "x25eFQyZD9qe",
      "execution_count": null,
      "outputs": [
        {
          "output_type": "stream",
          "text": [
            "['tennis', 'science', 'science', 'science', 'science', 'science', 'science', 'science', 'tennis', 'science', 'science', 'science', 'science', 'tennis', 'anime', 'science', 'science', 'tennis', 'science', 'science', 'science', 'science', 'science', 'science', 'science', 'science', 'science', 'science', 'science', 'science', 'science', 'science', 'science', 'science', 'science', 'tennis', 'tennis', 'science', 'samsung', 'science', 'laptop', 'laptop', 'laptop', 'laptop', 'laptop', 'laptop', 'laptop', 'laptop', 'samsung', 'laptop', 'laptop', 'laptop', 'laptop', 'laptop', 'laptop', 'laptop', 'laptop', 'samsung', 'laptop', 'samsung', 'laptop', 'laptop', 'laptop', 'laptop', 'laptop', 'laptop', 'laptop', 'laptop', 'laptop', 'laptop', 'laptop', 'laptop', 'laptop', 'laptop', 'laptop', 'laptop', 'laptop', 'laptop', 'laptop', 'laptop', 'samsung', 'samsung', 'samsung', 'samsung', 'samsung', 'samsung', 'samsung', 'samsung', 'samsung', 'samsung', 'samsung', 'tennis', 'samsung', 'samsung', 'samsung', 'samsung', 'samsung', 'samsung', 'samsung', 'samsung', 'samsung', 'samsung', 'samsung', 'samsung', 'samsung', 'samsung', 'samsung', 'samsung', 'samsung', 'samsung', 'samsung', 'samsung', 'samsung', 'samsung', 'samsung', 'samsung', 'samsung', 'samsung', 'samsung', 'samsung', 'tennis', 'laptop', 'tennis', 'tennis', 'tennis', 'tennis', 'tennis', 'tennis', 'tennis', 'tennis', 'tennis', 'tennis', 'tennis', 'tennis', 'tennis', 'tennis', 'tennis', 'tennis', 'tennis', 'tennis', 'tennis', 'tennis', 'tennis', 'tennis', 'tennis', 'tennis', 'tennis', 'tennis', 'tennis', 'tennis', 'tennis', 'tennis', 'tennis', 'tennis', 'tennis', 'tennis', 'tennis', 'tennis', 'tennis', 'tennis', 'anime', 'anime', 'anime', 'anime', 'anime', 'anime', 'anime', 'anime', 'anime', 'anime', 'anime', 'anime', 'anime', 'anime', 'anime', 'anime', 'anime', 'anime', 'tennis', 'anime', 'anime', 'anime', 'anime', 'anime', 'anime', 'anime', 'anime', 'anime', 'anime', 'tennis', 'tennis', 'anime', 'anime', 'anime', 'anime', 'anime', 'tennis', 'anime', 'anime', 'anime']\n",
            "Accuracy of this fold is:  0.915\n"
          ],
          "name": "stdout"
        },
        {
          "output_type": "stream",
          "text": [
            "/usr/local/lib/python3.7/dist-packages/ipykernel_launcher.py:34: RuntimeWarning: divide by zero encountered in log\n"
          ],
          "name": "stderr"
        },
        {
          "output_type": "stream",
          "text": [
            "['science', 'science', 'anime', 'science', 'tennis', 'tennis', 'science', 'science', 'science', 'science', 'science', 'science', 'science', 'anime', 'tennis', 'science', 'science', 'science', 'science', 'science', 'science', 'science', 'science', 'tennis', 'science', 'anime', 'tennis', 'science', 'science', 'science', 'science', 'tennis', 'science', 'science', 'tennis', 'science', 'tennis', 'science', 'science', 'tennis', 'laptop', 'laptop', 'laptop', 'samsung', 'laptop', 'laptop', 'laptop', 'laptop', 'laptop', 'laptop', 'laptop', 'laptop', 'laptop', 'laptop', 'laptop', 'laptop', 'laptop', 'laptop', 'laptop', 'laptop', 'laptop', 'laptop', 'laptop', 'laptop', 'laptop', 'laptop', 'laptop', 'laptop', 'laptop', 'laptop', 'laptop', 'laptop', 'laptop', 'laptop', 'laptop', 'laptop', 'laptop', 'laptop', 'samsung', 'tennis', 'samsung', 'samsung', 'samsung', 'samsung', 'samsung', 'samsung', 'samsung', 'samsung', 'samsung', 'samsung', 'samsung', 'samsung', 'samsung', 'samsung', 'samsung', 'tennis', 'samsung', 'samsung', 'samsung', 'samsung', 'samsung', 'samsung', 'samsung', 'samsung', 'samsung', 'samsung', 'samsung', 'samsung', 'samsung', 'samsung', 'samsung', 'samsung', 'samsung', 'samsung', 'samsung', 'samsung', 'samsung', 'samsung', 'samsung', 'samsung', 'tennis', 'tennis', 'tennis', 'tennis', 'tennis', 'tennis', 'tennis', 'tennis', 'tennis', 'tennis', 'tennis', 'tennis', 'tennis', 'tennis', 'tennis', 'tennis', 'tennis', 'tennis', 'tennis', 'tennis', 'tennis', 'tennis', 'tennis', 'tennis', 'tennis', 'tennis', 'tennis', 'tennis', 'tennis', 'tennis', 'tennis', 'tennis', 'tennis', 'tennis', 'tennis', 'tennis', 'tennis', 'tennis', 'tennis', 'tennis', 'anime', 'anime', 'anime', 'anime', 'anime', 'anime', 'anime', 'anime', 'anime', 'anime', 'anime', 'anime', 'anime', 'anime', 'anime', 'anime', 'anime', 'anime', 'anime', 'anime', 'anime', 'anime', 'anime', 'anime', 'anime', 'anime', 'anime', 'anime', 'anime', 'anime', 'anime', 'anime', 'anime', 'anime', 'anime', 'anime', 'anime', 'anime', 'anime', 'anime']\n",
            "Accuracy of this fold is:  0.92\n",
            "['science', 'tennis', 'anime', 'science', 'science', 'anime', 'science', 'anime', 'tennis', 'science', 'science', 'anime', 'science', 'science', 'science', 'tennis', 'science', 'science', 'tennis', 'science', 'science', 'science', 'tennis', 'tennis', 'science', 'science', 'science', 'science', 'science', 'science', 'tennis', 'science', 'tennis', 'science', 'science', 'anime', 'science', 'science', 'science', 'tennis', 'laptop', 'laptop', 'tennis', 'laptop', 'laptop', 'laptop', 'laptop', 'laptop', 'laptop', 'laptop', 'tennis', 'laptop', 'laptop', 'laptop', 'laptop', 'laptop', 'tennis', 'laptop', 'laptop', 'laptop', 'laptop', 'laptop', 'laptop', 'laptop', 'laptop', 'laptop', 'laptop', 'laptop', 'laptop', 'laptop', 'laptop', 'laptop', 'laptop', 'laptop', 'laptop', 'laptop', 'laptop', 'laptop', 'laptop', 'laptop', 'samsung', 'samsung', 'samsung', 'samsung', 'samsung', 'samsung', 'samsung', 'samsung', 'samsung', 'samsung', 'samsung', 'samsung', 'samsung', 'samsung', 'samsung', 'samsung', 'samsung', 'samsung', 'samsung', 'samsung', 'samsung', 'samsung', 'samsung', 'samsung', 'samsung', 'samsung', 'samsung', 'samsung', 'samsung', 'samsung', 'samsung', 'samsung', 'samsung', 'samsung', 'samsung', 'samsung', 'samsung', 'samsung', 'samsung', 'samsung', 'tennis', 'tennis', 'tennis', 'tennis', 'tennis', 'tennis', 'tennis', 'tennis', 'tennis', 'tennis', 'tennis', 'tennis', 'tennis', 'tennis', 'tennis', 'tennis', 'tennis', 'tennis', 'tennis', 'tennis', 'tennis', 'tennis', 'tennis', 'tennis', 'tennis', 'tennis', 'tennis', 'tennis', 'tennis', 'tennis', 'tennis', 'tennis', 'tennis', 'tennis', 'tennis', 'tennis', 'tennis', 'tennis', 'tennis', 'tennis', 'anime', 'anime', 'anime', 'anime', 'anime', 'anime', 'anime', 'anime', 'anime', 'anime', 'anime', 'anime', 'anime', 'anime', 'anime', 'anime', 'anime', 'anime', 'anime', 'anime', 'anime', 'anime', 'anime', 'anime', 'anime', 'anime', 'anime', 'anime', 'samsung', 'anime', 'anime', 'anime', 'anime', 'samsung', 'anime', 'anime', 'anime', 'anime', 'tennis', 'anime']\n",
            "Accuracy of this fold is:  0.9\n",
            "['science', 'science', 'tennis', 'tennis', 'tennis', 'tennis', 'science', 'science', 'science', 'science', 'tennis', 'science', 'anime', 'tennis', 'science', 'science', 'tennis', 'tennis', 'tennis', 'science', 'anime', 'science', 'science', 'samsung', 'science', 'science', 'science', 'tennis', 'anime', 'tennis', 'tennis', 'anime', 'science', 'science', 'tennis', 'science', 'science', 'science', 'science', 'tennis', 'laptop', 'laptop', 'laptop', 'laptop', 'laptop', 'samsung', 'laptop', 'tennis', 'laptop', 'samsung', 'tennis', 'laptop', 'laptop', 'laptop', 'laptop', 'laptop', 'laptop', 'laptop', 'samsung', 'samsung', 'laptop', 'laptop', 'laptop', 'laptop', 'laptop', 'laptop', 'laptop', 'laptop', 'laptop', 'laptop', 'laptop', 'anime', 'laptop', 'laptop', 'laptop', 'laptop', 'laptop', 'laptop', 'laptop', 'laptop', 'samsung', 'samsung', 'samsung', 'samsung', 'samsung', 'samsung', 'samsung', 'samsung', 'samsung', 'samsung', 'samsung', 'samsung', 'samsung', 'samsung', 'samsung', 'samsung', 'samsung', 'samsung', 'samsung', 'samsung', 'samsung', 'samsung', 'samsung', 'samsung', 'samsung', 'samsung', 'samsung', 'samsung', 'samsung', 'samsung', 'samsung', 'samsung', 'samsung', 'samsung', 'samsung', 'samsung', 'samsung', 'samsung', 'samsung', 'samsung', 'tennis', 'tennis', 'tennis', 'tennis', 'tennis', 'tennis', 'tennis', 'tennis', 'tennis', 'tennis', 'tennis', 'tennis', 'tennis', 'tennis', 'tennis', 'tennis', 'tennis', 'tennis', 'tennis', 'tennis', 'tennis', 'tennis', 'tennis', 'tennis', 'tennis', 'tennis', 'tennis', 'tennis', 'tennis', 'tennis', 'tennis', 'tennis', 'tennis', 'tennis', 'tennis', 'tennis', 'tennis', 'tennis', 'tennis', 'tennis', 'anime', 'anime', 'anime', 'anime', 'anime', 'anime', 'anime', 'anime', 'anime', 'anime', 'anime', 'anime', 'anime', 'anime', 'anime', 'tennis', 'anime', 'anime', 'tennis', 'anime', 'anime', 'anime', 'anime', 'anime', 'anime', 'anime', 'anime', 'anime', 'anime', 'anime', 'anime', 'tennis', 'anime', 'tennis', 'anime', 'anime', 'anime', 'anime', 'anime', 'anime']\n",
            "Accuracy of this fold is:  0.85\n",
            "['science', 'science', 'tennis', 'science', 'science', 'science', 'science', 'science', 'science', 'science', 'tennis', 'science', 'science', 'science', 'science', 'anime', 'tennis', 'science', 'tennis', 'science', 'science', 'science', 'science', 'tennis', 'tennis', 'tennis', 'tennis', 'tennis', 'science', 'science', 'tennis', 'tennis', 'science', 'science', 'science', 'science', 'science', 'anime', 'science', 'science', 'laptop', 'samsung', 'laptop', 'laptop', 'laptop', 'laptop', 'laptop', 'laptop', 'laptop', 'laptop', 'samsung', 'laptop', 'laptop', 'samsung', 'laptop', 'laptop', 'laptop', 'laptop', 'laptop', 'laptop', 'laptop', 'laptop', 'laptop', 'laptop', 'laptop', 'laptop', 'laptop', 'laptop', 'samsung', 'laptop', 'laptop', 'laptop', 'laptop', 'samsung', 'samsung', 'laptop', 'laptop', 'laptop', 'laptop', 'tennis', 'samsung', 'tennis', 'samsung', 'samsung', 'samsung', 'samsung', 'samsung', 'samsung', 'anime', 'samsung', 'samsung', 'samsung', 'samsung', 'samsung', 'samsung', 'samsung', 'samsung', 'samsung', 'samsung', 'samsung', 'samsung', 'samsung', 'samsung', 'samsung', 'samsung', 'samsung', 'samsung', 'samsung', 'tennis', 'samsung', 'samsung', 'samsung', 'samsung', 'samsung', 'samsung', 'samsung', 'samsung', 'samsung', 'samsung', 'samsung', 'tennis', 'tennis', 'tennis', 'tennis', 'tennis', 'tennis', 'tennis', 'tennis', 'tennis', 'tennis', 'tennis', 'tennis', 'tennis', 'tennis', 'tennis', 'tennis', 'tennis', 'tennis', 'tennis', 'tennis', 'tennis', 'tennis', 'samsung', 'tennis', 'tennis', 'tennis', 'tennis', 'tennis', 'tennis', 'tennis', 'laptop', 'tennis', 'tennis', 'tennis', 'tennis', 'tennis', 'tennis', 'tennis', 'tennis', 'tennis', 'anime', 'anime', 'anime', 'anime', 'anime', 'anime', 'anime', 'anime', 'anime', 'anime', 'anime', 'anime', 'anime', 'tennis', 'anime', 'science', 'anime', 'anime', 'anime', 'anime', 'anime', 'anime', 'anime', 'anime', 'anime', 'anime', 'tennis', 'anime', 'anime', 'anime', 'anime', 'tennis', 'anime', 'tennis', 'anime', 'anime', 'anime', 'anime', 'tennis', 'anime']\n",
            "Accuracy of this fold is:  0.845\n",
            "['tennis', 'science', 'science', 'tennis', 'science', 'tennis', 'tennis', 'tennis', 'science', 'science', 'samsung', 'anime', 'anime', 'science', 'science', 'science', 'science', 'tennis', 'science', 'science', 'tennis', 'science', 'science', 'tennis', 'science', 'tennis', 'science', 'tennis', 'tennis', 'science', 'science', 'science', 'science', 'science', 'tennis', 'science', 'science', 'science', 'tennis', 'science', 'laptop', 'samsung', 'laptop', 'laptop', 'laptop', 'laptop', 'laptop', 'laptop', 'laptop', 'laptop', 'samsung', 'laptop', 'laptop', 'laptop', 'laptop', 'laptop', 'laptop', 'laptop', 'laptop', 'laptop', 'laptop', 'laptop', 'laptop', 'laptop', 'laptop', 'laptop', 'laptop', 'laptop', 'laptop', 'laptop', 'laptop', 'laptop', 'laptop', 'laptop', 'laptop', 'laptop', 'laptop', 'laptop', 'laptop', 'laptop', 'samsung', 'samsung', 'tennis', 'samsung', 'samsung', 'samsung', 'samsung', 'samsung', 'samsung', 'samsung', 'samsung', 'samsung', 'samsung', 'samsung', 'samsung', 'samsung', 'samsung', 'samsung', 'samsung', 'samsung', 'samsung', 'samsung', 'samsung', 'samsung', 'samsung', 'samsung', 'samsung', 'samsung', 'samsung', 'samsung', 'samsung', 'samsung', 'samsung', 'samsung', 'samsung', 'samsung', 'samsung', 'samsung', 'samsung', 'samsung', 'tennis', 'tennis', 'tennis', 'tennis', 'tennis', 'tennis', 'tennis', 'tennis', 'tennis', 'tennis', 'tennis', 'tennis', 'tennis', 'tennis', 'tennis', 'tennis', 'tennis', 'tennis', 'tennis', 'tennis', 'tennis', 'tennis', 'tennis', 'tennis', 'tennis', 'tennis', 'tennis', 'tennis', 'tennis', 'tennis', 'tennis', 'tennis', 'tennis', 'tennis', 'tennis', 'tennis', 'tennis', 'tennis', 'tennis', 'tennis', 'anime', 'tennis', 'anime', 'anime', 'anime', 'tennis', 'anime', 'anime', 'tennis', 'anime', 'anime', 'anime', 'anime', 'anime', 'anime', 'anime', 'anime', 'anime', 'anime', 'anime', 'anime', 'anime', 'tennis', 'anime', 'anime', 'anime', 'science', 'anime', 'anime', 'anime', 'anime', 'anime', 'tennis', 'tennis', 'anime', 'anime', 'tennis', 'anime', 'anime', 'anime']\n",
            "Accuracy of this fold is:  0.865\n",
            "['science', 'tennis', 'science', 'science', 'tennis', 'science', 'science', 'science', 'science', 'science', 'tennis', 'science', 'tennis', 'science', 'science', 'science', 'science', 'science', 'anime', 'science', 'tennis', 'anime', 'science', 'science', 'science', 'science', 'science', 'science', 'anime', 'science', 'science', 'science', 'science', 'tennis', 'science', 'tennis', 'science', 'science', 'science', 'tennis', 'laptop', 'laptop', 'laptop', 'laptop', 'samsung', 'laptop', 'laptop', 'laptop', 'laptop', 'laptop', 'laptop', 'laptop', 'laptop', 'laptop', 'laptop', 'laptop', 'laptop', 'laptop', 'laptop', 'laptop', 'laptop', 'laptop', 'laptop', 'laptop', 'laptop', 'laptop', 'laptop', 'laptop', 'laptop', 'laptop', 'samsung', 'laptop', 'laptop', 'laptop', 'laptop', 'laptop', 'laptop', 'laptop', 'laptop', 'laptop', 'samsung', 'samsung', 'samsung', 'samsung', 'tennis', 'samsung', 'samsung', 'samsung', 'samsung', 'samsung', 'samsung', 'samsung', 'samsung', 'samsung', 'samsung', 'samsung', 'samsung', 'samsung', 'samsung', 'samsung', 'samsung', 'samsung', 'samsung', 'tennis', 'samsung', 'samsung', 'tennis', 'samsung', 'samsung', 'samsung', 'samsung', 'samsung', 'samsung', 'science', 'samsung', 'samsung', 'samsung', 'samsung', 'samsung', 'samsung', 'tennis', 'anime', 'tennis', 'tennis', 'anime', 'tennis', 'tennis', 'anime', 'anime', 'tennis', 'anime', 'tennis', 'tennis', 'tennis', 'tennis', 'tennis', 'tennis', 'anime', 'tennis', 'tennis', 'tennis', 'tennis', 'tennis', 'tennis', 'tennis', 'anime', 'anime', 'tennis', 'tennis', 'tennis', 'anime', 'tennis', 'tennis', 'tennis', 'tennis', 'tennis', 'tennis', 'tennis', 'tennis', 'anime', 'anime', 'anime', 'anime', 'anime', 'tennis', 'anime', 'anime', 'anime', 'anime', 'anime', 'anime', 'tennis', 'anime', 'anime', 'anime', 'anime', 'tennis', 'anime', 'anime', 'science', 'anime', 'anime', 'tennis', 'anime', 'anime', 'tennis', 'anime', 'anime', 'anime', 'anime', 'anime', 'anime', 'samsung', 'anime', 'anime', 'anime', 'anime', 'anime', 'anime', 'anime']\n",
            "Accuracy of this fold is:  0.83\n",
            "['science', 'science', 'science', 'science', 'science', 'tennis', 'tennis', 'science', 'science', 'science', 'science', 'science', 'science', 'anime', 'science', 'science', 'science', 'science', 'science', 'science', 'tennis', 'science', 'science', 'science', 'science', 'tennis', 'science', 'science', 'tennis', 'science', 'science', 'science', 'science', 'science', 'tennis', 'science', 'science', 'tennis', 'science', 'science', 'laptop', 'laptop', 'laptop', 'laptop', 'tennis', 'laptop', 'laptop', 'laptop', 'laptop', 'laptop', 'laptop', 'laptop', 'laptop', 'samsung', 'laptop', 'laptop', 'laptop', 'laptop', 'laptop', 'laptop', 'laptop', 'laptop', 'laptop', 'laptop', 'laptop', 'laptop', 'laptop', 'laptop', 'laptop', 'laptop', 'laptop', 'laptop', 'laptop', 'laptop', 'laptop', 'laptop', 'laptop', 'laptop', 'laptop', 'laptop', 'samsung', 'samsung', 'samsung', 'samsung', 'samsung', 'samsung', 'tennis', 'tennis', 'samsung', 'tennis', 'samsung', 'samsung', 'tennis', 'samsung', 'tennis', 'samsung', 'tennis', 'samsung', 'samsung', 'tennis', 'samsung', 'tennis', 'samsung', 'tennis', 'tennis', 'tennis', 'tennis', 'samsung', 'tennis', 'samsung', 'samsung', 'samsung', 'samsung', 'samsung', 'samsung', 'samsung', 'tennis', 'tennis', 'samsung', 'samsung', 'tennis', 'anime', 'tennis', 'tennis', 'anime', 'anime', 'tennis', 'tennis', 'tennis', 'tennis', 'tennis', 'tennis', 'tennis', 'samsung', 'anime', 'tennis', 'anime', 'anime', 'tennis', 'tennis', 'tennis', 'tennis', 'tennis', 'anime', 'anime', 'tennis', 'anime', 'tennis', 'tennis', 'tennis', 'anime', 'tennis', 'tennis', 'tennis', 'anime', 'tennis', 'tennis', 'anime', 'tennis', 'tennis', 'anime', 'anime', 'anime', 'tennis', 'anime', 'science', 'anime', 'anime', 'anime', 'anime', 'tennis', 'anime', 'anime', 'anime', 'anime', 'anime', 'anime', 'anime', 'anime', 'anime', 'anime', 'anime', 'anime', 'anime', 'anime', 'anime', 'anime', 'anime', 'anime', 'anime', 'anime', 'anime', 'anime', 'tennis', 'anime', 'tennis', 'anime', 'anime', 'anime', 'anime']\n",
            "Accuracy of this fold is:  0.785\n",
            "['science', 'science', 'science', 'science', 'tennis', 'science', 'tennis', 'science', 'science', 'science', 'science', 'science', 'science', 'science', 'anime', 'tennis', 'science', 'science', 'science', 'science', 'science', 'science', 'science', 'tennis', 'tennis', 'anime', 'science', 'tennis', 'anime', 'science', 'science', 'science', 'science', 'science', 'science', 'science', 'science', 'science', 'anime', 'science', 'laptop', 'laptop', 'laptop', 'samsung', 'laptop', 'samsung', 'samsung', 'laptop', 'laptop', 'samsung', 'samsung', 'samsung', 'laptop', 'laptop', 'samsung', 'laptop', 'samsung', 'laptop', 'laptop', 'laptop', 'samsung', 'samsung', 'samsung', 'samsung', 'samsung', 'laptop', 'laptop', 'laptop', 'laptop', 'laptop', 'laptop', 'laptop', 'samsung', 'laptop', 'samsung', 'laptop', 'samsung', 'laptop', 'laptop', 'laptop', 'samsung', 'samsung', 'samsung', 'samsung', 'samsung', 'samsung', 'samsung', 'tennis', 'samsung', 'samsung', 'tennis', 'samsung', 'tennis', 'tennis', 'tennis', 'tennis', 'tennis', 'samsung', 'tennis', 'samsung', 'tennis', 'tennis', 'samsung', 'samsung', 'tennis', 'tennis', 'tennis', 'samsung', 'samsung', 'tennis', 'samsung', 'samsung', 'samsung', 'samsung', 'samsung', 'tennis', 'tennis', 'samsung', 'samsung', 'samsung', 'anime', 'science', 'tennis', 'tennis', 'anime', 'tennis', 'anime', 'tennis', 'tennis', 'tennis', 'anime', 'tennis', 'tennis', 'anime', 'tennis', 'anime', 'anime', 'tennis', 'tennis', 'anime', 'tennis', 'tennis', 'anime', 'anime', 'tennis', 'anime', 'tennis', 'tennis', 'anime', 'tennis', 'tennis', 'tennis', 'tennis', 'anime', 'tennis', 'tennis', 'tennis', 'anime', 'anime', 'anime', 'tennis', 'anime', 'anime', 'anime', 'anime', 'anime', 'anime', 'anime', 'anime', 'anime', 'anime', 'anime', 'anime', 'anime', 'anime', 'tennis', 'anime', 'anime', 'anime', 'anime', 'anime', 'anime', 'anime', 'anime', 'anime', 'anime', 'anime', 'anime', 'anime', 'anime', 'anime', 'anime', 'anime', 'anime', 'anime', 'anime', 'anime', 'anime', 'anime', 'anime']\n",
            "Accuracy of this fold is:  0.695\n",
            "['science', 'science', 'tennis', 'science', 'science', 'science', 'tennis', 'science', 'science', 'tennis', 'tennis', 'science', 'science', 'tennis', 'science', 'science', 'anime', 'science', 'science', 'science', 'tennis', 'science', 'science', 'science', 'science', 'science', 'science', 'science', 'science', 'science', 'science', 'science', 'science', 'science', 'science', 'tennis', 'tennis', 'tennis', 'anime', 'samsung', 'laptop', 'samsung', 'laptop', 'samsung', 'laptop', 'laptop', 'laptop', 'samsung', 'samsung', 'laptop', 'laptop', 'samsung', 'laptop', 'laptop', 'samsung', 'laptop', 'laptop', 'laptop', 'laptop', 'laptop', 'laptop', 'laptop', 'laptop', 'samsung', 'laptop', 'laptop', 'laptop', 'samsung', 'laptop', 'samsung', 'laptop', 'laptop', 'laptop', 'laptop', 'samsung', 'laptop', 'samsung', 'samsung', 'laptop', 'samsung', 'samsung', 'samsung', 'tennis', 'samsung', 'tennis', 'samsung', 'samsung', 'tennis', 'tennis', 'tennis', 'tennis', 'samsung', 'tennis', 'samsung', 'tennis', 'tennis', 'samsung', 'tennis', 'tennis', 'tennis', 'tennis', 'tennis', 'samsung', 'samsung', 'tennis', 'tennis', 'samsung', 'tennis', 'tennis', 'tennis', 'samsung', 'samsung', 'samsung', 'tennis', 'samsung', 'tennis', 'samsung', 'tennis', 'samsung', 'tennis', 'anime', 'anime', 'tennis', 'anime', 'anime', 'tennis', 'anime', 'tennis', 'tennis', 'anime', 'tennis', 'anime', 'tennis', 'tennis', 'tennis', 'tennis', 'tennis', 'tennis', 'anime', 'anime', 'anime', 'tennis', 'anime', 'tennis', 'tennis', 'anime', 'anime', 'tennis', 'samsung', 'anime', 'tennis', 'tennis', 'anime', 'tennis', 'tennis', 'anime', 'anime', 'tennis', 'anime', 'anime', 'anime', 'anime', 'anime', 'anime', 'anime', 'anime', 'anime', 'anime', 'anime', 'anime', 'tennis', 'anime', 'anime', 'tennis', 'anime', 'anime', 'anime', 'anime', 'anime', 'anime', 'anime', 'anime', 'anime', 'anime', 'anime', 'anime', 'anime', 'tennis', 'anime', 'anime', 'anime', 'anime', 'anime', 'anime', 'anime', 'anime', 'anime', 'anime', 'anime']\n",
            "Accuracy of this fold is:  0.6582914572864321\n",
            "Time elapsed: 126.22226095199585 s\n"
          ],
          "name": "stdout"
        }
      ]
    },
    {
      "cell_type": "markdown",
      "metadata": {
        "id": "TmmEmgOISWOc"
      },
      "source": [
        "Classification Accuracy vs Vocabulary Size plot"
      ],
      "id": "TmmEmgOISWOc"
    },
    {
      "cell_type": "code",
      "metadata": {
        "id": "MZfQHB8nEufh",
        "colab": {
          "base_uri": "https://localhost:8080/",
          "height": 295
        },
        "outputId": "46562903-0450-44de-e66b-c8b393b8f29d"
      },
      "source": [
        "#Classification Accuracy vs Vocabulary Size plot\r\n",
        "import numpy as np\r\n",
        "import matplotlib.pyplot as plt\r\n",
        "Vocab_Size = np.array([3000,4000,5000,6000,7000,8000,9000,10000,11000,12000,13000,14000,15000,15365]); \r\n",
        "Class_Acc=np.array([0.9069534767383692,0.894447223611806,0.8949474737368684,0.8814407203601801,0.8659329664832416,0.8659329664832416,\r\n",
        "                    0.8659329664832416,0.8549274637318659,0.8044022011005503,0.7708854427213607,0.753376688344172,0.753376688344172,0.753376688344172,0.753376688344172])*100;\r\n",
        "plt.plot(Vocab_Size,Class_Acc,'-*b');plt.xlabel('Vocabulary Size');plt.ylabel('Classfication Accuracy (%)');plt.grid(True);\r\n",
        "plt.title('Classfication Accuracy vs Vocabulary Size');plt.xticks([3000,5000,7000,9000,11000,13000,15000]);plt.ylim([0,100]);"
      ],
      "id": "MZfQHB8nEufh",
      "execution_count": null,
      "outputs": [
        {
          "output_type": "display_data",
          "data": {
            "image/png": "[encoded data removed]",
            "text/plain": [
              "<Figure size 432x288 with 1 Axes>"
            ]
          },
          "metadata": {
            "tags": [],
            "needs_background": "light"
          }
        }
      ]
    },
    {
      "cell_type": "markdown",
      "metadata": {
        "id": "fnP1yXUnSURB"
      },
      "source": [
        "Decision Tree Classification\r\n",
        "- It also includes some pre-processing part"
      ],
      "id": "fnP1yXUnSURB"
    },
    {
      "cell_type": "code",
      "metadata": {
        "id": "matched-instruction",
        "colab": {
          "base_uri": "https://localhost:8080/",
          "height": 631
        },
        "outputId": "7f6145bb-b74b-49fd-fc6d-cd41c45497d9"
      },
      "source": [
        "# Decision Tree Classification ##\n",
        "\n",
        "from sklearn.feature_extraction.text import TfidfVectorizer, CountVectorizer\n",
        "from sklearn.metrics import classification_report\n",
        "from sklearn.model_selection import train_test_split\n",
        "from sklearn.tree import DecisionTreeClassifier\n",
        "from sklearn import tree\n",
        "from sklearn.metrics import confusion_matrix\n",
        "\n",
        "import numpy as np\n",
        "import matplotlib.pyplot as plt\n",
        "       \n",
        "#print(df_cc)\n",
        "# df.head()\n",
        "plt.figure(figsize=(5,4))\n",
        "fig=df.groupby('subreddit').body.count().plot.bar() #storing the bar graph as an object\n",
        "# df.groupby('subreddit').count()\n",
        "#For loop to annotate the bar graph with corresponding y axis values\n",
        "for b in fig.patches:\n",
        "       plt.text(b.get_x()+b.get_width()/5,b.get_height(),int(b.get_height()),va='bottom')\n",
        "plt.ylabel('Number of instances per class');plt.title('Reddit dataset');plt.xticks(rotation='horizontal');plt.show()\n",
        "time_b=time.time() \n",
        "X_train_dt, X_test_dt, y_train_dt, y_test_dt = train_test_split(df['body'], df['subreddit'],random_state=0)\n",
        "vect = CountVectorizer(binary=True)         #Binary representation of input text data\n",
        "X_train_dt = vect.fit_transform(X_train_dt)       #Fit data and transform\n",
        "#print(\"X_train_dt: \\n\",X_train_dt.todense())\n",
        "X_test_dt = vect.transform(X_test_dt)             #Standardize data by Centering and Scaling\n",
        "#print(X_test)\n",
        "dt = DecisionTreeClassifier()\n",
        "dt.fit(X_train_dt, y_train_dt)                    #Model Fit function\n",
        "y_pred_dt = dt.predict(X_test_dt)                 #Predict function\n",
        "print(classification_report(y_test_dt, y_pred_dt))\n",
        "print(confusion_matrix(y_test_dt, y_pred_dt))\n",
        "#len(vect.get_feature_names())\n",
        "print('\\n',np.size(y_pred_dt))\n",
        "time_e = time.time()\n",
        "print('Time elapsed:',time_e-time_b,'s')"
      ],
      "id": "matched-instruction",
      "execution_count": null,
      "outputs": [
        {
          "output_type": "display_data",
          "data": {
            "image/png": "[encoded data removed]",
            "text/plain": [
              "<Figure size 360x288 with 1 Axes>"
            ]
          },
          "metadata": {
            "tags": [],
            "needs_background": "light"
          }
        },
        {
          "output_type": "stream",
          "text": [
            "              precision    recall  f1-score   support\n",
            "\n",
            "       anime       0.78      0.76      0.77       104\n",
            "      laptop       0.84      0.78      0.81       103\n",
            "     samsung       0.75      0.71      0.73        91\n",
            "     science       0.68      0.67      0.68       104\n",
            "      tennis       0.67      0.78      0.72        98\n",
            "\n",
            "    accuracy                           0.74       500\n",
            "   macro avg       0.74      0.74      0.74       500\n",
            "weighted avg       0.74      0.74      0.74       500\n",
            "\n",
            "[[79  1  1 12 11]\n",
            " [ 5 80  8  4  6]\n",
            " [ 5  7 65  6  8]\n",
            " [ 9  2 10 70 13]\n",
            " [ 3  5  3 11 76]]\n",
            "\n",
            " 500\n",
            "Time elapsed: 0.40233349800109863 s\n"
          ],
          "name": "stdout"
        }
      ]
    },
    {
      "cell_type": "markdown",
      "metadata": {
        "id": "TqVsZ3QVSZP4"
      },
      "source": [
        "Dividing the data into four training and test input and outputs and vectorizing it"
      ],
      "id": "TqVsZ3QVSZP4"
    },
    {
      "cell_type": "code",
      "metadata": {
        "id": "qGvoq8-DxZJV",
        "colab": {
          "base_uri": "https://localhost:8080/",
          "height": 338
        },
        "outputId": "8b0342be-5e86-46fa-9e18-040431cb686f"
      },
      "source": [
        "## Dividing the data into four train and test input and outputs and vectorizing it ##\r\n",
        "\r\n",
        "from sklearn.feature_extraction.text import CountVectorizer\r\n",
        "from sklearn.model_selection import train_test_split\r\n",
        "\r\n",
        "X_train, X_test, Y_train, Y_test = train_test_split(Comment,Subreddit,test_size = 0.25 ,train_size = None,shuffle = True)\r\n",
        "\r\n",
        "#print(X_train)\r\n",
        "#print(Y_train)\r\n",
        "#print(X_test)\r\n",
        "\r\n",
        "vect = CountVectorizer(encoding='unicode_escape')\r\n",
        "X_train = vect.fit_transform(X_train)\r\n",
        "X_test = vect.transform(X_test)\r\n",
        "\r\n",
        "print(\"X_train: \\n\",X_train.todense())\r\n",
        "\r\n",
        "print(\"\\nX_test: \\n\",X_test.todense())\r\n",
        "\r\n",
        "#Input from test.csv file\r\n",
        "test_X = vect.transform(test_Comment)\r\n",
        "#print(test_X)\r\n",
        "\r\n",
        "'''\r\n",
        "vectors_train = vectorizer.fit_transform(X_train)\r\n",
        "features = vectorizer.get_feature_names()\r\n",
        "print(features)               # Feautre items list is printed\r\n",
        "print(len(features))\r\n",
        "''' "
      ],
      "id": "qGvoq8-DxZJV",
      "execution_count": null,
      "outputs": [
        {
          "output_type": "stream",
          "text": [
            "X_train: \n",
            " [[0 0 0 ... 0 0 0]\n",
            " [0 0 0 ... 0 0 0]\n",
            " [0 0 0 ... 0 0 0]\n",
            " ...\n",
            " [0 0 0 ... 0 0 0]\n",
            " [0 0 0 ... 0 0 0]\n",
            " [0 0 0 ... 0 0 0]]\n",
            "\n",
            "X_test: \n",
            " [[0 0 0 ... 0 0 0]\n",
            " [0 0 0 ... 0 0 0]\n",
            " [0 0 0 ... 0 0 0]\n",
            " ...\n",
            " [0 0 0 ... 0 0 0]\n",
            " [0 0 0 ... 0 0 0]\n",
            " [0 0 0 ... 0 0 0]]\n"
          ],
          "name": "stdout"
        },
        {
          "output_type": "execute_result",
          "data": {
            "application/vnd.google.colaboratory.intrinsic+json": {
              "type": "string"
            },
            "text/plain": [
              "'\\nvectors_train = vectorizer.fit_transform(X_train)\\nfeatures = vectorizer.get_feature_names()\\nprint(features)               # Feautre items list is printed\\nprint(len(features))\\n'"
            ]
          },
          "metadata": {
            "tags": []
          },
          "execution_count": 12
        }
      ]
    },
    {
      "cell_type": "markdown",
      "metadata": {
        "id": "EahJAO4fSbm2"
      },
      "source": [
        "Applying TF-IDF to data\r\n",
        "- Can be used for feature selection for all the models."
      ],
      "id": "EahJAO4fSbm2"
    },
    {
      "cell_type": "code",
      "metadata": {
        "id": "YMrbefgTf3uW",
        "colab": {
          "base_uri": "https://localhost:8080/"
        },
        "outputId": "bbf05818-ff8a-4459-d8f0-e5979333873a"
      },
      "source": [
        "## Applying TF-IDF to data ##\r\n",
        "\r\n",
        "from sklearn.feature_extraction.text import TfidfVectorizer\r\n",
        "from sklearn.feature_extraction.text import CountVectorizer\r\n",
        "\r\n",
        "dataset = {\"I enjoy reading about Machine Learning and Machine Learning is my PhD subject\",\r\n",
        "    \"I would enjoy a walk in the park\",\r\n",
        "    \"I was reading in the library\"}\r\n",
        "\r\n",
        "#def tokens(x):\r\n",
        "  #return x.split(',')\r\n",
        "\r\n",
        "#The following dataset split has been done again in order to avoid confusion with X_train variable which is already vectorized.\r\n",
        "X_train_t, X_test_t, Y_train_t, Y_test_t = train_test_split(Comment,Subreddit,test_size = 0.25 ,train_size = None,shuffle = True)\r\n",
        "tf_idf_vectorizer = TfidfVectorizer(encoding='unicode_escape', max_features=3000)\r\n",
        "\r\n",
        "vectors_train_idf = tf_idf_vectorizer.fit_transform(X_train_t)\r\n",
        "X_tfidf = vectors_train_idf.todense()\r\n",
        "print(X_tfidf)\r\n",
        "# #vectors_test_idf = tf_idf_vectorizer.transform(X_test)\r\n",
        "# print(vectors_train_idf.todense())\r\n",
        "# #print(vectors_train_idf.toarray())\r\n",
        "\r\n",
        "# import pandas as pd\r\n",
        "# from google.colab import files\r\n",
        "\r\n",
        "# df_tfidf = pd.DataFrame(vectors_train_idf.todense())       #Storing the predicted results in the panda dataframe\r\n",
        "# print(df_tfidf)  \r\n",
        "\r\n",
        "# df_tfidf.to_csv('tfidf.csv')                                           #Storing panda dataframe into .csv file\r\n",
        "# files.download('tfidf.csv')                                       #Downloading the csv file"
      ],
      "id": "YMrbefgTf3uW",
      "execution_count": null,
      "outputs": [
        {
          "output_type": "stream",
          "text": [
            "[[0. 0. 0. ... 0. 0. 0.]\n",
            " [0. 0. 0. ... 0. 0. 0.]\n",
            " [0. 0. 0. ... 0. 0. 0.]\n",
            " ...\n",
            " [0. 0. 0. ... 0. 0. 0.]\n",
            " [0. 0. 0. ... 0. 0. 0.]\n",
            " [0. 0. 0. ... 0. 0. 0.]]\n"
          ],
          "name": "stdout"
        }
      ]
    },
    {
      "cell_type": "markdown",
      "metadata": {
        "id": "w3hRBFUSSd_m"
      },
      "source": [
        "Applying the SVM to the model"
      ],
      "id": "w3hRBFUSSd_m"
    },
    {
      "cell_type": "code",
      "metadata": {
        "id": "FXbP8CQ8xgal",
        "colab": {
          "base_uri": "https://localhost:8080/",
          "height": 86
        },
        "outputId": "7d78c4cd-7c08-4b09-eb08-ee39bcc6997f"
      },
      "source": [
        "## Applying Support Vector Machine to the model ##\r\n",
        "from sklearn.svm import SVC \r\n",
        "\r\n",
        "time_b=time.time()\r\n",
        "model = SVC(kernel = \"linear\")\r\n",
        "model.fit(X_train,Y_train)\r\n",
        "\r\n",
        "#Testing on the test dataset\r\n",
        "predictions = model.predict(X_test)\r\n",
        "#predictions = model.predict(X_train)\r\n",
        "accuracy = (predictions == Y_test).mean()\r\n",
        "#accuracy = (predictions == Y_train).mean()\r\n",
        "\r\n",
        "print(accuracy)\r\n",
        "#model.score(X_test, Y_test)\r\n",
        "#model.score(X_train, Y_train)\r\n",
        "\r\n",
        "#Getting o/p of test.csv data set\r\n",
        "predict_test = model.predict(test_X)\r\n",
        "print(predict_test)\r\n",
        "time_e = time.time()\r\n",
        "print('Time elapsed:',time_e-time_b,'s')\r\n",
        "\r\n",
        "'''\r\n",
        "Ouput of SVM\r\n",
        "For test_set = 0.75 the Acc = 76.5\r\n",
        "For test_set = 0.1 the Acc = 91\r\n",
        "For test_set = 0.25 the Acc = 89\r\n",
        "'''"
      ],
      "id": "FXbP8CQ8xgal",
      "execution_count": null,
      "outputs": [
        {
          "output_type": "stream",
          "text": [
            "0.872\n",
            "['science' 'tennis' 'science' ... 'anime' 'anime' 'anime']\n",
            "Time elapsed: 2.022397041320801 s\n"
          ],
          "name": "stdout"
        },
        {
          "output_type": "execute_result",
          "data": {
            "application/vnd.google.colaboratory.intrinsic+json": {
              "type": "string"
            },
            "text/plain": [
              "'\\nOuput of SVM\\nFor test_set = 0.75 the Acc = 76.5\\nFor test_set = 0.1 the Acc = 91\\nFor test_set = 0.25 the Acc = 89\\n'"
            ]
          },
          "metadata": {
            "tags": []
          },
          "execution_count": 14
        }
      ]
    },
    {
      "cell_type": "markdown",
      "metadata": {
        "id": "eQ8UMsXVSgDb"
      },
      "source": [
        "Applying the random forest"
      ],
      "id": "eQ8UMsXVSgDb"
    },
    {
      "cell_type": "code",
      "metadata": {
        "id": "XM46XUFWNxr3",
        "colab": {
          "base_uri": "https://localhost:8080/"
        },
        "outputId": "58f56c5b-f2f4-4a2e-ae66-50879fa2ba30"
      },
      "source": [
        "## Applying Random forest classifier##\r\n",
        "\r\n",
        "from sklearn.ensemble import RandomForestClassifier\r\n",
        "time_b=time.time()\r\n",
        "clf = RandomForestClassifier()\r\n",
        "clf.fit(X_train,Y_train)\r\n",
        "predictions = clf.predict(X_test)\r\n",
        "accuracy = (predictions == Y_test).mean()\r\n",
        "print(accuracy)\r\n",
        "time_e = time.time()\r\n",
        "print('Time elapsed:',time_e-time_b,'s')"
      ],
      "id": "XM46XUFWNxr3",
      "execution_count": null,
      "outputs": [
        {
          "output_type": "stream",
          "text": [
            "0.872\n",
            "Time elapsed: 1.1851353645324707 s\n"
          ],
          "name": "stdout"
        }
      ]
    },
    {
      "cell_type": "markdown",
      "metadata": {
        "id": "3V1TYKfjSh7t"
      },
      "source": [
        "Applying Logistic Regression"
      ],
      "id": "3V1TYKfjSh7t"
    },
    {
      "cell_type": "code",
      "metadata": {
        "id": "Rxq_eHTK9zQz",
        "colab": {
          "base_uri": "https://localhost:8080/",
          "height": 333
        },
        "outputId": "a0e42a23-c9b1-4541-c65e-ebcdfcc5d4cc"
      },
      "source": [
        "## Applying Logistic Regression ##\r\n",
        "\r\n",
        "from sklearn.linear_model import LogisticRegression\r\n",
        "from sklearn.model_selection import train_test_split\r\n",
        "\r\n",
        "time_b=time.time()\r\n",
        "#Trying to determine the optimal value of C (regularization factor)\r\n",
        "#C_values = np.logspace(-3, -1., 10) # smaller C = stronger regularization\r\n",
        "C_values = np.array([0.00001,0.0001,0.001,0.002,0.003,0.004,0.005,0.006,0.007,0.008,0.009,0.01,0.02],dtype=float)\r\n",
        "C_perf = []\r\n",
        "# print(\"Regularization strengths:\", C_values)\r\n",
        "for C in C_values:  \r\n",
        "  model = LogisticRegression(C=C, random_state=0)\r\n",
        "  model.fit(X_train, Y_train)  \r\n",
        "  test_pred = model.predict(X_test)\r\n",
        "  C_perf.append((test_pred == Y_test).mean())\r\n",
        "\r\n",
        "# plt.xlabel('C')\r\n",
        "# plt.ylabel('Performance on test set')\r\n",
        "# plt.plot(C_values, C_perf)\r\n",
        "'''\r\n",
        "LR_model = LogisticRegression(max_iter = 1000, random_state=0)\r\n",
        "LR_model.fit(X_train, Y_train)\r\n",
        "\r\n",
        "LR_predict = LR_model.predict(X_test)\r\n",
        "LR_accuracy = (LR_predict == Y_test).mean()\r\n",
        "print(\"Accuracy of LR model = \", LR_accuracy)\r\n",
        "'''\r\n",
        "time_e = time.time()\r\n",
        "print('Time elapsed:',time_e-time_b,'s')"
      ],
      "id": "Rxq_eHTK9zQz",
      "execution_count": null,
      "outputs": [
        {
          "output_type": "stream",
          "text": [
            "Regularization strengths: [1.e-05 1.e-04 1.e-03 2.e-03 3.e-03 4.e-03 5.e-03 6.e-03 7.e-03 8.e-03\n",
            " 9.e-03 1.e-02 2.e-02]\n",
            "Time elapsed: 13.876465082168579 s\n"
          ],
          "name": "stdout"
        },
        {
          "output_type": "display_data",
          "data": {
            "image/png": "[encoded data removed]",
            "text/plain": [
              "<Figure size 432x288 with 1 Axes>"
            ]
          },
          "metadata": {
            "tags": [],
            "needs_background": "light"
          }
        }
      ]
    },
    {
      "cell_type": "code",
      "metadata": {
        "id": "FVGO2sgTzuob",
        "colab": {
          "base_uri": "https://localhost:8080/",
          "height": 350
        },
        "outputId": "550be949-6de6-4cc4-c313-0d592e032c1d"
      },
      "source": [
        "#Trying to determine the optimal value of random state\r\n",
        "\r\n",
        "from sklearn.linear_model import LogisticRegression\r\n",
        "\r\n",
        "a_list = list(range(0, 50))\r\n",
        "C_performance = []\r\n",
        "random_state = []\r\n",
        "#print(a_list)\r\n",
        "\r\n",
        "for i in range(0,50,1):  \r\n",
        "  model = LogisticRegression(C=0.00001, random_state=i)\r\n",
        "  model.fit(X_train, Y_train)  \r\n",
        "  test_pred = model.predict(X_test)\r\n",
        "  C_performance.append((test_pred == Y_test).mean())\r\n",
        "  random_state.append(i)\r\n",
        "\r\n",
        "# print(C_performance)\r\n",
        "# print(random_state)\r\n",
        "\r\n",
        "# plt.xlabel('Random state')\r\n",
        "# plt.ylabel('Performance on test set')\r\n",
        "# plt.plot(random_state, C_performance)"
      ],
      "id": "FVGO2sgTzuob",
      "execution_count": null,
      "outputs": [
        {
          "output_type": "stream",
          "text": [
            "[0.296, 0.296, 0.296, 0.296, 0.296, 0.296, 0.296, 0.296, 0.296, 0.296, 0.296, 0.296, 0.296, 0.296, 0.296, 0.296, 0.296, 0.296, 0.296, 0.296, 0.296, 0.296, 0.296, 0.296, 0.296, 0.296, 0.296, 0.296, 0.296, 0.296, 0.296, 0.296, 0.296, 0.296, 0.296, 0.296, 0.296, 0.296, 0.296, 0.296, 0.296, 0.296, 0.296, 0.296, 0.296, 0.296, 0.296, 0.296, 0.296, 0.296]\n",
            "[0, 1, 2, 3, 4, 5, 6, 7, 8, 9, 10, 11, 12, 13, 14, 15, 16, 17, 18, 19, 20, 21, 22, 23, 24, 25, 26, 27, 28, 29, 30, 31, 32, 33, 34, 35, 36, 37, 38, 39, 40, 41, 42, 43, 44, 45, 46, 47, 48, 49]\n"
          ],
          "name": "stdout"
        },
        {
          "output_type": "execute_result",
          "data": {
            "text/plain": [
              "[<matplotlib.lines.Line2D at 0x7f4ce5dd4b50>]"
            ]
          },
          "metadata": {
            "tags": []
          },
          "execution_count": 17
        },
        {
          "output_type": "display_data",
          "data": {
            "image/png": "[encoded data removed]",
            "text/plain": [
              "<Figure size 432x288 with 1 Axes>"
            ]
          },
          "metadata": {
            "tags": [],
            "needs_background": "light"
          }
        }
      ]
    },
    {
      "cell_type": "markdown",
      "metadata": {
        "id": "FX-g13RWSnUz"
      },
      "source": [
        "Applying Neural Network Classifier"
      ],
      "id": "FX-g13RWSnUz"
    },
    {
      "cell_type": "code",
      "metadata": {
        "id": "yCqGHANfylq6",
        "colab": {
          "base_uri": "https://localhost:8080/",
          "height": 102
        },
        "outputId": "11cfc508-6922-4da2-ad3b-f94fbcb5a945"
      },
      "source": [
        "## Applying the NN ##\r\n",
        "from sklearn.neural_network import MLPClassifier\r\n",
        "\r\n",
        "time_b=time.time()\r\n",
        "#Can be experiment with different activation functions, and other parameters\r\n",
        "#clf = MLPClassifier(hidden_layer_sizes = 2, activation = 'logistic', slover = 'sgd', learning_rate = 'adaptive')\r\n",
        "#clf = MLPClassifier()\r\n",
        "clf = MLPClassifier(random_state=1, max_iter=3000)\r\n",
        "#clf = MLPClassifier(solver='lbfgs', alpha=1e-5,hidden_layer_sizes=100, random_state=1)\r\n",
        "clf.fit(X_train,Y_train)\r\n",
        "\r\n",
        "predictions = clf.predict(X_test)\r\n",
        "\r\n",
        "accuracy = (predictions == Y_test).mean()\r\n",
        "print(accuracy)\r\n",
        "\r\n",
        "#Predicting the o/p for the test.csv dataset\r\n",
        "predict_test = clf.predict(test_X)\r\n",
        "print(predict_test)\r\n",
        "time_e = time.time()\r\n",
        "print('Time elapsed:',time_e-time_b,'s')\r\n",
        "'''\r\n",
        "- For direct MLPClassifier without any argument, at test = 0.25 the output was 90.4 %\r\n",
        "- For same direct MLP at test 0.1 we have 93%\r\n",
        "- For (random_state=1, max_iter=3000) we are getting the accuracy of the 92.8%\r\n",
        "'''"
      ],
      "id": "yCqGHANfylq6",
      "execution_count": null,
      "outputs": [
        {
          "output_type": "stream",
          "text": [
            "0.91\n",
            "['science' 'science' 'science' ... 'anime' 'anime' 'anime']\n",
            "Time elapsed: 17.851667881011963 s\n"
          ],
          "name": "stdout"
        },
        {
          "output_type": "execute_result",
          "data": {
            "application/vnd.google.colaboratory.intrinsic+json": {
              "type": "string"
            },
            "text/plain": [
              "'\\n- For direct MLPClassifier without any argument, at test = 0.25 the output was 90.4 %\\n- For same direct MLP at test 0.1 we have 93%\\n- For (random_state=1, max_iter=3000) we are getting the accuracy of the 92.8%\\n'"
            ]
          },
          "metadata": {
            "tags": []
          },
          "execution_count": 18
        }
      ]
    },
    {
      "cell_type": "markdown",
      "metadata": {
        "id": "SbfAA7gRSqMX"
      },
      "source": [
        "SVM with SGD"
      ],
      "id": "SbfAA7gRSqMX"
    },
    {
      "cell_type": "code",
      "metadata": {
        "id": "YX25hawdyMRq",
        "colab": {
          "base_uri": "https://localhost:8080/"
        },
        "outputId": "62bcd014-4db1-4f04-d61d-9d525106ad64"
      },
      "source": [
        "# SVM with SGD #\r\n",
        "\r\n",
        "from sklearn.linear_model import SGDClassifier\r\n",
        "from sklearn.preprocessing import StandardScaler\r\n",
        "from sklearn.pipeline import make_pipeline\r\n",
        "\r\n",
        "time_b=time.time()\r\n",
        "#sgd = make_pipeline(StandardScaler(with_mean=False), SGDClassifier())\r\n",
        "sgd = SGDClassifier()\r\n",
        "sgd.fit(X_train,Y_train)\r\n",
        "\r\n",
        "predictions = sgd.predict(X_test)\r\n",
        "\r\n",
        "accuracy = (predictions == Y_test).mean()\r\n",
        "print(accuracy)\r\n",
        "time_e = time.time()\r\n",
        "print('Time elapsed:',time_e-time_b,'s')"
      ],
      "id": "YX25hawdyMRq",
      "execution_count": null,
      "outputs": [
        {
          "output_type": "stream",
          "text": [
            "0.88\n",
            "Time elapsed: 0.0360569953918457 s\n"
          ],
          "name": "stdout"
        }
      ]
    },
    {
      "cell_type": "code",
      "metadata": {
        "id": "nYapL2_Gz9wL",
        "colab": {
          "base_uri": "https://localhost:8080/",
          "height": 269
        },
        "outputId": "2745c5de-7488-416b-b270-21d9650b7cf7"
      },
      "source": [
        "#Storing the results in excel sheet\r\n",
        "\r\n",
        "import pandas as pd\r\n",
        "from google.colab import files\r\n",
        "\r\n",
        "df2 = pd.DataFrame(predict_test,test_id, columns = ['subreddit'])       #Storing the predicted results in the panda dataframe\r\n",
        "print(df2)  \r\n",
        "\r\n",
        "df2.to_csv('submission.csv')                                           #Storing panda dataframe into .csv file\r\n",
        "files.download('submission.csv')                                       #Downloading the csv file"
      ],
      "id": "nYapL2_Gz9wL",
      "execution_count": null,
      "outputs": [
        {
          "output_type": "stream",
          "text": [
            "     subreddit\n",
            "id            \n",
            "0      science\n",
            "1      science\n",
            "2      science\n",
            "3      science\n",
            "4      science\n",
            "...        ...\n",
            "1373     anime\n",
            "1374     anime\n",
            "1375     anime\n",
            "1376     anime\n",
            "1377     anime\n",
            "\n",
            "[1378 rows x 1 columns]\n"
          ],
          "name": "stdout"
        },
        {
          "output_type": "display_data",
          "data": {
            "application/javascript": [
              "\n",
              "    async function download(id, filename, size) {\n",
              "      if (!google.colab.kernel.accessAllowed) {\n",
              "        return;\n",
              "      }\n",
              "      const div = document.createElement('div');\n",
              "      const label = document.createElement('label');\n",
              "      label.textContent = `Downloading \"${filename}\": `;\n",
              "      div.appendChild(label);\n",
              "      const progress = document.createElement('progress');\n",
              "      progress.max = size;\n",
              "      div.appendChild(progress);\n",
              "      document.body.appendChild(div);\n",
              "\n",
              "      const buffers = [];\n",
              "      let downloaded = 0;\n",
              "\n",
              "      const channel = await google.colab.kernel.comms.open(id);\n",
              "      // Send a message to notify the kernel that we're ready.\n",
              "      channel.send({})\n",
              "\n",
              "      for await (const message of channel.messages) {\n",
              "        // Send a message to notify the kernel that we're ready.\n",
              "        channel.send({})\n",
              "        if (message.buffers) {\n",
              "          for (const buffer of message.buffers) {\n",
              "            buffers.push(buffer);\n",
              "            downloaded += buffer.byteLength;\n",
              "            progress.value = downloaded;\n",
              "          }\n",
              "        }\n",
              "      }\n",
              "      const blob = new Blob(buffers, {type: 'application/binary'});\n",
              "      const a = document.createElement('a');\n",
              "      a.href = window.URL.createObjectURL(blob);\n",
              "      a.download = filename;\n",
              "      div.appendChild(a);\n",
              "      a.click();\n",
              "      div.remove();\n",
              "    }\n",
              "  "
            ],
            "text/plain": [
              "<IPython.core.display.Javascript object>"
            ]
          },
          "metadata": {
            "tags": []
          }
        },
        {
          "output_type": "display_data",
          "data": {
            "application/javascript": [
              "download(\"download_7eb1a150-afdc-4d2b-af51-d1cb999b7101\", \"submission2.csv\", 15664)"
            ],
            "text/plain": [
              "<IPython.core.display.Javascript object>"
            ]
          },
          "metadata": {
            "tags": []
          }
        }
      ]
    },
    {
      "cell_type": "markdown",
      "metadata": {
        "id": "Rn7ocgHMjSPA"
      },
      "source": [
        "Scikit Bernoulli Naive Bayes vs Bernoulli Naive Bayes model built from scratch."
      ],
      "id": "Rn7ocgHMjSPA"
    },
    {
      "cell_type": "code",
      "metadata": {
        "id": "l891wFRy0Ugl",
        "colab": {
          "base_uri": "https://localhost:8080/"
        },
        "outputId": "5667740e-8d5e-4d78-a710-0391ff7983dd"
      },
      "source": [
        "#Scikit Based Naive Bayes Text Classification\r\n",
        "\r\n",
        "from sklearn.feature_extraction.text import CountVectorizer\r\n",
        "from sklearn.model_selection import train_test_split\r\n",
        "from sklearn.naive_bayes import BernoulliNB\r\n",
        "X_BNBtr, X_BNBtst, y_BNBtr, y_BNBtst = train_test_split(df['body'], df['subreddit'],train_size=0.75,random_state=42,shuffle=True)  \r\n",
        "bnb_vect = CountVectorizer(binary=True, max_features=3000)       #Binary representation of input text data\r\n",
        "X_BNBtr = bnb_vect.fit_transform(X_BNBtr)     #Fit data and transform\r\n",
        "#print(X_BNBtr)\r\n",
        "X_BNBtst = bnb_vect.transform(X_BNBtst)       #Standardize data by Centering and Scaling\r\n",
        "#print(X_BNBtst)\r\n",
        "bnb = BernoulliNB()\r\n",
        "bnb.fit(X_BNBtr, y_BNBtr)                     #Model Fit function\r\n",
        "y_BNBpred = bnb.predict(X_BNBtst)             #Predict Function\r\n",
        "#print('\\n',np.size(y_BNBpred))\r\n",
        "bnb_accuracy = (y_BNBpred == y_BNBtst).mean() #Accuracy Evaluation\r\n",
        "print('Accuracy :',bnb_accuracy*100,'%')\r\n",
        "#print(X_BNBtr)"
      ],
      "id": "l891wFRy0Ugl",
      "execution_count": null,
      "outputs": [
        {
          "output_type": "stream",
          "text": [
            "Accuracy : 84.0 %\n"
          ],
          "name": "stdout"
        }
      ]
    },
    {
      "cell_type": "markdown",
      "metadata": {
        "id": "WPDDNMZmS8ya"
      },
      "source": [
        "Spot-Check Algorithms\r\n",
        "- It is used to do Kfold on all Sci-Kit Models, and running it will give the accuracy and time period to implement k-fold for a particular model."
      ],
      "id": "WPDDNMZmS8ya"
    },
    {
      "cell_type": "code",
      "metadata": {
        "id": "UMzh-SYzctrV",
        "colab": {
          "base_uri": "https://localhost:8080/"
        },
        "outputId": "cd43c388-5e53-4684-b140-b8257371f0ff"
      },
      "source": [
        "# Spot-Check Algorithms\r\n",
        "\r\n",
        "from sklearn.model_selection import KFold\r\n",
        "from sklearn.model_selection import train_test_split\r\n",
        "from sklearn.model_selection import cross_val_score\r\n",
        "from sklearn.metrics import accuracy_score\r\n",
        "from sklearn.pipeline import Pipeline\r\n",
        "from sklearn.linear_model import LogisticRegression\r\n",
        "from sklearn.tree import DecisionTreeClassifier\r\n",
        "from sklearn.neural_network import MLPClassifier\r\n",
        "from sklearn.naive_bayes import BernoulliNB\r\n",
        "from sklearn.svm import SVC\r\n",
        "\r\n",
        "classifiers = []\r\n",
        "classifiers.append(('LR', LogisticRegression()))\r\n",
        "classifiers.append(('NN', MLPClassifier()))\r\n",
        "classifiers.append(('DT', DecisionTreeClassifier()))\r\n",
        "#classifiers.append(('NB', BernoulliNB()))\r\n",
        "classifiers.append(('SVM', SVC()))\r\n",
        "classifiers.append(('RF', RandomForestClassifier()))\r\n",
        "\r\n",
        "#Testing accuracy of K-fold validation on above models\r\n",
        "results = []\r\n",
        "names = []\r\n",
        "for name, model in classifiers:\r\n",
        "  time_b=time.time()\r\n",
        "  kfold = KFold(n_splits = 10,shuffle=True,random_state = 42)\r\n",
        "  # cv_result = cross_val_score(model, X_train, Y_train, cv=kfold, scoring='accuracy') #Enable CountVectorizer(binary=True)\r\n",
        "  # cv_result = cross_val_score(model, X_train, Y_train, cv=kfold, scoring='accuracy')   #Enable CountVectorizer(binary=False)\r\n",
        "  cv_result = cross_val_score(model, vectors_train_idf, Y_train_t, cv=kfold, scoring='accuracy')   #Tf-IDF Vectorizer\r\n",
        "  results.append(cv_result)\r\n",
        "  names.append(name)\r\n",
        "  msg = \"%s: %f (%f)\" % (name, cv_result.mean(), cv_result.std())\r\n",
        "  print(msg)\r\n",
        "  time_e = time.time()\r\n",
        "  print('\\nTime elapsed:',time_e-time_b,'s\\n')  "
      ],
      "id": "UMzh-SYzctrV",
      "execution_count": null,
      "outputs": [
        {
          "output_type": "stream",
          "text": [
            "LR: 0.914609 (0.011478)\n",
            "\n",
            "Time elapsed: 4.664604663848877 s\n",
            "\n",
            "NN: 0.911280 (0.013646)\n",
            "\n",
            "Time elapsed: 115.32775378227234 s\n",
            "\n",
            "DT: 0.712465 (0.033608)\n",
            "\n",
            "Time elapsed: 1.6163709163665771 s\n",
            "\n",
            "SVM: 0.913955 (0.011646)\n",
            "\n",
            "Time elapsed: 16.069931507110596 s\n",
            "\n",
            "RF: 0.874582 (0.021047)\n",
            "\n",
            "Time elapsed: 8.62175965309143 s\n",
            "\n"
          ],
          "name": "stdout"
        }
      ]
    },
    {
      "cell_type": "code",
      "metadata": {
        "id": "mlO4qAek592W",
        "colab": {
          "base_uri": "https://localhost:8080/"
        },
        "outputId": "3e1b10dc-85c1-497e-e1ad-23b62427bd82"
      },
      "source": [
        "#Plotting confusion matrix for LR model\r\n",
        "\r\n",
        "from sklearn.linear_model import LogisticRegression\r\n",
        "from sklearn.metrics import confusion_matrix\r\n",
        "from sklearn.metrics import roc_curve\r\n",
        "from sklearn.metrics import roc_auc_score\r\n",
        "from matplotlib import pyplot\r\n",
        "\r\n",
        "LR_model = LogisticRegression(max_iter = 1000, random_state=0)\r\n",
        "LR_model.fit(X_train, Y_train)\r\n",
        "LR_score = LR_model.score(X_test,Y_test)\r\n",
        "print(\"Accuracy from score method of LR model = \", LR_score)\r\n",
        "LR_predict = LR_model.predict(X_test)\r\n",
        "LR_accuracy = (LR_predict == Y_test).mean()\r\n",
        "print(\"Accuracy of LR model = \", LR_accuracy)    \r\n",
        "print(\"\\nConfusion Matrix of LR model\\n\",confusion_matrix(Y_test, LR_predict))"
      ],
      "id": "mlO4qAek592W",
      "execution_count": null,
      "outputs": [
        {
          "output_type": "stream",
          "text": [
            "Accuracy from score method of LR model =  0.894\n",
            "Accuracy of LR model =  0.894\n",
            "\n",
            "Confusion Matrix of LR model\n",
            " [[ 83   0   3   6   6]\n",
            " [  0  98   2   2   1]\n",
            " [  1   6  84   5   1]\n",
            " [  3   0   2 101   5]\n",
            " [  2   1   2   5  81]]\n"
          ],
          "name": "stdout"
        }
      ]
    },
    {
      "cell_type": "markdown",
      "metadata": {
        "id": "lzCHD2ov-CFx"
      },
      "source": [
        "---\r\n",
        "# **CODE ENDS**\r\n",
        "---"
      ],
      "id": "lzCHD2ov-CFx"
    }
  ]
}